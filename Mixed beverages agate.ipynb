{
 "cells": [
  {
   "cell_type": "markdown",
   "metadata": {
    "deletable": true,
    "editable": true
   },
   "source": [
    "# Processing mixed beverage data\n",
    "This Jupyter Notebook uses curl down download [Mixed Beverage Gross Receipts](https://comptroller.texas.gov/taxes/mixed-beverage/receipts.php) files from the Texas Comptroller's [data center](https://comptroller.texas.gov/transparency/open-data/search-datasets/), and then a python library called [agate](http://agate.readthedocs.io/) to clean and process that data for [stories similar to this one](http://www.mystatesman.com/business/austin-alcohol-sales-percent-february/Oo2txZUkuDlqBl0rU9O1lJ/) on monthly alcohol sales.\n",
    "\n",
    "This first part uses bash (which talks to the macOS) and curl to download the file we need.\n",
    "\n",
    "- [Top sales statewide](#Top-sales-statewide)\n",
    "- [Austin sales](#Austin-sales-and-sums)\n",
    "- [Central Texas cities](#More-Central-Texas-cities)\n",
    "\n"
   ]
  },
  {
   "cell_type": "markdown",
   "metadata": {
    "deletable": true,
    "editable": true
   },
   "source": [
    "### Downloading the file"
   ]
  },
  {
   "cell_type": "code",
   "execution_count": 1,
   "metadata": {
    "collapsed": false,
    "deletable": true,
    "editable": true
   },
   "outputs": [],
   "source": [
    "%%bash\n",
    "## downloads the mixedbev file\n",
    "## You have to set this URL based on the data center\n",
    "## curl -O https://comptroller.texas.gov/auto-data/odc/MIXEDBEV_04_2017.CSV"
   ]
  },
  {
   "cell_type": "markdown",
   "metadata": {
    "deletable": true,
    "editable": true
   },
   "source": [
    "\n",
    "There is supposedly a way to call a file from a [remote url](http://agate-remote.readthedocs.io/en/0.2.0/) into agate, but I use bash above to curl the file and store it locally instead.\n",
    "\n",
    "Next, we'll use a bash command to peek at the data, which we know is a mess:"
   ]
  },
  {
   "cell_type": "code",
   "execution_count": 2,
   "metadata": {
    "collapsed": false,
    "deletable": true,
    "editable": true
   },
   "outputs": [
    {
     "name": "stdout",
     "output_type": "stream",
     "text": [
      "\"MB821424    \",\"ABI-HAUS                      \",\"959 N 2ND ST                  \",\"ABILENE             \",\"TX\",\"79601\",\"221\",\"          \",\"2017/02\", 000000632.34\r\n",
      "\"MB638028    \",\"ABILENE BEEHIVE INC           \",\"442 CEDAR ST STE A            \",\"ABILENE             \",\"TX\",\"79601\",\"221\",\"          \",\"2017/03\", 000002472.16\r\n",
      "\"MB543114    \",\"ABILENE BOWLING LANES INC     \",\"279 RUIDOSA AVE               \",\"ABILENE             \",\"TX\",\"79605\",\"221\",\"          \",\"2017/03\", 000000295.67\r\n",
      "\"MB933130    \",\"ABILENE CABARET LLC           \",\"1918 BUTTERNUT ST             \",\"ABILENE             \",\"TX\",\"79602\",\"221\",\"          \",\"2017/03\", 000000806.34\r\n",
      "\"N 037863    \",\"ABILENE COUNTRY CLUB          \",\"4039 S TREADAWAY BLVD         \",\"ABILENE             \",\"TX\",\"79602\",\"221\",\"          \",\"2017/03\", 000001583.54\r\n"
     ]
    }
   ],
   "source": [
    "%%bash\n",
    "head -n 5 MIXEDBEV_04_2017.CSV"
   ]
  },
  {
   "cell_type": "markdown",
   "metadata": {
    "deletable": true,
    "editable": true
   },
   "source": [
    "Now that we have our file and know what it looks like, we'll use Python and the agate library to clean and analyze it. You'll need to make sure that you have agate installed, preferably in an virtual environment like Conda, as described in the [ReadMe](README.md)."
   ]
  },
  {
   "cell_type": "code",
   "execution_count": 3,
   "metadata": {
    "collapsed": false,
    "deletable": true,
    "editable": true
   },
   "outputs": [
    {
     "name": "stderr",
     "output_type": "stream",
     "text": [
      "/Users/christian/anaconda/envs/mixbev/lib/python3.6/json/encoder.py:199: DeprecationWarning: Interpreting naive datetime as local 2017-11-16 22:06:25.619706. Please add timezone info to timestamps.\n"
     ]
    }
   ],
   "source": [
    "# imports the libraries we will use\n",
    "import agate\n",
    "from decimal import Decimal\n",
    "import re"
   ]
  },
  {
   "cell_type": "code",
   "execution_count": 4,
   "metadata": {
    "collapsed": false,
    "deletable": true,
    "editable": true
   },
   "outputs": [],
   "source": [
    "# this surpresses the timezone warning\n",
    "# Might comment out during development so other warnings\n",
    "# are not surpressed\n",
    "import warnings\n",
    "warnings.filterwarnings('ignore')"
   ]
  },
  {
   "cell_type": "markdown",
   "metadata": {
    "deletable": true,
    "editable": true
   },
   "source": [
    "### Study variables\n",
    "\n",
    "This is where you set which file you are working with, and which month you want to study, etc.\n",
    "\n",
    "First, we'll list the files in our directory that we have downloaded so far so we can get the filename:"
   ]
  },
  {
   "cell_type": "code",
   "execution_count": 5,
   "metadata": {
    "collapsed": false,
    "deletable": true,
    "editable": true
   },
   "outputs": [
    {
     "name": "stdout",
     "output_type": "stream",
     "text": [
      "MIXEDBEV_02_2017.CSV             README.md\r\n",
      "MIXEDBEV_03_2017.CSV             counties.csv\r\n",
      "MIXEDBEV_04_2015.CSV             \u001b[34mdata-raw\u001b[m\u001b[m/\r\n",
      "MIXEDBEV_04_2016.CSV             headers.txt\r\n",
      "MIXEDBEV_04_2017.CSV             mixbev-env.txt\r\n",
      "Mixed beverages agate-new.ipynb  mixbev-pip.txt\r\n",
      "Mixed beverages agate.ipynb\r\n"
     ]
    }
   ],
   "source": [
    "ls"
   ]
  },
  {
   "cell_type": "markdown",
   "metadata": {
    "deletable": true,
    "editable": true
   },
   "source": [
    "Then we set some values based on those.\n",
    "\n",
    "- The **`file`** is the name of the file we want to process\n",
    "- The **`tax_rate`** is the value we need for this file to get the Gross Recipts (vs the Tax Reported, which is just the tax amount the establishment paid). The comptroller [has information on the tax](https://comptroller.texas.gov/taxes/mixed-beverage/receipts.php), but this [old record layout](https://github.com/utdata/cli-tools/blob/master/data/mixbevtax/OLD-MIXEDBEVTAX-LAYOUT.txt) best describes the math.\n",
    "- The **`month_studied`** is the YYYY/MM designation for the month before the file release. The file released in February has mostly records from January, but can also have any other month, so we set here the specific month we want. Note there is a check later on that counts the number of files by month, which is worth checking."
   ]
  },
  {
   "cell_type": "code",
   "execution_count": 6,
   "metadata": {
    "collapsed": false,
    "deletable": true,
    "editable": true
   },
   "outputs": [],
   "source": [
    "# this is our source file, which may have been downloaded above\n",
    "file = 'MIXEDBEV_04_2016.CSV'\n",
    "\n",
    "# Sets the tax rate to convert Report Tax to Gross Receipts\n",
    "# It's 6.7 since January 1, 2014\n",
    "tax_rate = Decimal('6.7')\n",
    "\n",
    "# setting the month_studied var.\n",
    "# This should be checked in the table below that counts records by month\n",
    "month_studied = '2016/03'\n"
   ]
  },
  {
   "cell_type": "markdown",
   "metadata": {
    "deletable": true,
    "editable": true
   },
   "source": [
    "### Import the file\n",
    "There are a couple of things we have to set to import a file. Remember we had to do the same when we did this manually in Tableau.\n",
    "- Set the column header names\n",
    "- Set the ZIP can County codes as text, so we preserve '001'.\n",
    "- The encoding type of the file (Tableau enferred, but we have to specify here. Common types are 'iso-8859-1' or  'utf-8', or 'latin1'. Just try it until it works."
   ]
  },
  {
   "cell_type": "code",
   "execution_count": 7,
   "metadata": {
    "collapsed": false,
    "deletable": true,
    "editable": true
   },
   "outputs": [
    {
     "name": "stdout",
     "output_type": "stream",
     "text": [
      "| column               | data_type |\n",
      "| -------------------- | --------- |\n",
      "| TABC Permit Number   | Text      |\n",
      "| Trade Name           | Text      |\n",
      "| Location Address     | Text      |\n",
      "| Location City        | Text      |\n",
      "| Location State       | Text      |\n",
      "| Location Zip Code    | Text      |\n",
      "| Location County Code | Text      |\n",
      "| Blank                | Boolean   |\n",
      "| Report Period        | Text      |\n",
      "| Report Tax           | Number    |\n",
      "\n"
     ]
    }
   ],
   "source": [
    "# sets the column names of the original data set.\n",
    "column_names = [\n",
    "    'TABC Permit Number',\n",
    "    'Trade Name',\n",
    "    'Location Address',\n",
    "    'Location City',\n",
    "    'Location State',\n",
    "    'Location Zip Code',\n",
    "    'Location County Code',\n",
    "    'Blank',\n",
    "    'Report Period',\n",
    "    'Report Tax'\n",
    "]\n",
    "# Helps us import some text fields that may be considered numbers in error.\n",
    "specified_types = {\n",
    "    'Location Zip Code': agate.Text(),\n",
    "    'Location County Code': agate.Text()\n",
    "}\n",
    "\n",
    "# this imports the file specified above, along with the proper types\n",
    "mixbev_raw = agate.Table.from_csv(file, column_names, encoding='iso-8859-1', column_types=specified_types)\n",
    "\n",
    "# prints table fields so we an check thoes data types\n",
    "print(mixbev_raw)"
   ]
  },
  {
   "cell_type": "markdown",
   "metadata": {
    "deletable": true,
    "editable": true
   },
   "source": [
    "### Clean up text fields and compute gross receipts"
   ]
  },
  {
   "cell_type": "code",
   "execution_count": 8,
   "metadata": {
    "collapsed": false,
    "deletable": true,
    "editable": true
   },
   "outputs": [
    {
     "name": "stdout",
     "output_type": "stream",
     "text": [
      "| column               | data_type |\n",
      "| -------------------- | --------- |\n",
      "| TABC Permit Number   | Text      |\n",
      "| Trade Name           | Text      |\n",
      "| Location Address     | Text      |\n",
      "| Location City        | Text      |\n",
      "| Location State       | Text      |\n",
      "| Location Zip Code    | Text      |\n",
      "| Location County Code | Text      |\n",
      "| Blank                | Boolean   |\n",
      "| Report Period        | Text      |\n",
      "| Report Tax           | Number    |\n",
      "| Permit               | Text      |\n",
      "| Name                 | Text      |\n",
      "| Address              | Text      |\n",
      "| City                 | Text      |\n",
      "| Receipts_compute     | Number    |\n",
      "| Receipts             | Number    |\n",
      "\n"
     ]
    }
   ],
   "source": [
    "# mixbev_trim creates a new interim table with results of compute function\n",
    "# that takes the four columns that need trimming and strips them of white space,\n",
    "# adding them to the end of the table with new names.\n",
    "# The last computation does the math to create the Gross Receipts based on the tax_rate set above\n",
    "\n",
    "mixbev_trim = mixbev_raw.compute([\n",
    "    ('Permit', agate.Formula(agate.Text(), lambda r: r['TABC Permit Number'].strip())),\n",
    "    ('Name', agate.Formula(agate.Text(), lambda r: r['Trade Name'].strip())),\n",
    "    ('Address', agate.Formula(agate.Text(), lambda r: r['Location Address'].strip())),\n",
    "    ('City', agate.Formula(agate.Text(), lambda r: r['Location City'].strip())),\n",
    "    ('Receipts_compute', agate.Formula(agate.Number(), lambda r: (r['Report Tax'] / tax_rate) * 100))\n",
    "])\n",
    "\n",
    "# the Receipts_compute computation above returns as a decimal number,\n",
    "# so this function rounds those numbers.\n",
    "# I might refactor this late so I can use it elsewhere.\n",
    "def round_receipt(row):\n",
    "    return row['Receipts_compute'].quantize(Decimal('0.01'))\n",
    "\n",
    "# This compute method uses round_recipt function above,\n",
    "# putting the results into a new table.\n",
    "mixbev_round = mixbev_trim.compute([\n",
    "    ('Receipts', agate.Formula(agate.Number(), round_receipt))\n",
    "])\n",
    "\n",
    "## shows the new columns added to the interim table\n",
    "print(mixbev_round)"
   ]
  },
  {
   "cell_type": "code",
   "execution_count": 9,
   "metadata": {
    "collapsed": false,
    "deletable": true,
    "editable": true
   },
   "outputs": [
    {
     "name": "stdout",
     "output_type": "stream",
     "text": [
      "| column     | data_type |\n",
      "| ---------- | --------- |\n",
      "| Permit     | Text      |\n",
      "| Name       | Text      |\n",
      "| Address    | Text      |\n",
      "| City       | Text      |\n",
      "| State      | Text      |\n",
      "| Zip        | Text      |\n",
      "| CountyCode | Text      |\n",
      "| Period     | Text      |\n",
      "| Tax        | Number    |\n",
      "| Receipts   | Number    |\n",
      "\n"
     ]
    }
   ],
   "source": [
    "# creates new table, selecting just the columns we need\n",
    "# then renames some of them for ease later.\n",
    "mixbev_cleaned = mixbev_round.select([\n",
    "    'Permit',\n",
    "    'Name',\n",
    "    'Address',\n",
    "    'City',\n",
    "    'Location State',\n",
    "    'Location Zip Code',\n",
    "    'Location County Code',\n",
    "    'Report Period',\n",
    "    'Report Tax',\n",
    "    'Receipts'\n",
    "]).rename(column_names = {\n",
    "    'Location State': 'State',\n",
    "    'Location Zip Code': 'Zip',\n",
    "    'Location County Code': 'CountyCode',\n",
    "    'Report Period': 'Period',\n",
    "    'Report Tax': 'Tax'\n",
    "})\n",
    "\n",
    "## these are now the columns present in our new, cleaned table\n",
    "print(mixbev_cleaned)"
   ]
  },
  {
   "cell_type": "code",
   "execution_count": 10,
   "metadata": {
    "collapsed": false,
    "deletable": true,
    "editable": true
   },
   "outputs": [
    {
     "name": "stdout",
     "output_type": "stream",
     "text": [
      "|      Tax |  Receipts |\n",
      "| -------- | --------- |\n",
      "| 2,389.62 | 35,665.97 |\n",
      "|   297.07 |  4,433.88 |\n",
      "| 1,533.02 | 22,880.90 |\n",
      "| 2,093.75 | 31,250.00 |\n",
      "| 2,615.07 | 39,030.90 |\n"
     ]
    }
   ],
   "source": [
    "# and this peeks at a couple of columns the data (Tax and Receipts)\n",
    "# to make sure they make sense and the math is right\n",
    "# During development, I did send this to_csv and made sure columns were trimmed, etc\n",
    "mixbev_cleaned.select(['Tax','Receipts']).limit(5).print_table()"
   ]
  },
  {
   "cell_type": "markdown",
   "metadata": {
    "deletable": true,
    "editable": true
   },
   "source": [
    "### Create establishment column\n",
    "\n",
    "We do this so we make sure we have single establishments instead of grouping trade names together from different addresses, like 'CHILI'S BAR & GRILL'."
   ]
  },
  {
   "cell_type": "code",
   "execution_count": 11,
   "metadata": {
    "collapsed": false,
    "deletable": true,
    "editable": true
   },
   "outputs": [
    {
     "name": "stdout",
     "output_type": "stream",
     "text": [
      "| column        | data_type |\n",
      "| ------------- | --------- |\n",
      "| Permit        | Text      |\n",
      "| Name          | Text      |\n",
      "| Address       | Text      |\n",
      "| City          | Text      |\n",
      "| State         | Text      |\n",
      "| Zip           | Text      |\n",
      "| CountyCode    | Text      |\n",
      "| Period        | Text      |\n",
      "| Tax           | Number    |\n",
      "| Receipts      | Number    |\n",
      "| Establishment | Text      |\n",
      "\n"
     ]
    }
   ],
   "source": [
    "# Concatenates the name and address\n",
    "mixbev_cleaned_est = mixbev_cleaned.compute([\n",
    "    ('Establishment', agate.Formula(agate.Text(), lambda row: '%(Name)s %(Address)s' % row))\n",
    "])\n",
    "\n",
    "# Prints columns so you see it is there\n",
    "print(mixbev_cleaned_est)"
   ]
  },
  {
   "cell_type": "code",
   "execution_count": 12,
   "metadata": {
    "collapsed": false,
    "deletable": true,
    "editable": true
   },
   "outputs": [
    {
     "name": "stdout",
     "output_type": "stream",
     "text": [
      "| Establishment                              |\n",
      "| ------------------------------------------ |\n",
      "| ABILENE BEEHIVE INC 442 CEDAR ST STE A     |\n",
      "| ABILENE BOWLING LANES INC 279 RUIDOSA AVE  |\n",
      "| ABILENE CABARET LLC 1918 BUTTERNUT ST      |\n",
      "| ABILENE COUNTRY CLUB 4039 S TREADAWAY BLVD |\n",
      "| ABILENE SEAFOOD TAVERN 1882 S CLACK ST     |\n"
     ]
    }
   ],
   "source": [
    "# selects and prints Establishment to check what is looks like\n",
    "mixbev_establishment = mixbev_cleaned_est.select('Establishment')\n",
    "mixbev_establishment.limit(5).print_table(max_column_width=80)"
   ]
  },
  {
   "cell_type": "markdown",
   "metadata": {
    "deletable": true,
    "editable": true
   },
   "source": [
    "### Import and merge counties lookup table\n",
    "We do this to get county names. I got this list from the comptroller."
   ]
  },
  {
   "cell_type": "code",
   "execution_count": 13,
   "metadata": {
    "collapsed": false,
    "deletable": true,
    "editable": true
   },
   "outputs": [
    {
     "name": "stdout",
     "output_type": "stream",
     "text": [
      "| column | data_type |\n",
      "| ------ | --------- |\n",
      "| id     | Number    |\n",
      "| county | Text      |\n",
      "| code   | Text      |\n",
      "\n"
     ]
    }
   ],
   "source": [
    "# importing countes.csv, ensuring that the 'code' column is text\n",
    "counties = agate.Table.from_csv('counties.csv', column_types={'code': agate.Text()})\n",
    "\n",
    "# peek at the column names\n",
    "print(counties)"
   ]
  },
  {
   "cell_type": "code",
   "execution_count": 14,
   "metadata": {
    "collapsed": false,
    "deletable": true,
    "editable": true
   },
   "outputs": [
    {
     "name": "stdout",
     "output_type": "stream",
     "text": [
      "| id | county   | code |\n",
      "| -- | -------- | ---- |\n",
      "|  1 | Anderson | 001  |\n",
      "|  2 | Andrews  | 002  |\n",
      "|  3 | Angelina | 003  |\n",
      "|  4 | Aransas  | 004  |\n",
      "|  5 | Archer   | 005  |\n"
     ]
    }
   ],
   "source": [
    "# peek at the data\n",
    "counties.limit(5).print_table()"
   ]
  },
  {
   "cell_type": "code",
   "execution_count": 15,
   "metadata": {
    "collapsed": false,
    "deletable": true,
    "editable": true
   },
   "outputs": [
    {
     "name": "stdout",
     "output_type": "stream",
     "text": [
      "| column        | data_type |\n",
      "| ------------- | --------- |\n",
      "| Permit        | Text      |\n",
      "| Name          | Text      |\n",
      "| Address       | Text      |\n",
      "| City          | Text      |\n",
      "| State         | Text      |\n",
      "| Zip           | Text      |\n",
      "| CountyCode    | Text      |\n",
      "| Period        | Text      |\n",
      "| Tax           | Number    |\n",
      "| Receipts      | Number    |\n",
      "| Establishment | Text      |\n",
      "| id            | Number    |\n",
      "| county        | Text      |\n",
      "\n"
     ]
    }
   ],
   "source": [
    "# joines the counties table to the mixed bev cleaned data with establishments\n",
    "mixbev_joined = mixbev_cleaned_est.join(counties, 'CountyCode', 'code')\n",
    "\n",
    "# check that the merge was succesful \n",
    "print(mixbev_joined)"
   ]
  },
  {
   "cell_type": "code",
   "execution_count": 16,
   "metadata": {
    "collapsed": false,
    "deletable": true,
    "editable": true
   },
   "outputs": [
    {
     "name": "stdout",
     "output_type": "stream",
     "text": [
      "| column        | data_type |\n",
      "| ------------- | --------- |\n",
      "| Permit        | Text      |\n",
      "| Name          | Text      |\n",
      "| Address       | Text      |\n",
      "| Establishment | Text      |\n",
      "| City          | Text      |\n",
      "| State         | Text      |\n",
      "| Zip           | Text      |\n",
      "| County        | Text      |\n",
      "| Period        | Text      |\n",
      "| Tax           | Number    |\n",
      "| Receipts      | Number    |\n",
      "\n"
     ]
    }
   ],
   "source": [
    "# get just the columns we need and rename county\n",
    "# THIS is the finished, cleaned mixbev table\n",
    "mixbev = mixbev_joined.select([\n",
    "    'Permit',\n",
    "    'Name',\n",
    "    'Address',\n",
    "    'Establishment',\n",
    "    'City',\n",
    "    'State',\n",
    "    'Zip',\n",
    "    'county',\n",
    "    'Period',\n",
    "    'Tax',\n",
    "    'Receipts'\n",
    "]).rename(column_names = {\n",
    "    'county': 'County'\n",
    "})\n",
    "\n",
    "# peek at the column names\n",
    "print(mixbev)"
   ]
  },
  {
   "cell_type": "code",
   "execution_count": 17,
   "metadata": {
    "collapsed": false,
    "deletable": true,
    "editable": true
   },
   "outputs": [
    {
     "name": "stdout",
     "output_type": "stream",
     "text": [
      "| Permit   | Name                 | Address              | Establishment        | City    | State | ... |\n",
      "| -------- | -------------------- | -------------------- | -------------------- | ------- | ----- | --- |\n",
      "| MB638028 | ABILENE BEEHIVE INC  | 442 CEDAR ST STE A   | ABILENE BEEHIVE I... | ABILENE | TX    | ... |\n",
      "| MB543114 | ABILENE BOWLING L... | 279 RUIDOSA AVE      | ABILENE BOWLING L... | ABILENE | TX    | ... |\n",
      "| MB933130 | ABILENE CABARET LLC  | 1918 BUTTERNUT ST    | ABILENE CABARET L... | ABILENE | TX    | ... |\n",
      "| N 037863 | ABILENE COUNTRY CLUB | 4039 S TREADAWAY ... | ABILENE COUNTRY C... | ABILENE | TX    | ... |\n",
      "| MB200506 | ABILENE SEAFOOD T... | 1882 S CLACK ST      | ABILENE SEAFOOD T... | ABILENE | TX    | ... |\n"
     ]
    }
   ],
   "source": [
    "# peek at the table\n",
    "mixbev.limit(5).print_table()"
   ]
  },
  {
   "cell_type": "markdown",
   "metadata": {
    "deletable": true,
    "editable": true
   },
   "source": [
    "### Looking at dates of the records\n",
    "\n",
    "Here we are looking at the entire mixbev table to see what range of dates we have. This way we can make sure we are analyzing the correct month based on this data. (More than one month can be present, but it will be predominately the previous month).\n",
    "\n",
    "To explain what we are doing here, as it is kind of obtuse in agate:\n",
    "- use group_by to create a tableset by the Period field.\n",
    "- Create a table and set it it based on counting the number of records for each Period.\n",
    "- create a table to then sort the period in reverse order to put the dominate month at the top\n",
    "- Then print the sorted table (top 10 rows)"
   ]
  },
  {
   "cell_type": "code",
   "execution_count": 18,
   "metadata": {
    "collapsed": false,
    "deletable": true,
    "editable": true
   },
   "outputs": [
    {
     "name": "stdout",
     "output_type": "stream",
     "text": [
      "| Period  |  count |\n",
      "| ------- | ------ |\n",
      "| 2016/03 | 13,786 |\n",
      "| 2016/02 |  1,394 |\n",
      "| 2016/01 |    160 |\n",
      "| 2016/04 |     50 |\n",
      "| 2015/12 |     45 |\n",
      "| 2015/11 |     26 |\n",
      "| 2015/10 |     20 |\n",
      "| 2015/09 |     12 |\n",
      "| 2015/08 |     10 |\n",
      "| 2015/04 |     10 |\n",
      "| 2015/03 |      9 |\n",
      "| 2014/12 |      8 |\n",
      "| 2015/02 |      8 |\n",
      "| 2015/07 |      8 |\n",
      "| 2015/06 |      7 |\n",
      "| 2014/11 |      7 |\n",
      "| 2015/01 |      7 |\n",
      "| 2014/01 |      6 |\n",
      "| 2014/02 |      6 |\n",
      "| 2014/03 |      6 |\n",
      "| 2014/04 |      6 |\n",
      "| 2014/05 |      6 |\n",
      "| 2014/06 |      6 |\n",
      "| 2014/10 |      6 |\n",
      "| 2015/05 |      6 |\n",
      "| 2014/07 |      5 |\n",
      "| 2014/08 |      5 |\n",
      "| 2014/09 |      5 |\n",
      "| 2013/11 |      4 |\n",
      "| 2012/09 |      3 |\n",
      "| 2013/12 |      3 |\n",
      "| 2012/03 |      2 |\n",
      "| 2012/04 |      2 |\n",
      "| 2012/05 |      2 |\n",
      "| 2012/06 |      2 |\n",
      "| 2012/07 |      2 |\n",
      "| 2012/08 |      2 |\n",
      "| 2012/10 |      2 |\n",
      "| 2012/11 |      2 |\n",
      "| 2012/12 |      2 |\n",
      "| 2013/01 |      2 |\n",
      "| 2013/02 |      2 |\n",
      "| 2013/03 |      2 |\n",
      "| 2013/04 |      2 |\n",
      "| 2013/05 |      2 |\n",
      "| 2013/06 |      2 |\n",
      "| 2013/07 |      2 |\n",
      "| 2013/08 |      2 |\n",
      "| 2013/09 |      2 |\n",
      "| 2013/10 |      2 |\n"
     ]
    }
   ],
   "source": [
    "# this is the group_by\n",
    "by_period = mixbev.group_by('Period')\n",
    "\n",
    "# Then aggregate that group by count of records in Period\n",
    "period_totals = by_period.aggregate([\n",
    "    ('count', agate.Count())\n",
    "])\n",
    "\n",
    "# Take those results and sort them\n",
    "period_totals_sorted = period_totals.order_by('count', reverse=True)\n",
    "\n",
    "# prints the table of period and number of records\n",
    "period_totals_sorted.print_table(max_rows=None)\n"
   ]
  },
  {
   "cell_type": "code",
   "execution_count": 19,
   "metadata": {
    "collapsed": false,
    "deletable": true,
    "editable": true
   },
   "outputs": [
    {
     "name": "stdout",
     "output_type": "stream",
     "text": [
      "| Period  |  Count |\n",
      "| ------- | ------ |\n",
      "| 2016/03 | 13,786 |\n",
      "| 2016/02 |  1,394 |\n",
      "| 2016/01 |    160 |\n",
      "| 2016/04 |     50 |\n",
      "| 2015/12 |     45 |\n",
      "| 2015/11 |     26 |\n",
      "| 2015/10 |     20 |\n",
      "| 2015/09 |     12 |\n",
      "| 2015/08 |     10 |\n",
      "| 2015/04 |     10 |\n",
      "| 2015/03 |      9 |\n",
      "| 2014/12 |      8 |\n",
      "| 2015/02 |      8 |\n",
      "| 2015/07 |      8 |\n",
      "| 2015/06 |      7 |\n",
      "| 2014/11 |      7 |\n",
      "| 2015/01 |      7 |\n",
      "| 2014/01 |      6 |\n",
      "| 2014/02 |      6 |\n",
      "| 2014/03 |      6 |\n",
      "| 2014/04 |      6 |\n",
      "| 2014/05 |      6 |\n",
      "| 2014/06 |      6 |\n",
      "| 2014/10 |      6 |\n",
      "| 2015/05 |      6 |\n",
      "| 2014/07 |      5 |\n",
      "| 2014/08 |      5 |\n",
      "| 2014/09 |      5 |\n",
      "| 2013/11 |      4 |\n",
      "| 2012/09 |      3 |\n",
      "| 2013/12 |      3 |\n",
      "| 2012/03 |      2 |\n",
      "| 2012/04 |      2 |\n",
      "| 2012/05 |      2 |\n",
      "| 2012/06 |      2 |\n",
      "| 2012/07 |      2 |\n",
      "| 2012/08 |      2 |\n",
      "| 2012/10 |      2 |\n",
      "| 2012/11 |      2 |\n",
      "| 2012/12 |      2 |\n",
      "| 2013/01 |      2 |\n",
      "| 2013/02 |      2 |\n",
      "| 2013/03 |      2 |\n",
      "| 2013/04 |      2 |\n",
      "| 2013/05 |      2 |\n",
      "| 2013/06 |      2 |\n",
      "| 2013/07 |      2 |\n",
      "| 2013/08 |      2 |\n",
      "| 2013/09 |      2 |\n",
      "| 2013/10 |      2 |\n"
     ]
    }
   ],
   "source": [
    "# Pivot the mixbev table by Period. Default it give a Count of the records\n",
    "# We then order the table by Count in descending order\n",
    "by_period = mixbev.pivot('Period').order_by('Count', reverse=True)\n",
    "\n",
    "# prints the table of period and number of records\n",
    "by_period.print_table(max_rows=None)"
   ]
  },
  {
   "cell_type": "markdown",
   "metadata": {
    "deletable": true,
    "editable": true
   },
   "source": [
    "The top value in the table above is typically the month before the reporting date. This also shows how many records are filed for OTHER months. We want to make sure the top month value is included as the **month_studied** variable at the top of this file.\n",
    "\n",
    "So, now we can filter the data to our specific month, which will use for the rest of the analysis:"
   ]
  },
  {
   "cell_type": "code",
   "execution_count": 20,
   "metadata": {
    "collapsed": false,
    "deletable": true,
    "editable": true
   },
   "outputs": [
    {
     "data": {
      "text/plain": [
       "13786"
      ]
     },
     "execution_count": 20,
     "metadata": {},
     "output_type": "execute_result"
    }
   ],
   "source": [
    "## filters the records to our month_studied\n",
    "mixbev_month = mixbev.where(lambda row: row['Period'] == month_studied)\n",
    "\n",
    "## The number of records in our month\n",
    "len(mixbev_month)"
   ]
  },
  {
   "cell_type": "markdown",
   "metadata": {
    "deletable": true,
    "editable": true
   },
   "source": [
    "## Top sales statewide\n",
    "\n",
    "Because we want to group our results by more than one field and perform more than one aggregation, we'll do this a little differently. We'll use group_by to create a grouped table, then perform aggregations on that new table to computer the Tax and Receipts columns."
   ]
  },
  {
   "cell_type": "code",
   "execution_count": 21,
   "metadata": {
    "collapsed": false,
    "deletable": true,
    "editable": true
   },
   "outputs": [
    {
     "name": "stdout",
     "output_type": "stream",
     "text": [
      "| Establishment                            | County  | City               |    Tax_sum |    Sales_sum |\n",
      "| ---------------------------------------- | ------- | ------------------ | ---------- | ------------ |\n",
      "| THREE NRG PARK 2000 SOUTH LOOP W         | Harris  | HOUSTON            | 233,266.86 | 3,481,594.93 |\n",
      "| ARAMARK SPORTS AND ENTERTAINME 211 AT... | Bexar   | SAN ANTONIO        | 133,631.36 | 1,994,497.91 |\n",
      "| GAYLORD TEXAN 1501 GAYLORD TRL           | Tarrant | GRAPEVINE          | 107,012.19 | 1,597,196.87 |\n",
      "| HOSPITALITY INTERNATIONAL, INC 23808 ... | Bexar   | SAN ANTONIO        |  79,657.37 | 1,188,915.97 |\n",
      "| LEVY RESTAURANTS 2500 VICTORY AVE        | Dallas  | DALLAS             |  73,245.27 | 1,093,212.99 |\n",
      "| WLS BEVERAGE CO 110 E 2ND ST             | Travis  | AUSTIN             |  61,818.82 |   922,668.96 |\n",
      "| SALC, INC. 2201 N STEMMONS FWY FL 1      | Dallas  | DALLAS             |  61,641.40 |   920,020.90 |\n",
      "| HAPPIEST HOUR, LLC 2616 OLIVE ST         | Dallas  | DALLAS             |  58,962.14 |   880,031.94 |\n",
      "| LOUIE'S BACKYARD 2305 LAGUNA BOULEVARD   | Cameron | SOUTH PADRE ISLAND |  57,274.95 |   854,850.00 |\n",
      "| LEVY RESTAURANTS AT TOYOTA CEN 1510 P... | Harris  | HOUSTON            |  54,086.75 |   807,264.93 |\n"
     ]
    }
   ],
   "source": [
    "# groups the data based on Establishment and City\n",
    "mixbev_grouped = mixbev_month.group_by('Establishment').group_by('County').group_by('City')\n",
    "\n",
    "# computes the sales based on the grouping\n",
    "state_summary = mixbev_grouped.aggregate([\n",
    "    ('Tax_sum', agate.Sum('Tax')),\n",
    "    ('Sales_sum', agate.Sum('Receipts'))\n",
    "])\n",
    "\n",
    "# sorts the results by most sold. We could probalby chain it above if we wanted to.\n",
    "state_summary_sorted = state_summary.order_by('Sales_sum', reverse=True)\n",
    "\n",
    "# prints the top 10 results\n",
    "state_summary_sorted.limit(10).print_table(max_column_width=40)"
   ]
  },
  {
   "cell_type": "markdown",
   "metadata": {
    "deletable": true,
    "editable": true
   },
   "source": [
    "## Overall statewide sum"
   ]
  },
  {
   "cell_type": "code",
   "execution_count": 22,
   "metadata": {
    "collapsed": false,
    "deletable": true,
    "editable": true
   },
   "outputs": [
    {
     "data": {
      "text/plain": [
       "Decimal('546361388.25')"
      ]
     },
     "execution_count": 22,
     "metadata": {},
     "output_type": "execute_result"
    }
   ],
   "source": [
    "# summing sales statewide for month\n",
    "mixbev_month.aggregate(agate.Sum('Receipts'))"
   ]
  },
  {
   "cell_type": "markdown",
   "metadata": {
    "deletable": true,
    "editable": true
   },
   "source": [
    "## Location sums function\n",
    "\n",
    "Because we want to get the top sellers in a bunch of cities and couties, we create a function so we don't have to repeat the code. This function allows us to pass in a city or county name to filter the monthly receipts table and then sum the Tax and Receipts columns. The result can then be acted on to print or aggreggate."
   ]
  },
  {
   "cell_type": "code",
   "execution_count": 23,
   "metadata": {
    "collapsed": false,
    "deletable": true,
    "editable": true
   },
   "outputs": [],
   "source": [
    "# function to group sales by a specific location\n",
    "# City or County passed in should be ALL CAPS\n",
    "# Location_type can be 'City' or 'County'\n",
    "\n",
    "def location_sum(location_type, location):\n",
    "    # Filters the data to the specified city\n",
    "    location_filtered = mixbev_month.where(lambda row: row[location_type].upper() == location)\n",
    "\n",
    "    # groups the data based on Establishment and location\n",
    "    location_grouped = location_filtered.group_by('Establishment').group_by(location_type)\n",
    "    # computes the sales based on the grouping\n",
    "    location_summary = location_grouped.aggregate([\n",
    "        ('Tax_sum', agate.Sum('Tax')),\n",
    "        ('Receipts_sum', agate.Sum('Receipts'))\n",
    "    ])\n",
    "    \n",
    "    # sorts the results by most sold\n",
    "    location_summary_sorted = location_summary.order_by('Receipts_sum', reverse=True)\n",
    "    # prints the top 10 results\n",
    "    \n",
    "    return(location_summary_sorted)\n"
   ]
  },
  {
   "cell_type": "markdown",
   "metadata": {
    "deletable": true,
    "editable": true
   },
   "source": [
    "## Austin sales and sums\n",
    "\n",
    "With this, we refernce the location_sum function above, and pass the type of location (City) and the name of the city (AUSTIN). At the same time, we limit the result of that function to the first 10 records, and then print the results. We are basically stringing together a bunch of stuff at once."
   ]
  },
  {
   "cell_type": "code",
   "execution_count": 24,
   "metadata": {
    "collapsed": false,
    "deletable": true,
    "editable": true
   },
   "outputs": [
    {
     "name": "stdout",
     "output_type": "stream",
     "text": [
      "| Establishment                                  | City   |   Tax_sum | Receipts_sum |\n",
      "| ---------------------------------------------- | ------ | --------- | ------------ |\n",
      "| WLS BEVERAGE CO 110 E 2ND ST                   | AUSTIN | 61,818.82 |   922,668.96 |\n",
      "| 400 BAR/CUCARACHA/CHUPACABRA/J 400 E 6TH ST    | AUSTIN | 46,656.99 |   696,372.99 |\n",
      "| THE DOGWOOD DOMAIN 11420 ROCK ROSE AVE STE 700 | AUSTIN | 36,806.78 |   549,354.93 |\n",
      "| THE BLIND PIG PUB 317 E 6TH ST                 | AUSTIN | 35,440.65 |   528,964.93 |\n",
      "| W HOTEL AUSTIN 200 LAVACA ST                   | AUSTIN | 34,213.34 |   510,646.87 |\n"
     ]
    }
   ],
   "source": [
    "# uses the city_sum function to filter\n",
    "austin = location_sum('City', 'AUSTIN')\n",
    "\n",
    "# print the resulting table\n",
    "austin.limit(5).print_table(max_column_width=60)"
   ]
  },
  {
   "cell_type": "markdown",
   "metadata": {
    "deletable": true,
    "editable": true
   },
   "source": [
    "### String methods together to print a table\n",
    "So far, we've been printing tables, but Agate can also print charts. The **`print_bars`** method creates a simple, text-based bar chart."
   ]
  },
  {
   "cell_type": "code",
   "execution_count": 25,
   "metadata": {
    "collapsed": false,
    "deletable": true,
    "editable": true
   },
   "outputs": [
    {
     "name": "stdout",
     "output_type": "stream",
     "text": [
      "Establishment                                      Receipts_sum\n",
      "WLS BEVERAGE CO 110 E 2ND ST                         922,668.96 ▓░░░░░░░░░░░░░░░░░░░░░░░  \n",
      "400 BAR/CUCARACHA/CHUPACABRA/J 400 E 6TH ST          696,372.99 ▓░░░░░░░░░░░░░░░░░        \n",
      "THE DOGWOOD DOMAIN 11420 ROCK ROSE AVE STE 700       549,354.93 ▓░░░░░░░░░░░░░░           \n",
      "THE BLIND PIG PUB 317 E 6TH ST                       528,964.93 ▓░░░░░░░░░░░░░            \n",
      "W HOTEL AUSTIN 200 LAVACA ST                         510,646.87 ▓░░░░░░░░░░░░░            \n",
      "SAN JACINTO BEVERAGE CORPORATI 98 SAN JACINTO BLVD   509,055.97 ▓░░░░░░░░░░░░░            \n",
      "STUBB'S BAR-B-Q 801 RED RIVER ST                     447,926.87 ▓░░░░░░░░░░░              \n",
      "SALC. INC.(HILTON HOTEL) 500 E 4TH ST                425,320.00 ▓░░░░░░░░░░░              \n",
      "DH BEVERAGE LLC 604 BRAZOS ST                        423,596.87 ▓░░░░░░░░░░░              \n",
      "TOP GOLF 2700 ESPERANZA XING                         417,740.00 ▓░░░░░░░░░░               \n",
      "                                                                +-----+------------------+\n",
      "                                                                0  250,000       1,000,000\n"
     ]
    }
   ],
   "source": [
    "# We'll use the same function, but instead of creating a new table,\n",
    "# we'll just string on the limit and print bars methods\n",
    "# print_bars needs to arguments, the label column and then the value to make the chart from\n",
    "location_sum('City', 'AUSTIN').limit(10).print_bars('Establishment', 'Receipts_sum', width=90)"
   ]
  },
  {
   "cell_type": "markdown",
   "metadata": {
    "deletable": true,
    "editable": true
   },
   "source": [
    "### Total sales Austin"
   ]
  },
  {
   "cell_type": "code",
   "execution_count": 26,
   "metadata": {
    "collapsed": false,
    "deletable": true,
    "editable": true
   },
   "outputs": [
    {
     "data": {
      "text/plain": [
       "Decimal('68206672.31')"
      ]
     },
     "execution_count": 26,
     "metadata": {},
     "output_type": "execute_result"
    }
   ],
   "source": [
    "# Austin total sales as s city\n",
    "# This sums the grouped table, but it works\n",
    "location_sum('City', 'AUSTIN').aggregate(agate.Sum('Receipts_sum'))"
   ]
  },
  {
   "cell_type": "markdown",
   "metadata": {
    "deletable": true,
    "editable": true
   },
   "source": [
    "## More Central Texas cities"
   ]
  },
  {
   "cell_type": "code",
   "execution_count": 27,
   "metadata": {
    "collapsed": false,
    "deletable": true,
    "editable": true
   },
   "outputs": [
    {
     "name": "stdout",
     "output_type": "stream",
     "text": [
      "| Establishment                              | City    |  Tax_sum | Receipts_sum |\n",
      "| ------------------------------------------ | ------- | -------- | ------------ |\n",
      "| OLD TOWN RESTURANT AND BAR/PIN 931 MAIN ST | BASTROP | 4,142.81 |    61,832.99 |\n",
      "| CHILI'S GRILL & BAR 734 HIGHWAY 71 W       | BASTROP | 2,889.64 |    43,128.96 |\n",
      "| NEIGHBOR'S 601 CHESTNUT ST UNIT C          | BASTROP | 2,345.80 |    35,011.94 |\n",
      "| LA HACIENDA RESTAURANT 1800 WALNUT ST      | BASTROP | 1,817.37 |    27,124.93 |\n",
      "| VERANDA 910 MAIN ST                        | BASTROP | 1,494.10 |    22,300.00 |\n"
     ]
    }
   ],
   "source": [
    "location_sum('City', 'BASTROP').limit(5).print_table(max_column_width=60)"
   ]
  },
  {
   "cell_type": "code",
   "execution_count": 28,
   "metadata": {
    "collapsed": false,
    "deletable": true,
    "editable": true
   },
   "outputs": [
    {
     "name": "stdout",
     "output_type": "stream",
     "text": [
      "| Establishment                                       | City     |  Tax_sum | Receipts_sum |\n",
      "| --------------------------------------------------- | -------- | -------- | ------------ |\n",
      "| WOODY TAVERN AND GRILL, INC. 12801 SHOPS PKWY # 100 | BEE CAVE | 5,726.49 |    85,470.00 |\n",
      "| MAUDIE'S HILL COUNTRY, LLC 12506 SHOPS PKWY         | BEE CAVE | 4,835.59 |    72,172.99 |\n",
      "| CAFE BLUE 12800 HILL COUNTRY BLVD STE               | BEE CAVE | 4,782.66 |    71,382.99 |\n"
     ]
    }
   ],
   "source": [
    "location_sum('City', 'BEE CAVE').limit(3).print_table(max_column_width=60)"
   ]
  },
  {
   "cell_type": "code",
   "execution_count": 29,
   "metadata": {
    "collapsed": false,
    "deletable": true,
    "editable": true
   },
   "outputs": [
    {
     "name": "stdout",
     "output_type": "stream",
     "text": [
      "| Establishment                  | City |  Tax_sum | Receipts_sum |\n",
      "| ------------------------------ | ---- | -------- | ------------ |\n",
      "| WILLIE'S JOINT 824 MAIN ST     | BUDA | 3,291.10 |    49,120.90 |\n",
      "| CLEVELAND'S 100 N MAIN ST      | BUDA | 3,153.42 |    47,065.97 |\n",
      "| PINBALLZ KINGDOM 15201 S IH 35 | BUDA | 2,979.49 |    44,470.00 |\n"
     ]
    }
   ],
   "source": [
    "location_sum('City', 'BUDA').limit(3).print_table(max_column_width=60)"
   ]
  },
  {
   "cell_type": "code",
   "execution_count": 30,
   "metadata": {
    "collapsed": false,
    "deletable": true,
    "editable": true
   },
   "outputs": [
    {
     "name": "stdout",
     "output_type": "stream",
     "text": [
      "| Establishment                                               | City       |  Tax_sum | Receipts_sum |\n",
      "| ----------------------------------------------------------- | ---------- | -------- | ------------ |\n",
      "| LUPE TORTILLA MEXICAN RESTAURA 4501 183A TOLL RD STE B      | CEDAR PARK | 6,865.75 |   102,473.88 |\n",
      "| SHOOTERS BILLIARDS & SPORTS BA 601 E WHITESTONE BLVD BLDG 5 | CEDAR PARK | 5,626.05 |    83,970.90 |\n",
      "| WILD WEST 401 E WHITESTONE BLVD STE B1                      | CEDAR PARK | 5,509.00 |    82,223.88 |\n"
     ]
    }
   ],
   "source": [
    "location_sum('City', 'CEDAR PARK').limit(3).print_table(max_column_width=60)"
   ]
  },
  {
   "cell_type": "code",
   "execution_count": 31,
   "metadata": {
    "collapsed": false,
    "deletable": true,
    "editable": true
   },
   "outputs": [
    {
     "name": "stdout",
     "output_type": "stream",
     "text": [
      "| Establishment                                       | City             |  Tax_sum | Receipts_sum |\n",
      "| --------------------------------------------------- | ---------------- | -------- | ------------ |\n",
      "| TRUDY'S FOUR STAR 13059 FOUR STAR BLVD              | DRIPPING SPRINGS | 4,518.27 |    67,436.87 |\n",
      "| FLORES MEXICAN RESTAURANT 2440 E HIGHWAY 290 BLDG D | DRIPPING SPRINGS | 3,680.51 |    54,932.99 |\n",
      "| PROOF & COOPER 18800 HAMILTON POOL RD               | DRIPPING SPRINGS | 2,522.68 |    37,651.94 |\n"
     ]
    }
   ],
   "source": [
    "location_sum('City', 'DRIPPING SPRINGS').limit(3).print_table(max_column_width=60)"
   ]
  },
  {
   "cell_type": "code",
   "execution_count": 32,
   "metadata": {
    "collapsed": false,
    "deletable": true,
    "editable": true
   },
   "outputs": [
    {
     "name": "stdout",
     "output_type": "stream",
     "text": [
      "| Establishment                      | City       |  Tax_sum | Receipts_sum |\n",
      "| ---------------------------------- | ---------- | -------- | ------------ |\n",
      "| EL MONUMENTO 205 W 2ND ST          | GEORGETOWN | 5,911.41 |    88,230.00 |\n",
      "| HARDTAILS 1515 N IH 35             | GEORGETOWN | 4,839.14 |    72,225.97 |\n",
      "| DOS SALSAS CAFE INC 1104 S MAIN ST | GEORGETOWN | 4,515.80 |    67,400.00 |\n"
     ]
    }
   ],
   "source": [
    "location_sum('City', 'GEORGETOWN').limit(3).print_table(max_column_width=60)"
   ]
  },
  {
   "cell_type": "code",
   "execution_count": 33,
   "metadata": {
    "collapsed": false,
    "deletable": true,
    "editable": true
   },
   "outputs": [
    {
     "name": "stdout",
     "output_type": "stream",
     "text": [
      "| Establishment                                       | City |  Tax_sum | Receipts_sum |\n",
      "| --------------------------------------------------- | ---- | -------- | ------------ |\n",
      "| CASA GARCIA'S MEXICAN RESTAURA 5401 FM 1626 STE 300 | KYLE | 4,934.34 |    73,646.87 |\n",
      "| EVO ENTERTAINMENT CENTER 3200 KYLE XING             | KYLE | 3,966.66 |    59,203.88 |\n",
      "| DOWN SOUTH RAILHOUSE 107 E CENTER ST                | KYLE | 3,880.57 |    57,918.96 |\n"
     ]
    }
   ],
   "source": [
    "location_sum('City', 'KYLE').limit(3).print_table(max_column_width=60)"
   ]
  },
  {
   "cell_type": "code",
   "execution_count": 34,
   "metadata": {
    "collapsed": false,
    "deletable": true,
    "editable": true
   },
   "outputs": [
    {
     "name": "stdout",
     "output_type": "stream",
     "text": [
      "| Establishment                                 | City       |  Tax_sum | Receipts_sum |\n",
      "| --------------------------------------------- | ---------- | -------- | ------------ |\n",
      "| COPPERHEAD GRILL 6115 LOHMANS FORD RD         | LAGO VISTA | 1,221.54 |    18,231.94 |\n",
      "| NATURE'S POINT LTD 18206 LAKESHORE POINT BLVD | LAGO VISTA |   548.66 |     8,188.96 |\n",
      "| NATURES POINT, LTD. 20552 HIGHLAND LAKE DR    | LAGO VISTA |     0.00 |         0.00 |\n"
     ]
    }
   ],
   "source": [
    "location_sum('City', 'LAGO VISTA').limit(3).print_table(max_column_width=60)"
   ]
  },
  {
   "cell_type": "code",
   "execution_count": 35,
   "metadata": {
    "collapsed": false,
    "deletable": true,
    "editable": true
   },
   "outputs": [
    {
     "name": "stdout",
     "output_type": "stream",
     "text": [
      "| Establishment                                          | City    |  Tax_sum | Receipts_sum |\n",
      "| ------------------------------------------------------ | ------- | -------- | ------------ |\n",
      "| THE GROVE WINE BAR AND KITCHEN 3001 RANCH ROAD 620 S   | LAKEWAY | 7,177.17 |   107,121.94 |\n",
      "| HIGH 5 ENTERTAINMENT 1502 RANCH ROAD 620 S             | LAKEWAY | 3,818.79 |    56,996.87 |\n",
      "| FLORES MEXICAN RESTAURANT 2127 LOHMANS CROSSING RD STE | LAKEWAY | 3,796.95 |    56,670.90 |\n"
     ]
    }
   ],
   "source": [
    "location_sum('City', 'LAKEWAY').limit(3).print_table(max_column_width=60)"
   ]
  },
  {
   "cell_type": "code",
   "execution_count": 36,
   "metadata": {
    "collapsed": false,
    "deletable": true,
    "editable": true
   },
   "outputs": [
    {
     "name": "stdout",
     "output_type": "stream",
     "text": [
      "| Establishment                                        | City    |  Tax_sum | Receipts_sum |\n",
      "| ---------------------------------------------------- | ------- | -------- | ------------ |\n",
      "| BROOKLYN HEIGHTS PIZZERIA 3550 LAKELINE BLVD STE 135 | LEANDER | 4,052.69 |    60,487.91 |\n",
      "| JARDIN DEL REY 703 S HIGHWAY 183                     | LEANDER | 2,717.78 |    40,563.88 |\n",
      "| TAPATIA JALISCO #3 LLC 651 N US 183                  | LEANDER |   797.83 |    11,907.91 |\n"
     ]
    }
   ],
   "source": [
    "location_sum('City', 'LEANDER').limit(3).print_table(max_column_width=60)"
   ]
  },
  {
   "cell_type": "code",
   "execution_count": 37,
   "metadata": {
    "collapsed": false,
    "deletable": true,
    "editable": true
   },
   "outputs": [
    {
     "name": "stdout",
     "output_type": "stream",
     "text": [
      "| Establishment                                   | City         |  Tax_sum | Receipts_sum |\n",
      "| ----------------------------------------------- | ------------ | -------- | ------------ |\n",
      "| JARDIN CORONA 15395 W STATE HIGHWAY 29          | LIBERTY HILL | 2,336.29 |    34,870.00 |\n",
      "| MARGARITA'S RESTAURANT 10280 W STATE HIGHWAY 29 | LIBERTY HILL | 1,191.79 |    17,787.91 |\n",
      "| FIRE OAK DISTILLERY 4600 COUNTY ROAD 207        | LIBERTY HILL |     0.00 |         0.00 |\n"
     ]
    }
   ],
   "source": [
    "location_sum('City', 'LIBERTY HILL').limit(3).print_table(max_column_width=60)"
   ]
  },
  {
   "cell_type": "code",
   "execution_count": 38,
   "metadata": {
    "collapsed": false,
    "deletable": true,
    "editable": true
   },
   "outputs": [
    {
     "name": "stdout",
     "output_type": "stream",
     "text": [
      "| Establishment                             | City         |  Tax_sum | Receipts_sum |\n",
      "| ----------------------------------------- | ------------ | -------- | ------------ |\n",
      "| WAGNOR BROTHERS 15505 INTERSTATE 35 STE C | PFLUGERVILLE | 7,013.09 |   104,672.99 |\n",
      "| MAVERICKS 1700 GRAND AVENUE PKWY STE 2    | PFLUGERVILLE | 6,594.94 |    98,431.94 |\n",
      "| HANOVER'S DRAUGHT HAUS 108 E MAIN ST      | PFLUGERVILLE | 4,891.46 |    73,006.87 |\n"
     ]
    }
   ],
   "source": [
    "location_sum('City', 'PFLUGERVILLE').limit(3).print_table(max_column_width=60)"
   ]
  },
  {
   "cell_type": "code",
   "execution_count": 39,
   "metadata": {
    "collapsed": false,
    "deletable": true,
    "editable": true
   },
   "outputs": [
    {
     "name": "stdout",
     "output_type": "stream",
     "text": [
      "| Establishment                                           | City       |   Tax_sum | Receipts_sum |\n",
      "| ------------------------------------------------------- | ---------- | --------- | ------------ |\n",
      "| RICK'S CABARET 3105 S INTERSTATE 35                     | ROUND ROCK | 12,413.29 |   185,272.99 |\n",
      "| CHUY'S ROUND ROCK 2320 N I H 35                         | ROUND ROCK | 11,027.06 |   164,582.99 |\n",
      "| THIRD BASE ROUND ROCK, LLC 3107 S INTERSTATE 35 STE 810 | ROUND ROCK | 10,677.58 |   159,366.87 |\n",
      "| FAST EDDIE'S NEIGHBORHOOD BILL 100 PARKER DR            | ROUND ROCK |  9,946.41 |   148,453.88 |\n",
      "| JACK ALLEN'S KITCHEN 2500 HOPPE TRL                     | ROUND ROCK |  9,771.95 |   145,850.00 |\n"
     ]
    }
   ],
   "source": [
    "location_sum('City', 'ROUND ROCK').limit(5).print_table(max_column_width=60)"
   ]
  },
  {
   "cell_type": "code",
   "execution_count": 40,
   "metadata": {
    "collapsed": false,
    "deletable": true,
    "editable": true
   },
   "outputs": [
    {
     "name": "stdout",
     "output_type": "stream",
     "text": [
      "| Establishment                                   | City       |   Tax_sum | Receipts_sum |\n",
      "| ----------------------------------------------- | ---------- | --------- | ------------ |\n",
      "| ZELICKS 336 W HOPKINS ST                        | SAN MARCOS | 10,309.55 |   153,873.88 |\n",
      "| THE TAP ROOM & THE PORCH ON HO 129 E HOPKINS ST | SAN MARCOS |  7,167.72 |   106,980.90 |\n",
      "| PLUCKERS WING BAR 105 N INTERSTATE 35           | SAN MARCOS |  7,061.19 |   105,390.90 |\n",
      "| SEAN PATRICK'S 202 E SAN ANTONIO ST             | SAN MARCOS |  6,795.47 |   101,424.93 |\n",
      "| CHIMY'S SAN MARCOS 217 E HOPKINS ST             | SAN MARCOS |  6,752.19 |   100,778.96 |\n"
     ]
    }
   ],
   "source": [
    "location_sum('City', 'SAN MARCOS').limit(5).print_table(max_column_width=60)"
   ]
  },
  {
   "cell_type": "code",
   "execution_count": 41,
   "metadata": {
    "collapsed": false,
    "deletable": true,
    "editable": true
   },
   "outputs": [
    {
     "name": "stdout",
     "output_type": "stream",
     "text": [
      "| Establishment                                      | City      |  Tax_sum | Receipts_sum |\n",
      "| -------------------------------------------------- | --------- | -------- | ------------ |\n",
      "| ANGEL'S ICEHOUSE 21815 W HWY 71                    | SPICEWOOD | 3,777.12 |    56,374.93 |\n",
      "| POODIES HILLTOP ROADHOUSE 22308 STATE HIGHWAY 71 W | SPICEWOOD | 3,229.86 |    48,206.87 |\n",
      "| APIS RESTAURANT 23526 STATE HIGHWAY 71 W           | SPICEWOOD | 1,522.64 |    22,725.97 |\n"
     ]
    }
   ],
   "source": [
    "location_sum('City', 'SPICEWOOD').limit(3).print_table(max_column_width=60)"
   ]
  },
  {
   "cell_type": "code",
   "execution_count": 42,
   "metadata": {
    "collapsed": false,
    "deletable": true,
    "editable": true
   },
   "outputs": [
    {
     "name": "stdout",
     "output_type": "stream",
     "text": [
      "| Establishment                                        | City          |  Tax_sum | Receipts_sum |\n",
      "| ---------------------------------------------------- | ------------- | -------- | ------------ |\n",
      "| DOC'S BACKYARD 5207 BRODIE LN # 100                  | SUNSET VALLEY | 5,830.13 |    87,016.87 |\n",
      "| BJ'S RESTAURANT AND BREWHOUSE 5207 BRODIE LN STE 300 | SUNSET VALLEY | 4,680.01 |    69,850.90 |\n",
      "| LONGHORN STEAKHOUSE #5423 4809 W HIGHWAY 290         | SUNSET VALLEY | 1,213.90 |    18,117.91 |\n"
     ]
    }
   ],
   "source": [
    "location_sum('City', 'SUNSET VALLEY').limit(3).print_table(max_column_width=60)"
   ]
  },
  {
   "cell_type": "code",
   "execution_count": 43,
   "metadata": {
    "collapsed": false,
    "deletable": true,
    "editable": true
   },
   "outputs": [
    {
     "name": "stdout",
     "output_type": "stream",
     "text": [
      "| Establishment                                               | City            |  Tax_sum | Receipts_sum |\n",
      "| ----------------------------------------------------------- | --------------- | -------- | ------------ |\n",
      "| LUPE TORTILLA MEXICAN RESTAURA 701 S CAPITAL OF TEXAS HWY S | WEST LAKE HILLS | 6,273.54 |    93,634.93 |\n",
      "| CHIPOTLE CHIPOTLE MEXICAN GRIL 3300 BEE CAVES RD STE 670    | WEST LAKE HILLS |    35.77 |       533.88 |\n",
      "| LION & ROSE 701 S CAPITAL OF TEXAS HWY                      | WEST LAKE HILLS |     0.00 |         0.00 |\n"
     ]
    }
   ],
   "source": [
    "location_sum('City', 'WEST LAKE HILLS').limit(3).print_table(max_column_width=60)"
   ]
  },
  {
   "cell_type": "markdown",
   "metadata": {
    "deletable": true,
    "editable": true
   },
   "source": [
    "## Sales by county\n",
    "\n",
    "In this case, we pass in the location type of 'County' and then a county name in caps to get the most sales in a particular county."
   ]
  },
  {
   "cell_type": "code",
   "execution_count": 44,
   "metadata": {
    "collapsed": false,
    "deletable": true,
    "editable": true,
    "scrolled": true
   },
   "outputs": [
    {
     "name": "stdout",
     "output_type": "stream",
     "text": [
      "| Establishment                                     | County  |   Tax_sum | Receipts_sum |\n",
      "| ------------------------------------------------- | ------- | --------- | ------------ |\n",
      "| LOST PINES BEVERAGE LLC 575 HYATT LOST PINES ROAD | Bastrop | 32,356.57 |   482,933.88 |\n",
      "| OLD TOWN RESTURANT AND BAR/PIN 931 MAIN ST        | Bastrop |  4,142.81 |    61,832.99 |\n",
      "| CHILI'S GRILL & BAR 734 HIGHWAY 71 W              | Bastrop |  2,889.64 |    43,128.96 |\n",
      "| NEIGHBOR'S 601 CHESTNUT ST UNIT C                 | Bastrop |  2,345.80 |    35,011.94 |\n",
      "| REGULATOR'S SPORTS BAR & GRILL 202 S AVENUE C     | Bastrop |  1,979.91 |    29,550.90 |\n"
     ]
    }
   ],
   "source": [
    "location_sum('County', 'BASTROP').limit(5).print_table(max_column_width=80)"
   ]
  },
  {
   "cell_type": "code",
   "execution_count": 45,
   "metadata": {
    "collapsed": false,
    "deletable": true,
    "editable": true
   },
   "outputs": [
    {
     "name": "stdout",
     "output_type": "stream",
     "text": [
      "| Establishment                                             | County   |  Tax_sum | Receipts_sum |\n",
      "| --------------------------------------------------------- | -------- | -------- | ------------ |\n",
      "| GUADALAJARA MEXICAN RESTAURANT 1710 S COLORADO ST STE 110 | Caldwell | 1,218.06 |    18,180.00 |\n",
      "| BRMJ, LLC 831 S COLORADO ST                               | Caldwell |   519.11 |     7,747.91 |\n",
      "| MR TACO 1132 E PIERCE ST                                  | Caldwell |   395.16 |     5,897.91 |\n"
     ]
    }
   ],
   "source": [
    "location_sum('County', 'CALDWELL').limit(3).print_table(max_column_width=80)"
   ]
  },
  {
   "cell_type": "code",
   "execution_count": 46,
   "metadata": {
    "collapsed": false,
    "deletable": true,
    "editable": true
   },
   "outputs": [
    {
     "name": "stdout",
     "output_type": "stream",
     "text": [
      "| Establishment                                   | County |   Tax_sum | Receipts_sum |\n",
      "| ----------------------------------------------- | ------ | --------- | ------------ |\n",
      "| ZELICKS 336 W HOPKINS ST                        | Hays   | 10,309.55 |   153,873.88 |\n",
      "| THE TAP ROOM & THE PORCH ON HO 129 E HOPKINS ST | Hays   |  7,167.72 |   106,980.90 |\n",
      "| PLUCKERS WING BAR 105 N INTERSTATE 35           | Hays   |  7,061.19 |   105,390.90 |\n"
     ]
    }
   ],
   "source": [
    "location_sum('County', 'HAYS').limit(3).print_table(max_column_width=80)"
   ]
  },
  {
   "cell_type": "code",
   "execution_count": 47,
   "metadata": {
    "collapsed": false,
    "deletable": true,
    "editable": true
   },
   "outputs": [
    {
     "name": "stdout",
     "output_type": "stream",
     "text": [
      "| Establishment                                  | County |   Tax_sum | Receipts_sum |\n",
      "| ---------------------------------------------- | ------ | --------- | ------------ |\n",
      "| WLS BEVERAGE CO 110 E 2ND ST                   | Travis | 61,818.82 |   922,668.96 |\n",
      "| 400 BAR/CUCARACHA/CHUPACABRA/J 400 E 6TH ST    | Travis | 46,656.99 |   696,372.99 |\n",
      "| THE DOGWOOD DOMAIN 11420 ROCK ROSE AVE STE 700 | Travis | 36,806.78 |   549,354.93 |\n"
     ]
    }
   ],
   "source": [
    "location_sum('County', 'TRAVIS').limit(3).print_table(max_column_width=80)"
   ]
  },
  {
   "cell_type": "code",
   "execution_count": 48,
   "metadata": {
    "collapsed": false,
    "deletable": true,
    "editable": true
   },
   "outputs": [
    {
     "name": "stdout",
     "output_type": "stream",
     "text": [
      "| Establishment                                      | County     |   Tax_sum | Receipts_sum |\n",
      "| -------------------------------------------------- | ---------- | --------- | ------------ |\n",
      "| CHUY'S ROUND ROCK 2320 N I H 35                    | Williamson | 11,027.06 |   164,582.99 |\n",
      "| ALAMO DRAFTHOUSE CINEMA 14028 N HIGHWAY 183 BLDG F | Williamson | 10,858.69 |   162,070.00 |\n",
      "| JACK ALLEN'S KITCHEN 2500 HOPPE TRL                | Williamson |  9,771.95 |   145,850.00 |\n"
     ]
    }
   ],
   "source": [
    "location_sum('County', 'WILLIAMSON').limit(3).print_table(max_column_width=80)"
   ]
  },
  {
   "cell_type": "markdown",
   "metadata": {
    "deletable": true,
    "editable": true
   },
   "source": [
    "## Sales by ZIP Code\n",
    "For this, we'll do a simple pivot on Zip, but instead of using the default Count method, we'll pass in an aggregation to add the Tax values together for all the Zips. Whe then order_by in reverse to get the top values."
   ]
  },
  {
   "cell_type": "code",
   "execution_count": 49,
   "metadata": {
    "collapsed": false,
    "deletable": true,
    "editable": true
   },
   "outputs": [
    {
     "name": "stdout",
     "output_type": "stream",
     "text": [
      "| Zip   |          Sum |\n",
      "| ----- | ------------ |\n",
      "| 78701 | 2,040,719.27 |\n",
      "| 78205 |   761,269.84 |\n",
      "| 75201 |   685,529.78 |\n",
      "| 77002 |   549,587.31 |\n",
      "| 77006 |   533,970.55 |\n"
     ]
    }
   ],
   "source": [
    "# top zip code for Tax value\n",
    "zip_tax = mixbev_month.pivot('Zip', aggregation=agate.Sum('Tax')).order_by('Sum', reverse=True)\n",
    "zip_tax.limit(5).print_table()"
   ]
  },
  {
   "cell_type": "code",
   "execution_count": 50,
   "metadata": {
    "collapsed": false,
    "deletable": true,
    "editable": true
   },
   "outputs": [
    {
     "name": "stdout",
     "output_type": "stream",
     "text": [
      "| Zip   |           Sum |\n",
      "| ----- | ------------- |\n",
      "| 78701 | 30,458,497.06 |\n",
      "| 78205 | 11,362,236.70 |\n",
      "| 75201 | 10,231,787.96 |\n",
      "| 77002 |  8,202,795.88 |\n",
      "| 77006 |  7,969,709.90 |\n"
     ]
    }
   ],
   "source": [
    "# top zip code gross receipts\n",
    "zip_receipts = mixbev_month.pivot('Zip', aggregation=agate.Sum('Receipts')).order_by('Sum', reverse=True)\n",
    "zip_receipts.limit(5).print_table()"
   ]
  },
  {
   "cell_type": "code",
   "execution_count": null,
   "metadata": {
    "collapsed": true,
    "deletable": true,
    "editable": true
   },
   "outputs": [],
   "source": []
  }
 ],
 "metadata": {
  "kernelspec": {
   "display_name": "Python 3",
   "language": "python",
   "name": "python3"
  },
  "language_info": {
   "codemirror_mode": {
    "name": "ipython",
    "version": 3
   },
   "file_extension": ".py",
   "mimetype": "text/x-python",
   "name": "python",
   "nbconvert_exporter": "python",
   "pygments_lexer": "ipython3",
   "version": "3.6.1"
  }
 },
 "nbformat": 4,
 "nbformat_minor": 2
}
