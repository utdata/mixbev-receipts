{
 "cells": [
  {
   "cell_type": "markdown",
   "metadata": {
    "deletable": true,
    "editable": true
   },
   "source": [
    "# Processing mixed beverage data\n",
    "This Jupyter Notebook uses [Mixed Beverage Gross Receipts](https://comptroller.texas.gov/taxes/mixed-beverage/receipts.php) files that were once stored on the Texas Comptroller's [data center](https://comptroller.texas.gov/transparency/open-data/search-datasets/), and then a python library called [agate](http://agate.readthedocs.io/) to clean and process that data for [stories similar to this one](http://www.mystatesman.com/business/austin-alcohol-sales-percent-february/Oo2txZUkuDlqBl0rU9O1lJ/) on monthly alcohol sales.\n",
    "\n",
    "The Comptroller has since changed the data and storage. See the **Mixed Beverages agate-new** notebook.\n",
    "\n",
    "- [Top sales statewide](#Top-sales-statewide)\n",
    "- [Austin sales](#Austin-sales-and-sums)\n",
    "- [Central Texas cities](#More-Central-Texas-cities)\n",
    "\n"
   ]
  },
  {
   "cell_type": "markdown",
   "metadata": {
    "deletable": true,
    "editable": true
   },
   "source": [
    "### Downloading the file\n",
    "\n",
    "If you know the url of the file on the internet, it is possible to download the file as part of the script. This is commented out since the data has been removed."
   ]
  },
  {
   "cell_type": "code",
   "execution_count": 89,
   "metadata": {
    "collapsed": false,
    "deletable": true,
    "editable": true
   },
   "outputs": [],
   "source": [
    "%%bash\n",
    "## downloads the mixedbev file\n",
    "## You have to set this URL based on the data center\n",
    "## curl -O https://comptroller.texas.gov/auto-data/odc/MIXEDBEV_04_2017.CSV"
   ]
  },
  {
   "cell_type": "markdown",
   "metadata": {
    "deletable": true,
    "editable": true
   },
   "source": [
    "\n",
    "There is supposedly a way to call a file from a [remote url](http://agate-remote.readthedocs.io/en/0.2.0/) into agate, but I use bash above to curl the file and store it locally instead.\n",
    "\n",
    "Next, we'll use a bash command to peek at the data, which we know is a mess:"
   ]
  },
  {
   "cell_type": "code",
   "execution_count": 90,
   "metadata": {
    "collapsed": false,
    "deletable": true,
    "editable": true
   },
   "outputs": [
    {
     "name": "stdout",
     "output_type": "stream",
     "text": [
      "\"MB821424    \",\"ABI-HAUS                      \",\"959 N 2ND ST                  \",\"ABILENE             \",\"TX\",\"79601\",\"221\",\"          \",\"2017/02\", 000000632.34\r\n",
      "\"MB638028    \",\"ABILENE BEEHIVE INC           \",\"442 CEDAR ST STE A            \",\"ABILENE             \",\"TX\",\"79601\",\"221\",\"          \",\"2017/03\", 000002472.16\r\n",
      "\"MB543114    \",\"ABILENE BOWLING LANES INC     \",\"279 RUIDOSA AVE               \",\"ABILENE             \",\"TX\",\"79605\",\"221\",\"          \",\"2017/03\", 000000295.67\r\n",
      "\"MB933130    \",\"ABILENE CABARET LLC           \",\"1918 BUTTERNUT ST             \",\"ABILENE             \",\"TX\",\"79602\",\"221\",\"          \",\"2017/03\", 000000806.34\r\n",
      "\"N 037863    \",\"ABILENE COUNTRY CLUB          \",\"4039 S TREADAWAY BLVD         \",\"ABILENE             \",\"TX\",\"79602\",\"221\",\"          \",\"2017/03\", 000001583.54\r\n"
     ]
    }
   ],
   "source": [
    "%%bash\n",
    "head -n 5 MIXEDBEV_04_2017.CSV"
   ]
  },
  {
   "cell_type": "markdown",
   "metadata": {
    "deletable": true,
    "editable": true
   },
   "source": [
    "Now that we have our file and know what it looks like, we'll use Python and the agate library to clean and analyze it. You'll need to make sure that you have agate installed, preferably in an virtual environment like Conda, as described in the [ReadMe](README.md)."
   ]
  },
  {
   "cell_type": "code",
   "execution_count": 91,
   "metadata": {
    "collapsed": false,
    "deletable": true,
    "editable": true
   },
   "outputs": [],
   "source": [
    "# imports the libraries we will use\n",
    "import agate\n",
    "from decimal import Decimal\n",
    "import re"
   ]
  },
  {
   "cell_type": "code",
   "execution_count": 92,
   "metadata": {
    "collapsed": false,
    "deletable": true,
    "editable": true
   },
   "outputs": [],
   "source": [
    "# this surpresses the timezone warning\n",
    "# Might comment out during development so other warnings\n",
    "# are not surpressed\n",
    "import warnings\n",
    "warnings.filterwarnings('ignore')"
   ]
  },
  {
   "cell_type": "markdown",
   "metadata": {
    "deletable": true,
    "editable": true
   },
   "source": [
    "### Study variables\n",
    "\n",
    "This is where you set which file you are working with, and which month you want to study, etc.\n",
    "\n",
    "First, we'll list the files in our directory that we have downloaded so far so we can get the filename:"
   ]
  },
  {
   "cell_type": "code",
   "execution_count": 93,
   "metadata": {
    "collapsed": false,
    "deletable": true,
    "editable": true
   },
   "outputs": [
    {
     "name": "stdout",
     "output_type": "stream",
     "text": [
      "MIXEDBEV_02_2017.CSV             README.md\r\n",
      "MIXEDBEV_03_2017.CSV             counties.csv\r\n",
      "MIXEDBEV_04_2015.CSV             \u001b[34mdata-raw\u001b[m\u001b[m/\r\n",
      "MIXEDBEV_04_2016.CSV             headers.txt\r\n",
      "MIXEDBEV_04_2017.CSV             mixbev-env.txt\r\n",
      "Mixed beverages agate-new.ipynb  mixbev-pip.txt\r\n",
      "Mixed beverages agate.ipynb\r\n"
     ]
    }
   ],
   "source": [
    "ls"
   ]
  },
  {
   "cell_type": "markdown",
   "metadata": {
    "deletable": true,
    "editable": true
   },
   "source": [
    "Then we set some values based on those.\n",
    "\n",
    "- The **`file`** is the name of the file we want to process\n",
    "- The **`tax_rate`** is the value we need for this file to get the Gross Recipts (vs the Tax Reported, which is just the tax amount the establishment paid). The comptroller [has information on the tax](https://comptroller.texas.gov/taxes/mixed-beverage/receipts.php), but this [old record layout](https://github.com/utdata/cli-tools/blob/master/data/mixbevtax/OLD-MIXEDBEVTAX-LAYOUT.txt) best describes the math.\n",
    "- The **`month_studied`** is the YYYY/MM designation for the month before the file release. The file released in February has mostly records from January, but can also have any other month, so we set here the specific month we want. Note there is a check later on that counts the number of files by month, which is worth checking."
   ]
  },
  {
   "cell_type": "code",
   "execution_count": 94,
   "metadata": {
    "collapsed": false,
    "deletable": true,
    "editable": true
   },
   "outputs": [],
   "source": [
    "# this is our source file, which may have been downloaded above\n",
    "file = 'MIXEDBEV_04_2017.CSV'\n",
    "\n",
    "# Sets the tax rate to convert Report Tax to Gross Receipts\n",
    "# It's 6.7 since January 1, 2014\n",
    "tax_rate = Decimal('6.7')\n",
    "\n",
    "# setting the month_studied var.\n",
    "# This should be checked in the table below that counts records by month\n",
    "month_studied = '2017/03'\n"
   ]
  },
  {
   "cell_type": "markdown",
   "metadata": {
    "deletable": true,
    "editable": true
   },
   "source": [
    "### Import the file\n",
    "There are a couple of things we have to set to import a file. Remember we had to do the same when we did this manually in Tableau.\n",
    "- Set the column header names\n",
    "- Set the ZIP can County codes as text, so we preserve '001'.\n",
    "- The encoding type of the file (Tableau enferred, but we have to specify here. Common types are 'iso-8859-1' or  'utf-8', or 'latin1'. Just try it until it works."
   ]
  },
  {
   "cell_type": "code",
   "execution_count": 95,
   "metadata": {
    "collapsed": false,
    "deletable": true,
    "editable": true
   },
   "outputs": [
    {
     "name": "stdout",
     "output_type": "stream",
     "text": [
      "| column               | data_type |\n",
      "| -------------------- | --------- |\n",
      "| TABC Permit Number   | Text      |\n",
      "| Trade Name           | Text      |\n",
      "| Location Address     | Text      |\n",
      "| Location City        | Text      |\n",
      "| Location State       | Text      |\n",
      "| Location Zip Code    | Text      |\n",
      "| Location County Code | Text      |\n",
      "| Blank                | Boolean   |\n",
      "| Report Period        | Text      |\n",
      "| Report Tax           | Number    |\n",
      "\n"
     ]
    }
   ],
   "source": [
    "# sets the column names of the original data set.\n",
    "column_names = [\n",
    "    'TABC Permit Number',\n",
    "    'Trade Name',\n",
    "    'Location Address',\n",
    "    'Location City',\n",
    "    'Location State',\n",
    "    'Location Zip Code',\n",
    "    'Location County Code',\n",
    "    'Blank',\n",
    "    'Report Period',\n",
    "    'Report Tax'\n",
    "]\n",
    "# Helps us import some text fields that may be considered numbers in error.\n",
    "specified_types = {\n",
    "    'Location Zip Code': agate.Text(),\n",
    "    'Location County Code': agate.Text()\n",
    "}\n",
    "\n",
    "# this imports the file specified above, along with the proper types\n",
    "mixbev_raw = agate.Table.from_csv(file, column_names, encoding='iso-8859-1', column_types=specified_types)\n",
    "\n",
    "# prints table fields so we an check thoes data types\n",
    "print(mixbev_raw)"
   ]
  },
  {
   "cell_type": "markdown",
   "metadata": {
    "deletable": true,
    "editable": true
   },
   "source": [
    "### Clean up text fields and compute gross receipts"
   ]
  },
  {
   "cell_type": "code",
   "execution_count": 96,
   "metadata": {
    "collapsed": false,
    "deletable": true,
    "editable": true
   },
   "outputs": [
    {
     "name": "stdout",
     "output_type": "stream",
     "text": [
      "| column               | data_type |\n",
      "| -------------------- | --------- |\n",
      "| TABC Permit Number   | Text      |\n",
      "| Trade Name           | Text      |\n",
      "| Location Address     | Text      |\n",
      "| Location City        | Text      |\n",
      "| Location State       | Text      |\n",
      "| Location Zip Code    | Text      |\n",
      "| Location County Code | Text      |\n",
      "| Blank                | Boolean   |\n",
      "| Report Period        | Text      |\n",
      "| Report Tax           | Number    |\n",
      "| Permit               | Text      |\n",
      "| Name                 | Text      |\n",
      "| Address              | Text      |\n",
      "| City                 | Text      |\n",
      "| Receipts_compute     | Number    |\n",
      "| Receipts             | Number    |\n",
      "\n"
     ]
    }
   ],
   "source": [
    "# mixbev_trim creates a new interim table with results of compute function\n",
    "# that takes the four columns that need trimming and strips them of white space,\n",
    "# adding them to the end of the table with new names.\n",
    "# The last computation does the math to create the Gross Receipts based on the tax_rate set above\n",
    "\n",
    "mixbev_trim = mixbev_raw.compute([\n",
    "    ('Permit', agate.Formula(agate.Text(), lambda r: r['TABC Permit Number'].strip())),\n",
    "    ('Name', agate.Formula(agate.Text(), lambda r: r['Trade Name'].strip())),\n",
    "    ('Address', agate.Formula(agate.Text(), lambda r: r['Location Address'].strip())),\n",
    "    ('City', agate.Formula(agate.Text(), lambda r: r['Location City'].strip())),\n",
    "    ('Receipts_compute', agate.Formula(agate.Number(), lambda r: (r['Report Tax'] / tax_rate) * 100))\n",
    "])\n",
    "\n",
    "# the Receipts_compute computation above returns as a decimal number,\n",
    "# so this function rounds those numbers.\n",
    "# I might refactor this late so I can use it elsewhere.\n",
    "def round_receipt(row):\n",
    "    return row['Receipts_compute'].quantize(Decimal('0.01'))\n",
    "\n",
    "# This compute method uses round_recipt function above,\n",
    "# putting the results into a new table.\n",
    "mixbev_round = mixbev_trim.compute([\n",
    "    ('Receipts', agate.Formula(agate.Number(), round_receipt))\n",
    "])\n",
    "\n",
    "## shows the new columns added to the interim table\n",
    "print(mixbev_round)"
   ]
  },
  {
   "cell_type": "code",
   "execution_count": 97,
   "metadata": {
    "collapsed": false,
    "deletable": true,
    "editable": true
   },
   "outputs": [
    {
     "name": "stdout",
     "output_type": "stream",
     "text": [
      "| column     | data_type |\n",
      "| ---------- | --------- |\n",
      "| Permit     | Text      |\n",
      "| Name       | Text      |\n",
      "| Address    | Text      |\n",
      "| City       | Text      |\n",
      "| State      | Text      |\n",
      "| Zip        | Text      |\n",
      "| CountyCode | Text      |\n",
      "| Period     | Text      |\n",
      "| Tax        | Number    |\n",
      "| Receipts   | Number    |\n",
      "\n"
     ]
    }
   ],
   "source": [
    "# creates new table, selecting just the columns we need\n",
    "# then renames some of them for ease later.\n",
    "mixbev_cleaned = mixbev_round.select([\n",
    "    'Permit',\n",
    "    'Name',\n",
    "    'Address',\n",
    "    'City',\n",
    "    'Location State',\n",
    "    'Location Zip Code',\n",
    "    'Location County Code',\n",
    "    'Report Period',\n",
    "    'Report Tax',\n",
    "    'Receipts'\n",
    "]).rename(column_names = {\n",
    "    'Location State': 'State',\n",
    "    'Location Zip Code': 'Zip',\n",
    "    'Location County Code': 'CountyCode',\n",
    "    'Report Period': 'Period',\n",
    "    'Report Tax': 'Tax'\n",
    "})\n",
    "\n",
    "## these are now the columns present in our new, cleaned table\n",
    "print(mixbev_cleaned)"
   ]
  },
  {
   "cell_type": "code",
   "execution_count": 98,
   "metadata": {
    "collapsed": false,
    "deletable": true,
    "editable": true
   },
   "outputs": [
    {
     "name": "stdout",
     "output_type": "stream",
     "text": [
      "|      Tax |  Receipts |\n",
      "| -------- | --------- |\n",
      "| 2,472.16 | 36,897.91 |\n",
      "|   295.67 |  4,412.99 |\n",
      "|   806.34 | 12,034.93 |\n",
      "| 1,583.54 | 23,634.93 |\n",
      "| 1,113.47 | 16,618.96 |\n"
     ]
    }
   ],
   "source": [
    "# and this peeks at a couple of columns the data (Tax and Receipts)\n",
    "# to make sure they make sense and the math is right\n",
    "# During development, I did send this to_csv and made sure columns were trimmed, etc\n",
    "mixbev_cleaned.select(['Tax','Receipts']).limit(5).print_table()"
   ]
  },
  {
   "cell_type": "markdown",
   "metadata": {
    "deletable": true,
    "editable": true
   },
   "source": [
    "### Create establishment column\n",
    "\n",
    "We do this so we make sure we have single establishments instead of grouping trade names together from different addresses, like 'CHILI'S BAR & GRILL'."
   ]
  },
  {
   "cell_type": "code",
   "execution_count": 99,
   "metadata": {
    "collapsed": false,
    "deletable": true,
    "editable": true
   },
   "outputs": [
    {
     "name": "stdout",
     "output_type": "stream",
     "text": [
      "| column        | data_type |\n",
      "| ------------- | --------- |\n",
      "| Permit        | Text      |\n",
      "| Name          | Text      |\n",
      "| Address       | Text      |\n",
      "| City          | Text      |\n",
      "| State         | Text      |\n",
      "| Zip           | Text      |\n",
      "| CountyCode    | Text      |\n",
      "| Period        | Text      |\n",
      "| Tax           | Number    |\n",
      "| Receipts      | Number    |\n",
      "| Establishment | Text      |\n",
      "\n"
     ]
    }
   ],
   "source": [
    "# Concatenates the name and address\n",
    "mixbev_cleaned_est = mixbev_cleaned.compute([\n",
    "    ('Establishment', agate.Formula(agate.Text(), lambda row: '%(Name)s %(Address)s' % row))\n",
    "])\n",
    "\n",
    "# Prints columns so you see it is there\n",
    "print(mixbev_cleaned_est)"
   ]
  },
  {
   "cell_type": "code",
   "execution_count": 100,
   "metadata": {
    "collapsed": false,
    "deletable": true,
    "editable": true
   },
   "outputs": [
    {
     "name": "stdout",
     "output_type": "stream",
     "text": [
      "| Establishment                              |\n",
      "| ------------------------------------------ |\n",
      "| ABILENE BEEHIVE INC 442 CEDAR ST STE A     |\n",
      "| ABILENE BOWLING LANES INC 279 RUIDOSA AVE  |\n",
      "| ABILENE CABARET LLC 1918 BUTTERNUT ST      |\n",
      "| ABILENE COUNTRY CLUB 4039 S TREADAWAY BLVD |\n",
      "| ABILENE SEAFOOD TAVERN 1882 S CLACK ST     |\n"
     ]
    }
   ],
   "source": [
    "# selects and prints Establishment to check what is looks like\n",
    "mixbev_establishment = mixbev_cleaned_est.select('Establishment')\n",
    "mixbev_establishment.limit(5).print_table(max_column_width=80)"
   ]
  },
  {
   "cell_type": "markdown",
   "metadata": {
    "deletable": true,
    "editable": true
   },
   "source": [
    "### Import and merge counties lookup table\n",
    "We do this to get county names. I got this list from the comptroller."
   ]
  },
  {
   "cell_type": "code",
   "execution_count": 101,
   "metadata": {
    "collapsed": false,
    "deletable": true,
    "editable": true
   },
   "outputs": [
    {
     "name": "stdout",
     "output_type": "stream",
     "text": [
      "| column | data_type |\n",
      "| ------ | --------- |\n",
      "| id     | Number    |\n",
      "| county | Text      |\n",
      "| code   | Text      |\n",
      "\n"
     ]
    }
   ],
   "source": [
    "# importing countes.csv, ensuring that the 'code' column is text\n",
    "counties = agate.Table.from_csv('counties.csv', column_types={'code': agate.Text()})\n",
    "\n",
    "# peek at the column names\n",
    "print(counties)"
   ]
  },
  {
   "cell_type": "code",
   "execution_count": 102,
   "metadata": {
    "collapsed": false,
    "deletable": true,
    "editable": true
   },
   "outputs": [
    {
     "name": "stdout",
     "output_type": "stream",
     "text": [
      "| id | county   | code |\n",
      "| -- | -------- | ---- |\n",
      "|  1 | Anderson | 001  |\n",
      "|  2 | Andrews  | 002  |\n",
      "|  3 | Angelina | 003  |\n",
      "|  4 | Aransas  | 004  |\n",
      "|  5 | Archer   | 005  |\n"
     ]
    }
   ],
   "source": [
    "# peek at the data\n",
    "counties.limit(5).print_table()"
   ]
  },
  {
   "cell_type": "code",
   "execution_count": 103,
   "metadata": {
    "collapsed": false,
    "deletable": true,
    "editable": true
   },
   "outputs": [
    {
     "name": "stdout",
     "output_type": "stream",
     "text": [
      "| column        | data_type |\n",
      "| ------------- | --------- |\n",
      "| Permit        | Text      |\n",
      "| Name          | Text      |\n",
      "| Address       | Text      |\n",
      "| City          | Text      |\n",
      "| State         | Text      |\n",
      "| Zip           | Text      |\n",
      "| CountyCode    | Text      |\n",
      "| Period        | Text      |\n",
      "| Tax           | Number    |\n",
      "| Receipts      | Number    |\n",
      "| Establishment | Text      |\n",
      "| id            | Number    |\n",
      "| county        | Text      |\n",
      "\n"
     ]
    }
   ],
   "source": [
    "# joines the counties table to the mixed bev cleaned data with establishments\n",
    "mixbev_joined = mixbev_cleaned_est.join(counties, 'CountyCode', 'code')\n",
    "\n",
    "# check that the merge was succesful \n",
    "print(mixbev_joined)"
   ]
  },
  {
   "cell_type": "code",
   "execution_count": 104,
   "metadata": {
    "collapsed": false,
    "deletable": true,
    "editable": true
   },
   "outputs": [
    {
     "name": "stdout",
     "output_type": "stream",
     "text": [
      "| column        | data_type |\n",
      "| ------------- | --------- |\n",
      "| Permit        | Text      |\n",
      "| Name          | Text      |\n",
      "| Address       | Text      |\n",
      "| Establishment | Text      |\n",
      "| City          | Text      |\n",
      "| State         | Text      |\n",
      "| Zip           | Text      |\n",
      "| County        | Text      |\n",
      "| Period        | Text      |\n",
      "| Tax           | Number    |\n",
      "| Receipts      | Number    |\n",
      "\n"
     ]
    }
   ],
   "source": [
    "# get just the columns we need and rename county\n",
    "# THIS is the finished, cleaned mixbev table\n",
    "mixbev = mixbev_joined.select([\n",
    "    'Permit',\n",
    "    'Name',\n",
    "    'Address',\n",
    "    'Establishment',\n",
    "    'City',\n",
    "    'State',\n",
    "    'Zip',\n",
    "    'county',\n",
    "    'Period',\n",
    "    'Tax',\n",
    "    'Receipts'\n",
    "]).rename(column_names = {\n",
    "    'county': 'County'\n",
    "})\n",
    "\n",
    "# peek at the column names\n",
    "print(mixbev)"
   ]
  },
  {
   "cell_type": "code",
   "execution_count": 105,
   "metadata": {
    "collapsed": false,
    "deletable": true,
    "editable": true
   },
   "outputs": [
    {
     "name": "stdout",
     "output_type": "stream",
     "text": [
      "| Permit   | Name                 | Address              | Establishment        | City    | State | ... |\n",
      "| -------- | -------------------- | -------------------- | -------------------- | ------- | ----- | --- |\n",
      "| MB638028 | ABILENE BEEHIVE INC  | 442 CEDAR ST STE A   | ABILENE BEEHIVE I... | ABILENE | TX    | ... |\n",
      "| MB543114 | ABILENE BOWLING L... | 279 RUIDOSA AVE      | ABILENE BOWLING L... | ABILENE | TX    | ... |\n",
      "| MB933130 | ABILENE CABARET LLC  | 1918 BUTTERNUT ST    | ABILENE CABARET L... | ABILENE | TX    | ... |\n",
      "| N 037863 | ABILENE COUNTRY CLUB | 4039 S TREADAWAY ... | ABILENE COUNTRY C... | ABILENE | TX    | ... |\n",
      "| MB200506 | ABILENE SEAFOOD T... | 1882 S CLACK ST      | ABILENE SEAFOOD T... | ABILENE | TX    | ... |\n"
     ]
    }
   ],
   "source": [
    "# peek at the table\n",
    "mixbev.limit(5).print_table()"
   ]
  },
  {
   "cell_type": "markdown",
   "metadata": {
    "deletable": true,
    "editable": true
   },
   "source": [
    "### Looking at dates of the records\n",
    "\n",
    "Here we are looking at the entire mixbev table to see what range of dates we have. This way we can make sure we are analyzing the correct month based on this data. (More than one month can be present, but it will be predominately the previous month).\n",
    "\n",
    "To explain what we are doing here, as it is kind of obtuse in agate:\n",
    "- use group_by to create a tableset by the Period field.\n",
    "- Create a table and set it it based on counting the number of records for each Period.\n",
    "- create a table to then sort the period in reverse order to put the dominate month at the top\n",
    "- Then print the sorted table (top 10 rows)"
   ]
  },
  {
   "cell_type": "code",
   "execution_count": 106,
   "metadata": {
    "collapsed": false,
    "deletable": true,
    "editable": true
   },
   "outputs": [
    {
     "name": "stdout",
     "output_type": "stream",
     "text": [
      "| Period  |  count |\n",
      "| ------- | ------ |\n",
      "| 2017/03 | 14,144 |\n",
      "| 2017/02 |  1,718 |\n",
      "| 2017/01 |    258 |\n",
      "| 2016/12 |     61 |\n",
      "| 2017/04 |     49 |\n",
      "| 2016/11 |     44 |\n",
      "| 2016/10 |     32 |\n",
      "| 2016/09 |     25 |\n",
      "| 2016/08 |     23 |\n",
      "| 2016/07 |     17 |\n",
      "| 2016/01 |     13 |\n",
      "| 2016/02 |     13 |\n",
      "| 2016/05 |     13 |\n",
      "| 2016/06 |     13 |\n",
      "| 2016/03 |     12 |\n",
      "| 2016/04 |     12 |\n",
      "| 2015/11 |     12 |\n",
      "| 2015/12 |     12 |\n",
      "| 2015/10 |     11 |\n",
      "| 2015/09 |      9 |\n",
      "| 2015/06 |      8 |\n",
      "| 2015/07 |      8 |\n",
      "| 2015/08 |      8 |\n",
      "| 2015/02 |      7 |\n",
      "| 2015/03 |      7 |\n",
      "| 2015/05 |      6 |\n",
      "| 2014/07 |      6 |\n",
      "| 2014/09 |      6 |\n",
      "| 2014/10 |      6 |\n",
      "| 2015/01 |      6 |\n",
      "| 2015/04 |      6 |\n",
      "| 2014/05 |      4 |\n",
      "| 2014/06 |      4 |\n",
      "| 2014/08 |      4 |\n",
      "| 2014/11 |      4 |\n",
      "| 2014/12 |      4 |\n",
      "| 2013/11 |      4 |\n",
      "| 2014/04 |      3 |\n",
      "| 2013/04 |      3 |\n",
      "| 2013/05 |      3 |\n",
      "| 2013/06 |      3 |\n",
      "| 2013/07 |      3 |\n",
      "| 2013/08 |      3 |\n",
      "| 2013/09 |      3 |\n",
      "| 2013/10 |      3 |\n",
      "| 2013/12 |      3 |\n",
      "| 2014/01 |      3 |\n",
      "| 2014/02 |      3 |\n",
      "| 2014/03 |      3 |\n",
      "| 2013/03 |      2 |\n",
      "| 2012/08 |      2 |\n"
     ]
    }
   ],
   "source": [
    "# this is the group_by\n",
    "by_period = mixbev.group_by('Period')\n",
    "\n",
    "# Then aggregate that group by count of records in Period\n",
    "period_totals = by_period.aggregate([\n",
    "    ('count', agate.Count())\n",
    "])\n",
    "\n",
    "# Take those results and sort them\n",
    "period_totals_sorted = period_totals.order_by('count', reverse=True)\n",
    "\n",
    "# prints the table of period and number of records\n",
    "period_totals_sorted.print_table(max_rows=None)\n"
   ]
  },
  {
   "cell_type": "markdown",
   "metadata": {
    "deletable": true,
    "editable": true
   },
   "source": [
    "The top value in the table above is typically the month before the reporting date. This also shows how many records are filed for OTHER months. We want to make sure the top month value is included as the **month_studied** variable at the top of this file.\n",
    "\n",
    "So, now we can filter the data to our specific month, which will use for the rest of the analysis:"
   ]
  },
  {
   "cell_type": "code",
   "execution_count": 107,
   "metadata": {
    "collapsed": false,
    "deletable": true,
    "editable": true
   },
   "outputs": [
    {
     "data": {
      "text/plain": [
       "14144"
      ]
     },
     "execution_count": 107,
     "metadata": {},
     "output_type": "execute_result"
    }
   ],
   "source": [
    "## filters the records to our month_studied\n",
    "mixbev_month = mixbev.where(lambda row: row['Period'] == month_studied)\n",
    "\n",
    "## The number of records in our month\n",
    "len(mixbev_month)"
   ]
  },
  {
   "cell_type": "markdown",
   "metadata": {
    "deletable": true,
    "editable": true
   },
   "source": [
    "## Top sales statewide\n",
    "\n",
    "Because we want to group our results by more than one field and perform more than one aggregation, we'll do this a little differently. We'll use group_by to create a grouped table, then perform aggregations on that new table to computer the Tax and Receipts columns."
   ]
  },
  {
   "cell_type": "code",
   "execution_count": 108,
   "metadata": {
    "collapsed": false,
    "deletable": true,
    "editable": true
   },
   "outputs": [
    {
     "name": "stdout",
     "output_type": "stream",
     "text": [
      "| Establishment                            | County  | City        |    Tax_sum |    Sales_sum |\n",
      "| ---------------------------------------- | ------- | ----------- | ---------- | ------------ |\n",
      "| THREE NRG PARK 2000 SOUTH LOOP W         | Harris  | HOUSTON     | 251,360.81 | 3,751,653.88 |\n",
      "| ARAMARK SPORTS AND ENTERTAINME 211 AT... | Bexar   | SAN ANTONIO | 127,188.37 | 1,898,333.88 |\n",
      "| GAYLORD TEXAN 1501 GAYLORD TRL           | Tarrant | GRAPEVINE   | 106,811.33 | 1,594,198.96 |\n",
      "| HOSPITALITY INTERNATIONAL, INC 23808 ... | Bexar   | SAN ANTONIO | 102,455.66 | 1,529,188.96 |\n",
      "| LEVY RESTAURANTS AT TOYOTA CEN 1510 P... | Harris  | HOUSTON     |  79,008.41 | 1,179,230.00 |\n",
      "| SALC, INC. 2201 N STEMMONS FWY FL 1      | Dallas  | DALLAS      |  75,850.63 | 1,132,098.96 |\n",
      "| WLS BEVERAGE CO 110 E 2ND ST             | Travis  | AUSTIN      |  75,785.84 | 1,131,131.94 |\n",
      "| OMNI DALLAS CONVENTION CENTER 555 S L... | Dallas  | DALLAS      |  64,926.48 |   969,051.94 |\n",
      "| LEVY RESTAURANTS 2500 VICTORY AVE        | Dallas  | DALLAS      |  63,290.41 |   944,632.99 |\n",
      "| ARAMARK SPORTS & ENTERTAINMENT 8355 K... | Harris  | HOUSTON     |  61,416.82 |   916,668.96 |\n"
     ]
    }
   ],
   "source": [
    "# groups the data based on Establishment and City\n",
    "mixbev_grouped = mixbev_month.group_by('Establishment').group_by('County').group_by('City')\n",
    "\n",
    "# computes the sales based on the grouping\n",
    "state_summary = mixbev_grouped.aggregate([\n",
    "    ('Tax_sum', agate.Sum('Tax')),\n",
    "    ('Sales_sum', agate.Sum('Receipts'))\n",
    "])\n",
    "\n",
    "# sorts the results by most sold. We could probalby chain it above if we wanted to.\n",
    "state_summary_sorted = state_summary.order_by('Sales_sum', reverse=True)\n",
    "\n",
    "# prints the top 10 results\n",
    "state_summary_sorted.limit(10).print_table(max_column_width=40)"
   ]
  },
  {
   "cell_type": "markdown",
   "metadata": {
    "deletable": true,
    "editable": true
   },
   "source": [
    "## Overall statewide sum"
   ]
  },
  {
   "cell_type": "code",
   "execution_count": 109,
   "metadata": {
    "collapsed": false,
    "deletable": true,
    "editable": true
   },
   "outputs": [
    {
     "data": {
      "text/plain": [
       "Decimal('589318616.73')"
      ]
     },
     "execution_count": 109,
     "metadata": {},
     "output_type": "execute_result"
    }
   ],
   "source": [
    "# summing sales statewide for month\n",
    "mixbev_month.aggregate(agate.Sum('Receipts'))"
   ]
  },
  {
   "cell_type": "markdown",
   "metadata": {
    "deletable": true,
    "editable": true
   },
   "source": [
    "## Location sums function\n",
    "\n",
    "Because we want to get the top sellers in a bunch of cities and couties, we create a function so we don't have to repeat the code. This function allows us to pass in a city or county name to filter the monthly receipts table and then sum the Tax and Receipts columns. The result can then be acted on to print or aggreggate."
   ]
  },
  {
   "cell_type": "code",
   "execution_count": 110,
   "metadata": {
    "collapsed": false,
    "deletable": true,
    "editable": true
   },
   "outputs": [],
   "source": [
    "# function to group sales by a specific location\n",
    "# City or County passed in should be ALL CAPS\n",
    "# Location_type can be 'City' or 'County'\n",
    "\n",
    "def location_sum(location_type, location):\n",
    "    # Filters the data to the specified city\n",
    "    location_filtered = mixbev_month.where(lambda row: row[location_type].upper() == location)\n",
    "\n",
    "    # groups the data based on Establishment and location\n",
    "    location_grouped = location_filtered.group_by('Establishment').group_by(location_type)\n",
    "    # computes the sales based on the grouping\n",
    "    location_summary = location_grouped.aggregate([\n",
    "        ('Tax_sum', agate.Sum('Tax')),\n",
    "        ('Receipts_sum', agate.Sum('Receipts'))\n",
    "    ])\n",
    "    \n",
    "    # sorts the results by most sold\n",
    "    location_summary_sorted = location_summary.order_by('Receipts_sum', reverse=True)\n",
    "    # prints the top 10 results\n",
    "    \n",
    "    return(location_summary_sorted)\n"
   ]
  },
  {
   "cell_type": "markdown",
   "metadata": {
    "deletable": true,
    "editable": true
   },
   "source": [
    "## Austin sales and sums\n",
    "\n",
    "With this, we refernce the location_sum function above, and pass the type of location (City) and the name of the city (AUSTIN). At the same time, we limit the result of that function to the first 10 records, and then print the results. We are basically stringing together a bunch of stuff at once."
   ]
  },
  {
   "cell_type": "code",
   "execution_count": 111,
   "metadata": {
    "collapsed": false,
    "deletable": true,
    "editable": true
   },
   "outputs": [
    {
     "name": "stdout",
     "output_type": "stream",
     "text": [
      "| Establishment                                      | City   |   Tax_sum | Receipts_sum |\n",
      "| -------------------------------------------------- | ------ | --------- | ------------ |\n",
      "| WLS BEVERAGE CO 110 E 2ND ST                       | AUSTIN | 75,785.84 | 1,131,131.94 |\n",
      "| 400 BAR/CUCARACHA/CHUPACABRA/J 400 E 6TH ST        | AUSTIN | 43,934.51 |   655,738.96 |\n",
      "| SAN JACINTO BEVERAGE COMPANY L 98 SAN JACINTO BLVD | AUSTIN | 37,672.15 |   562,270.90 |\n",
      "| RAIN ON 4TH 217 W 4TH ST STE B                     | AUSTIN | 36,828.02 |   549,671.94 |\n",
      "| THE BLIND PIG PUB 317 E 6TH ST                     | AUSTIN | 32,472.48 |   484,663.88 |\n"
     ]
    }
   ],
   "source": [
    "# uses the city_sum function to filter\n",
    "austin = location_sum('City', 'AUSTIN')\n",
    "\n",
    "# print the resulting table\n",
    "austin.limit(5).print_table(max_column_width=60)"
   ]
  },
  {
   "cell_type": "markdown",
   "metadata": {
    "deletable": true,
    "editable": true
   },
   "source": [
    "### String methods together to print a table\n",
    "So far, we've been printing tables, but Agate can also print charts. The **`print_bars`** method creates a simple, text-based bar chart."
   ]
  },
  {
   "cell_type": "code",
   "execution_count": 112,
   "metadata": {
    "collapsed": false,
    "deletable": true,
    "editable": true
   },
   "outputs": [
    {
     "name": "stdout",
     "output_type": "stream",
     "text": [
      "Establishment                                      Receipts_sum\n",
      "WLS BEVERAGE CO 110 E 2ND ST                       1,131,131.94 ▓░░░░░░░░░░░░░░           \n",
      "400 BAR/CUCARACHA/CHUPACABRA/J 400 E 6TH ST          655,738.96 ▓░░░░░░░░                 \n",
      "SAN JACINTO BEVERAGE COMPANY L 98 SAN JACINTO BLVD   562,270.90 ▓░░░░░░░                  \n",
      "RAIN ON 4TH 217 W 4TH ST STE B                       549,671.94 ▓░░░░░░░                  \n",
      "THE BLIND PIG PUB 317 E 6TH ST                       484,663.88 ▓░░░░░░                   \n",
      "ROSE ROOM/ 77 DEGREES 11500 ROCK ROSE AVE            477,230.90 ▓░░░░░░                   \n",
      "CONTAINER BAR 90 RAINEY ST                           468,865.97 ▓░░░░░░                   \n",
      "W HOTEL AUSTIN 200 LAVACA ST                         440,127.91 ▓░░░░░░                   \n",
      "DH BEVERAGE LLC 604 BRAZOS ST                        428,531.94 ▓░░░░░                    \n",
      "TOP GOLF 2700 ESPERANZA XING                         418,343.88 ▓░░░░░                    \n",
      "                                                                +-----+------------------+\n",
      "                                                                0  500,000       2,000,000\n"
     ]
    }
   ],
   "source": [
    "# We'll use the same function, but instead of creating a new table,\n",
    "# we'll just string on the limit and print bars methods\n",
    "# print_bars needs to arguments, the label column and then the value to make the chart from\n",
    "location_sum('City', 'AUSTIN').limit(10).print_bars('Establishment', 'Receipts_sum', width=90)"
   ]
  },
  {
   "cell_type": "code",
   "execution_count": 113,
   "metadata": {
    "collapsed": false
   },
   "outputs": [
    {
     "data": {
      "image/svg+xml": [
       "<svg height=\"600\" version=\"1.1\" width=\"800\" xmlns=\"http://www.w3.org/2000/svg\"><g><rect fill=\"#f9f9f9\" height=\"600\" width=\"800\" x=\"0\" y=\"0\"/><g transform=\"translate(40 40)\"><g transform=\"translate(438 0)\"/><g transform=\"translate(0 0)\"><g transform=\"translate(438 0)\"><g class=\"axis bottom\"><text dy=\"1em\" fill=\"#666\" font-family=\"Monaco\" text-anchor=\"middle\" transform=\"\" x=\"141.0\" y=\"506.0\">Receipts_sum</text><g class=\"tick\"><line stroke=\"#eee\" stroke-width=\"1\" x1=\"93.99999999999999999999999999\" x2=\"93.99999999999999999999999999\" y1=\"0\" y2=\"472.0\"/><text dy=\"1em\" fill=\"#9c9c9c\" font-family=\"Monaco\" text-anchor=\"middle\" x=\"93.99999999999999999999999999\" y=\"476.0\">500000</text></g><g class=\"tick\"><line stroke=\"#eee\" stroke-width=\"1\" x1=\"188.0000000000000000000000000\" x2=\"188.0000000000000000000000000\" y1=\"0\" y2=\"472.0\"/><text dy=\"1em\" fill=\"#9c9c9c\" font-family=\"Monaco\" text-anchor=\"middle\" x=\"188.0000000000000000000000000\" y=\"476.0\">1000000</text></g><g class=\"tick\"><line stroke=\"#eee\" stroke-width=\"1\" x1=\"282\" x2=\"282\" y1=\"0\" y2=\"472.0\"/><text dy=\"1em\" fill=\"#9c9c9c\" font-family=\"Monaco\" text-anchor=\"middle\" x=\"282\" y=\"476.0\">1500000</text></g><g class=\"tick\"><line stroke=\"#a8a8a8\" stroke-width=\"1\" x1=\"0\" x2=\"0\" y1=\"0\" y2=\"472.0\"/><text dy=\"1em\" fill=\"#9c9c9c\" font-family=\"Monaco\" text-anchor=\"middle\" x=\"0\" y=\"476.0\">0</text></g></g><g class=\"axis left\"><text dy=\"\" fill=\"#666\" font-family=\"Monaco\" text-anchor=\"middle\" transform=\"rotate(270 -416 234)\" x=\"-416\" y=\"234.0\">Establishment</text><g class=\"tick\"><line stroke=\"#eee\" stroke-width=\"1\" x1=\"-4\" x2=\"282.0\" y1=\"444.6\" y2=\"444.6\"/><text dy=\"0.32em\" fill=\"#9c9c9c\" font-family=\"Monaco\" text-anchor=\"end\" x=\"-8\" y=\"444.6\">TOP GOLF 2700 ESPERANZA XING</text></g><g class=\"tick\"><line stroke=\"#eee\" stroke-width=\"1\" x1=\"-4\" x2=\"282.0\" y1=\"397.8\" y2=\"397.8\"/><text dy=\"0.32em\" fill=\"#9c9c9c\" font-family=\"Monaco\" text-anchor=\"end\" x=\"-8\" y=\"397.8\">DH BEVERAGE LLC 604 BRAZOS ST</text></g><g class=\"tick\"><line stroke=\"#eee\" stroke-width=\"1\" x1=\"-4\" x2=\"282.0\" y1=\"351.0\" y2=\"351.0\"/><text dy=\"0.32em\" fill=\"#9c9c9c\" font-family=\"Monaco\" text-anchor=\"end\" x=\"-8\" y=\"351.0\">W HOTEL AUSTIN 200 LAVACA ST</text></g><g class=\"tick\"><line stroke=\"#eee\" stroke-width=\"1\" x1=\"-4\" x2=\"282.0\" y1=\"304.2\" y2=\"304.2\"/><text dy=\"0.32em\" fill=\"#9c9c9c\" font-family=\"Monaco\" text-anchor=\"end\" x=\"-8\" y=\"304.2\">CONTAINER BAR 90 RAINEY ST</text></g><g class=\"tick\"><line stroke=\"#eee\" stroke-width=\"1\" x1=\"-4\" x2=\"282.0\" y1=\"257.4\" y2=\"257.4\"/><text dy=\"0.32em\" fill=\"#9c9c9c\" font-family=\"Monaco\" text-anchor=\"end\" x=\"-8\" y=\"257.4\">ROSE ROOM/ 77 DEGREES 11500 ROCK ROSE AVE</text></g><g class=\"tick\"><line stroke=\"#eee\" stroke-width=\"1\" x1=\"-4\" x2=\"282.0\" y1=\"210.6\" y2=\"210.6\"/><text dy=\"0.32em\" fill=\"#9c9c9c\" font-family=\"Monaco\" text-anchor=\"end\" x=\"-8\" y=\"210.6\">THE BLIND PIG PUB 317 E 6TH ST</text></g><g class=\"tick\"><line stroke=\"#eee\" stroke-width=\"1\" x1=\"-4\" x2=\"282.0\" y1=\"163.8\" y2=\"163.8\"/><text dy=\"0.32em\" fill=\"#9c9c9c\" font-family=\"Monaco\" text-anchor=\"end\" x=\"-8\" y=\"163.8\">RAIN ON 4TH 217 W 4TH ST STE B</text></g><g class=\"tick\"><line stroke=\"#eee\" stroke-width=\"1\" x1=\"-4\" x2=\"282.0\" y1=\"117.0\" y2=\"117.0\"/><text dy=\"0.32em\" fill=\"#9c9c9c\" font-family=\"Monaco\" text-anchor=\"end\" x=\"-8\" y=\"117.0\">SAN JACINTO BEVERAGE COMPANY L 98 SAN JACINTO BLVD</text></g><g class=\"tick\"><line stroke=\"#eee\" stroke-width=\"1\" x1=\"-4\" x2=\"282.0\" y1=\"70.2\" y2=\"70.2\"/><text dy=\"0.32em\" fill=\"#9c9c9c\" font-family=\"Monaco\" text-anchor=\"end\" x=\"-8\" y=\"70.2\">400 BAR/CUCARACHA/CHUPACABRA/J 400 E 6TH ST</text></g><g class=\"tick\"><line stroke=\"#eee\" stroke-width=\"1\" x1=\"-4\" x2=\"282.0\" y1=\"23.4\" y2=\"23.4\"/><text dy=\"0.32em\" fill=\"#9c9c9c\" font-family=\"Monaco\" text-anchor=\"end\" x=\"-8\" y=\"23.4\">WLS BEVERAGE CO 110 E 2ND ST</text></g></g><g><g class=\"series bars\"><rect fill=\"#e41a1c\" height=\"42.12\" width=\"78.64864944\" x=\"0\" y=\"423.54\"/><rect fill=\"#e41a1c\" height=\"42.12\" width=\"80.56400472\" x=\"0\" y=\"376.74\"/><rect fill=\"#e41a1c\" height=\"42.12\" width=\"82.74404708000000000000000001\" x=\"0\" y=\"329.94\"/><rect fill=\"#e41a1c\" height=\"42.12\" width=\"88.14680235999999999999999999\" x=\"0\" y=\"283.14\"/><rect fill=\"#e41a1c\" height=\"42.12\" width=\"89.71940919999999999999999999\" x=\"0\" y=\"236.34\"/><rect fill=\"#e41a1c\" height=\"42.12\" width=\"91.11680943999999999999999999\" x=\"0\" y=\"189.54\"/><rect fill=\"#e41a1c\" height=\"42.12\" width=\"103.33832472\" x=\"0\" y=\"142.74\"/><rect fill=\"#e41a1c\" height=\"42.12\" width=\"105.7069292000000000000000000\" x=\"0\" y=\"95.94\"/><rect fill=\"#e41a1c\" height=\"42.12\" width=\"123.2789244800000000000000000\" x=\"0\" y=\"49.14\"/><rect fill=\"#e41a1c\" height=\"42.12\" width=\"212.65280472\" x=\"0\" y=\"2.34\"/></g></g></g></g></g></g></svg>"
      ],
      "text/plain": [
       "<IPython.core.display.SVG object>"
      ]
     },
     "execution_count": 113,
     "metadata": {},
     "output_type": "execute_result"
    }
   ],
   "source": [
    "# You can even print simple charts with leather, which is built in.\n",
    "# There are more advance charting libraries that can integrate with agate\n",
    "location_sum('City', 'AUSTIN').limit(10).bar_chart('Establishment', 'Receipts_sum')"
   ]
  },
  {
   "cell_type": "markdown",
   "metadata": {
    "deletable": true,
    "editable": true
   },
   "source": [
    "### Total sales Austin"
   ]
  },
  {
   "cell_type": "code",
   "execution_count": 114,
   "metadata": {
    "collapsed": false,
    "deletable": true,
    "editable": true
   },
   "outputs": [
    {
     "data": {
      "text/plain": [
       "Decimal('75059310.65')"
      ]
     },
     "execution_count": 114,
     "metadata": {},
     "output_type": "execute_result"
    }
   ],
   "source": [
    "# Austin total sales as s city\n",
    "# This sums the grouped table, but it works\n",
    "location_sum('City', 'AUSTIN').aggregate(agate.Sum('Receipts_sum'))"
   ]
  },
  {
   "cell_type": "markdown",
   "metadata": {
    "deletable": true,
    "editable": true
   },
   "source": [
    "## More Central Texas cities"
   ]
  },
  {
   "cell_type": "code",
   "execution_count": 115,
   "metadata": {
    "collapsed": false,
    "deletable": true,
    "editable": true
   },
   "outputs": [
    {
     "name": "stdout",
     "output_type": "stream",
     "text": [
      "| Establishment                              | City    |  Tax_sum | Receipts_sum |\n",
      "| ------------------------------------------ | ------- | -------- | ------------ |\n",
      "| OLD TOWN RESTURANT AND BAR/PIN 931 MAIN ST | BASTROP | 5,095.81 |    76,056.87 |\n",
      "| CHILI'S GRILL & BAR 734 HIGHWAY 71 W       | BASTROP | 2,838.38 |    42,363.88 |\n",
      "| NEIGHBOR'S 601 CHESTNUT ST UNIT C          | BASTROP | 2,812.92 |    41,983.88 |\n",
      "| BACK 9 834 HIGHWAY 71 W                    | BASTROP | 2,425.26 |    36,197.91 |\n",
      "| LA HACIENDA RESTAURANT 1800 WALNUT ST      | BASTROP | 2,250.53 |    33,590.00 |\n"
     ]
    }
   ],
   "source": [
    "location_sum('City', 'BASTROP').limit(5).print_table(max_column_width=60)"
   ]
  },
  {
   "cell_type": "code",
   "execution_count": 116,
   "metadata": {
    "collapsed": false,
    "deletable": true,
    "editable": true
   },
   "outputs": [
    {
     "name": "stdout",
     "output_type": "stream",
     "text": [
      "| Establishment                                       | City     |  Tax_sum | Receipts_sum |\n",
      "| --------------------------------------------------- | -------- | -------- | ------------ |\n",
      "| HCG BEVERAGE, LLC 12525 BEE CAVE PKWY               | BEE CAVE | 6,331.63 |    94,501.94 |\n",
      "| WOODY TAVERN AND GRILL, INC. 12801 SHOPS PKWY # 100 | BEE CAVE | 6,323.46 |    94,380.00 |\n",
      "| MAUDIE'S HILL COUNTRY, LLC 12506 SHOPS PKWY         | BEE CAVE | 5,968.29 |    89,078.96 |\n"
     ]
    }
   ],
   "source": [
    "location_sum('City', 'BEE CAVE').limit(3).print_table(max_column_width=60)"
   ]
  },
  {
   "cell_type": "code",
   "execution_count": 117,
   "metadata": {
    "collapsed": false,
    "deletable": true,
    "editable": true
   },
   "outputs": [
    {
     "name": "stdout",
     "output_type": "stream",
     "text": [
      "| Establishment                  | City |  Tax_sum | Receipts_sum |\n",
      "| ------------------------------ | ---- | -------- | ------------ |\n",
      "| BUCKS BACKYARD 1750 S FM 1626  | BUDA | 7,863.05 |   117,358.96 |\n",
      "| WILLIE'S JOINT 824 MAIN ST     | BUDA | 4,295.03 |    64,104.93 |\n",
      "| PINBALLZ KINGDOM 15201 S IH 35 | BUDA | 3,521.92 |    52,565.97 |\n"
     ]
    }
   ],
   "source": [
    "location_sum('City', 'BUDA').limit(3).print_table(max_column_width=60)"
   ]
  },
  {
   "cell_type": "code",
   "execution_count": 119,
   "metadata": {
    "collapsed": false,
    "deletable": true,
    "editable": true
   },
   "outputs": [
    {
     "name": "stdout",
     "output_type": "stream",
     "text": [
      "| Establishment                                          | City       |   Tax_sum | Receipts_sum |\n",
      "| ------------------------------------------------------ | ---------- | --------- | ------------ |\n",
      "| CHUY'S 4911 183A TOLL RD                               | CEDAR PARK | 12,001.04 |   179,120.00 |\n",
      "| LUPE TORTILLA MEXICAN RESTAURA 4501 183A TOLL RD STE B | CEDAR PARK |  7,989.81 |   119,250.90 |\n",
      "| RYAN SANDERS SPORTS SERVICES, 2100 AVENUE OF THE STARS | CEDAR PARK |  6,700.20 |   100,002.99 |\n"
     ]
    }
   ],
   "source": [
    "location_sum('City', 'CEDAR PARK').limit(3).print_table(max_column_width=60)"
   ]
  },
  {
   "cell_type": "code",
   "execution_count": 120,
   "metadata": {
    "collapsed": false,
    "deletable": true,
    "editable": true
   },
   "outputs": [
    {
     "name": "stdout",
     "output_type": "stream",
     "text": [
      "| Establishment                                       | City             |  Tax_sum | Receipts_sum |\n",
      "| --------------------------------------------------- | ---------------- | -------- | ------------ |\n",
      "| TRUDY'S FOUR STAR 13059 FOUR STAR BLVD              | DRIPPING SPRINGS | 4,229.71 |    63,130.00 |\n",
      "| DEEP EDDY DISTILLING CO 2250 E HIGHWAY 290          | DRIPPING SPRINGS | 4,001.30 |    59,720.90 |\n",
      "| FLORES MEXICAN RESTAURANT 2440 E HIGHWAY 290 BLDG D | DRIPPING SPRINGS | 3,631.73 |    54,204.93 |\n"
     ]
    }
   ],
   "source": [
    "location_sum('City', 'DRIPPING SPRINGS').limit(3).print_table(max_column_width=60)"
   ]
  },
  {
   "cell_type": "code",
   "execution_count": 121,
   "metadata": {
    "collapsed": false,
    "deletable": true,
    "editable": true
   },
   "outputs": [
    {
     "name": "stdout",
     "output_type": "stream",
     "text": [
      "| Establishment                      | City       |  Tax_sum | Receipts_sum |\n",
      "| ---------------------------------- | ---------- | -------- | ------------ |\n",
      "| EL MONUMENTO 205 W 2ND ST          | GEORGETOWN | 6,815.03 |   101,716.87 |\n",
      "| HARDTAILS 1515 N IH 35             | GEORGETOWN | 4,984.66 |    74,397.91 |\n",
      "| DOS SALSAS CAFE INC 1104 S MAIN ST | GEORGETOWN | 4,818.90 |    71,923.88 |\n"
     ]
    }
   ],
   "source": [
    "location_sum('City', 'GEORGETOWN').limit(3).print_table(max_column_width=60)"
   ]
  },
  {
   "cell_type": "code",
   "execution_count": 122,
   "metadata": {
    "collapsed": false,
    "deletable": true,
    "editable": true
   },
   "outputs": [
    {
     "name": "stdout",
     "output_type": "stream",
     "text": [
      "| Establishment                                       | City |  Tax_sum | Receipts_sum |\n",
      "| --------------------------------------------------- | ---- | -------- | ------------ |\n",
      "| CASA GARCIA'S MEXICAN RESTAURA 5401 FM 1626 STE 300 | KYLE | 5,228.68 |    78,040.00 |\n",
      "| EVO ENTERTAINMENT CENTER 3200 KYLE XING             | KYLE | 4,822.32 |    71,974.93 |\n",
      "| CENTERFIELD SPORTS BAR & GRILL 200 W CENTER ST      | KYLE | 2,941.43 |    43,901.94 |\n"
     ]
    }
   ],
   "source": [
    "location_sum('City', 'KYLE').limit(3).print_table(max_column_width=60)"
   ]
  },
  {
   "cell_type": "code",
   "execution_count": 123,
   "metadata": {
    "collapsed": false,
    "deletable": true,
    "editable": true
   },
   "outputs": [
    {
     "name": "stdout",
     "output_type": "stream",
     "text": [
      "| Establishment                                        | City       |  Tax_sum | Receipts_sum |\n",
      "| ---------------------------------------------------- | ---------- | -------- | ------------ |\n",
      "| COPPERHEAD GRILL 6115 LOHMANS FORD RD                | LAGO VISTA | 1,543.61 |    23,038.96 |\n",
      "| MARIA'S BAR & GRILL MEXICAN RE 20602 FM 1431 STE 102 | LAGO VISTA |   490.10 |     7,314.93 |\n"
     ]
    }
   ],
   "source": [
    "location_sum('City', 'LAGO VISTA').limit(3).print_table(max_column_width=60)"
   ]
  },
  {
   "cell_type": "code",
   "execution_count": 124,
   "metadata": {
    "collapsed": false,
    "deletable": true,
    "editable": true
   },
   "outputs": [
    {
     "name": "stdout",
     "output_type": "stream",
     "text": [
      "| Establishment                                        | City    |  Tax_sum | Receipts_sum |\n",
      "| ---------------------------------------------------- | ------- | -------- | ------------ |\n",
      "| THE GROVE WINE BAR AND KITCHEN 3001 RANCH ROAD 620 S | LAKEWAY | 7,590.96 |   113,297.91 |\n",
      "| LAKEWAY RESORT AND SPA 101 LAKEWAY DR                | LAKEWAY | 6,797.01 |   101,447.91 |\n",
      "| HIGH 5 ENTERTAINMENT 1502 RANCH ROAD 620 S           | LAKEWAY | 4,468.96 |    66,700.90 |\n"
     ]
    }
   ],
   "source": [
    "location_sum('City', 'LAKEWAY').limit(3).print_table(max_column_width=60)"
   ]
  },
  {
   "cell_type": "code",
   "execution_count": 125,
   "metadata": {
    "collapsed": false,
    "deletable": true,
    "editable": true
   },
   "outputs": [
    {
     "name": "stdout",
     "output_type": "stream",
     "text": [
      "| Establishment                                        | City    |  Tax_sum | Receipts_sum |\n",
      "| ---------------------------------------------------- | ------- | -------- | ------------ |\n",
      "| BROOKLYN HEIGHTS PIZZERIA 3550 LAKELINE BLVD STE 135 | LEANDER | 3,792.26 |    56,600.90 |\n",
      "| JARDIN DEL REY 703 S HIGHWAY 183                     | LEANDER | 2,939.29 |    43,870.00 |\n",
      "| TAPATIA JALISCO #3 LLC 651 N US 183                  | LEANDER |   755.42 |    11,274.93 |\n"
     ]
    }
   ],
   "source": [
    "location_sum('City', 'LEANDER').limit(3).print_table(max_column_width=60)"
   ]
  },
  {
   "cell_type": "code",
   "execution_count": 126,
   "metadata": {
    "collapsed": false,
    "deletable": true,
    "editable": true
   },
   "outputs": [
    {
     "name": "stdout",
     "output_type": "stream",
     "text": [
      "| Establishment                                      | City         |  Tax_sum | Receipts_sum |\n",
      "| -------------------------------------------------- | ------------ | -------- | ------------ |\n",
      "| JARDIN CORONA 15395 W STATE HIGHWAY 29             | LIBERTY HILL | 2,991.81 |    44,653.88 |\n",
      "| MARGARITA'S RESTAURANT 10280 W STATE HIGHWAY 29    | LIBERTY HILL | 2,156.32 |    32,183.88 |\n",
      "| ELENAS MEXICAN RESTAURANT 14801 W STATE HIGHWAY 29 | LIBERTY HILL |   280.32 |     4,183.88 |\n"
     ]
    }
   ],
   "source": [
    "location_sum('City', 'LIBERTY HILL').limit(3).print_table(max_column_width=60)"
   ]
  },
  {
   "cell_type": "code",
   "execution_count": 127,
   "metadata": {
    "collapsed": false,
    "deletable": true,
    "editable": true
   },
   "outputs": [
    {
     "name": "stdout",
     "output_type": "stream",
     "text": [
      "| Establishment                          | City         |  Tax_sum | Receipts_sum |\n",
      "| -------------------------------------- | ------------ | -------- | ------------ |\n",
      "| MAVERICKS 1700 GRAND AVENUE PKWY STE 2 | PFLUGERVILLE | 7,534.15 |   112,450.00 |\n",
      "| HANOVER'S DRAUGHT HAUS 108 E MAIN ST   | PFLUGERVILLE | 4,784.67 |    71,412.99 |\n",
      "| LAST CALL 1615 GRAND AVENUE PKWY STE 2 | PFLUGERVILLE | 4,573.08 |    68,254.93 |\n"
     ]
    }
   ],
   "source": [
    "location_sum('City', 'PFLUGERVILLE').limit(3).print_table(max_column_width=60)"
   ]
  },
  {
   "cell_type": "code",
   "execution_count": 128,
   "metadata": {
    "collapsed": false,
    "deletable": true,
    "editable": true
   },
   "outputs": [
    {
     "name": "stdout",
     "output_type": "stream",
     "text": [
      "| Establishment                                           | City       |   Tax_sum | Receipts_sum |\n",
      "| ------------------------------------------------------- | ---------- | --------- | ------------ |\n",
      "| CHUY'S ROUND ROCK 2320 N INTERSTATE 35                  | ROUND ROCK | 10,927.56 |   163,097.91 |\n",
      "| THIRD BASE ROUND ROCK, LLC 3107 S INTERSTATE 35 STE 810 | ROUND ROCK | 10,351.03 |   154,492.99 |\n",
      "| FAST EDDIE'S NEIGHBORHOOD BILL 100 PARKER DR            | ROUND ROCK | 10,327.98 |   154,148.96 |\n",
      "| RICK'S CABARET 3105 S INTERSTATE 35                     | ROUND ROCK |  9,802.36 |   146,303.88 |\n",
      "| JACK ALLEN'S KITCHEN 2500 HOPPE TRL                     | ROUND ROCK |  9,461.94 |   141,222.99 |\n"
     ]
    }
   ],
   "source": [
    "location_sum('City', 'ROUND ROCK').limit(5).print_table(max_column_width=60)"
   ]
  },
  {
   "cell_type": "code",
   "execution_count": 129,
   "metadata": {
    "collapsed": false,
    "deletable": true,
    "editable": true
   },
   "outputs": [
    {
     "name": "stdout",
     "output_type": "stream",
     "text": [
      "| Establishment                          | City       |  Tax_sum | Receipts_sum |\n",
      "| -------------------------------------- | ---------- | -------- | ------------ |\n",
      "| ZELICKS 336 W HOPKINS ST               | SAN MARCOS | 9,369.34 |   139,840.90 |\n",
      "| CHUY'S SAN MARCOS 1121 N INTERSTATE 35 | SAN MARCOS | 7,638.87 |   114,012.99 |\n",
      "| THE MARC 120 E SAN ANTONIO ST          | SAN MARCOS | 7,286.78 |   108,757.91 |\n",
      "| SEAN PATRICK'S 202 E SAN ANTONIO ST    | SAN MARCOS | 7,081.83 |   105,698.96 |\n",
      "| PLUCKERS WING BAR 105 N INTERSTATE 35  | SAN MARCOS | 6,924.58 |   103,351.94 |\n"
     ]
    }
   ],
   "source": [
    "location_sum('City', 'SAN MARCOS').limit(5).print_table(max_column_width=60)"
   ]
  },
  {
   "cell_type": "code",
   "execution_count": 130,
   "metadata": {
    "collapsed": false,
    "deletable": true,
    "editable": true
   },
   "outputs": [
    {
     "name": "stdout",
     "output_type": "stream",
     "text": [
      "| Establishment                                      | City      |  Tax_sum | Receipts_sum |\n",
      "| -------------------------------------------------- | --------- | -------- | ------------ |\n",
      "| ANGEL'S ICEHOUSE 21815 W HWY 71                    | SPICEWOOD | 4,225.15 |    63,061.94 |\n",
      "| POODIES HILLTOP ROADHOUSE 22308 STATE HIGHWAY 71 W | SPICEWOOD | 3,499.87 |    52,236.87 |\n",
      "| APIS RESTAURANT 23526 STATE HIGHWAY 71 W           | SPICEWOOD | 2,262.45 |    33,767.91 |\n"
     ]
    }
   ],
   "source": [
    "location_sum('City', 'SPICEWOOD').limit(3).print_table(max_column_width=60)"
   ]
  },
  {
   "cell_type": "code",
   "execution_count": 131,
   "metadata": {
    "collapsed": false,
    "deletable": true,
    "editable": true
   },
   "outputs": [
    {
     "name": "stdout",
     "output_type": "stream",
     "text": [
      "| Establishment                                        | City          |  Tax_sum | Receipts_sum |\n",
      "| ---------------------------------------------------- | ------------- | -------- | ------------ |\n",
      "| DOC'S BACKYARD 5207 BRODIE LN # 100                  | SUNSET VALLEY | 6,248.62 |    93,262.99 |\n",
      "| BJ'S RESTAURANT AND BREWHOUSE 5207 BRODIE LN STE 300 | SUNSET VALLEY | 3,561.98 |    53,163.88 |\n",
      "| LONGHORN STEAKHOUSE #5423 4809 W HIGHWAY 290         | SUNSET VALLEY | 2,439.60 |    36,411.94 |\n"
     ]
    }
   ],
   "source": [
    "location_sum('City', 'SUNSET VALLEY').limit(3).print_table(max_column_width=60)"
   ]
  },
  {
   "cell_type": "code",
   "execution_count": 132,
   "metadata": {
    "collapsed": false,
    "deletable": true,
    "editable": true
   },
   "outputs": [
    {
     "name": "stdout",
     "output_type": "stream",
     "text": [
      "| Establishment                                               | City            |  Tax_sum | Receipts_sum |\n",
      "| ----------------------------------------------------------- | --------------- | -------- | ------------ |\n",
      "| LUPE TORTILLA MEXICAN RESTAURA 701 S CAPITAL OF TEXAS HWY S | WEST LAKE HILLS | 6,853.36 |   102,288.96 |\n",
      "| CHIPOTLE CHIPOTLE MEXICAN GRIL 3300 BEE CAVES RD STE 670    | WEST LAKE HILLS |    39.12 |       583.88 |\n"
     ]
    }
   ],
   "source": [
    "location_sum('City', 'WEST LAKE HILLS').limit(3).print_table(max_column_width=60)"
   ]
  },
  {
   "cell_type": "markdown",
   "metadata": {
    "deletable": true,
    "editable": true
   },
   "source": [
    "## Sales by county\n",
    "\n",
    "In this case, we pass in the location type of 'County' and then a county name in caps to get the most sales in a particular county."
   ]
  },
  {
   "cell_type": "code",
   "execution_count": 133,
   "metadata": {
    "collapsed": false,
    "deletable": true,
    "editable": true,
    "scrolled": true
   },
   "outputs": [
    {
     "name": "stdout",
     "output_type": "stream",
     "text": [
      "| Establishment                                     | County  |   Tax_sum | Receipts_sum |\n",
      "| ------------------------------------------------- | ------- | --------- | ------------ |\n",
      "| LOST PINES BEVERAGE LLC 575 HYATT LOST PINES ROAD | Bastrop | 28,995.52 |   432,768.96 |\n",
      "| OLD TOWN RESTURANT AND BAR/PIN 931 MAIN ST        | Bastrop |  5,095.81 |    76,056.87 |\n",
      "| CHILI'S GRILL & BAR 734 HIGHWAY 71 W              | Bastrop |  2,838.38 |    42,363.88 |\n",
      "| NEIGHBOR'S 601 CHESTNUT ST UNIT C                 | Bastrop |  2,812.92 |    41,983.88 |\n",
      "| BACK 9 834 HIGHWAY 71 W                           | Bastrop |  2,425.26 |    36,197.91 |\n"
     ]
    }
   ],
   "source": [
    "location_sum('County', 'BASTROP').limit(5).print_table(max_column_width=80)"
   ]
  },
  {
   "cell_type": "code",
   "execution_count": 134,
   "metadata": {
    "collapsed": false,
    "deletable": true,
    "editable": true
   },
   "outputs": [
    {
     "name": "stdout",
     "output_type": "stream",
     "text": [
      "| Establishment                                             | County   |  Tax_sum | Receipts_sum |\n",
      "| --------------------------------------------------------- | -------- | -------- | ------------ |\n",
      "| GUADALAJARA MEXICAN RESTAURANT 1710 S COLORADO ST STE 110 | Caldwell | 1,258.86 |    18,788.96 |\n",
      "| THE PEARL 110 N MAIN ST                                   | Caldwell |   644.94 |     9,625.97 |\n",
      "| MR TACO 1132 E PIERCE ST                                  | Caldwell |   618.61 |     9,232.99 |\n"
     ]
    }
   ],
   "source": [
    "location_sum('County', 'CALDWELL').limit(3).print_table(max_column_width=80)"
   ]
  },
  {
   "cell_type": "code",
   "execution_count": 135,
   "metadata": {
    "collapsed": false,
    "deletable": true,
    "editable": true
   },
   "outputs": [
    {
     "name": "stdout",
     "output_type": "stream",
     "text": [
      "| Establishment                          | County |  Tax_sum | Receipts_sum |\n",
      "| -------------------------------------- | ------ | -------- | ------------ |\n",
      "| ZELICKS 336 W HOPKINS ST               | Hays   | 9,369.34 |   139,840.90 |\n",
      "| BUCKS BACKYARD 1750 S FM 1626          | Hays   | 7,863.05 |   117,358.96 |\n",
      "| CHUY'S SAN MARCOS 1121 N INTERSTATE 35 | Hays   | 7,638.87 |   114,012.99 |\n"
     ]
    }
   ],
   "source": [
    "location_sum('County', 'HAYS').limit(3).print_table(max_column_width=80)"
   ]
  },
  {
   "cell_type": "code",
   "execution_count": 136,
   "metadata": {
    "collapsed": false,
    "deletable": true,
    "editable": true
   },
   "outputs": [
    {
     "name": "stdout",
     "output_type": "stream",
     "text": [
      "| Establishment                                      | County |   Tax_sum | Receipts_sum |\n",
      "| -------------------------------------------------- | ------ | --------- | ------------ |\n",
      "| WLS BEVERAGE CO 110 E 2ND ST                       | Travis | 75,785.84 | 1,131,131.94 |\n",
      "| 400 BAR/CUCARACHA/CHUPACABRA/J 400 E 6TH ST        | Travis | 43,934.51 |   655,738.96 |\n",
      "| SAN JACINTO BEVERAGE COMPANY L 98 SAN JACINTO BLVD | Travis | 37,672.15 |   562,270.90 |\n"
     ]
    }
   ],
   "source": [
    "location_sum('County', 'TRAVIS').limit(3).print_table(max_column_width=80)"
   ]
  },
  {
   "cell_type": "code",
   "execution_count": 137,
   "metadata": {
    "collapsed": false,
    "deletable": true,
    "editable": true
   },
   "outputs": [
    {
     "name": "stdout",
     "output_type": "stream",
     "text": [
      "| Establishment                                      | County     |   Tax_sum | Receipts_sum |\n",
      "| -------------------------------------------------- | ---------- | --------- | ------------ |\n",
      "| ALAMO DRAFTHOUSE CINEMA 14028 N HIGHWAY 183 BLDG F | Williamson | 12,676.73 |   189,204.93 |\n",
      "| CHUY'S 4911 183A TOLL RD                           | Williamson | 12,001.04 |   179,120.00 |\n",
      "| CHUY'S ROUND ROCK 2320 N INTERSTATE 35             | Williamson | 10,927.56 |   163,097.91 |\n"
     ]
    }
   ],
   "source": [
    "location_sum('County', 'WILLIAMSON').limit(3).print_table(max_column_width=80)"
   ]
  },
  {
   "cell_type": "markdown",
   "metadata": {
    "deletable": true,
    "editable": true
   },
   "source": [
    "## Sales by ZIP Code\n",
    "For this, we'll do a simple pivot on Zip, but instead of using the default Count method, we'll pass in an aggregation to add the Tax values together for all the Zips. Whe then order_by in reverse to get the top values."
   ]
  },
  {
   "cell_type": "code",
   "execution_count": 138,
   "metadata": {
    "collapsed": false,
    "deletable": true,
    "editable": true
   },
   "outputs": [
    {
     "name": "stdout",
     "output_type": "stream",
     "text": [
      "| Zip   |          Sum |\n",
      "| ----- | ------------ |\n",
      "| 78701 | 2,176,967.00 |\n",
      "| 78205 |   925,889.41 |\n",
      "| 75201 |   767,950.37 |\n",
      "| 77002 |   634,081.44 |\n",
      "| 78704 |   540,209.57 |\n"
     ]
    }
   ],
   "source": [
    "# top zip code for Tax value\n",
    "zip_tax = mixbev_month.pivot('Zip', aggregation=agate.Sum('Tax')).order_by('Sum', reverse=True)\n",
    "zip_tax.limit(5).print_table()"
   ]
  },
  {
   "cell_type": "code",
   "execution_count": 139,
   "metadata": {
    "collapsed": false,
    "deletable": true,
    "editable": true
   },
   "outputs": [
    {
     "name": "stdout",
     "output_type": "stream",
     "text": [
      "| Zip   |           Sum |\n",
      "| ----- | ------------- |\n",
      "| 78701 | 32,492,045.23 |\n",
      "| 78205 | 13,819,245.15 |\n",
      "| 75201 | 11,461,946.05 |\n",
      "| 77002 |  9,463,902.34 |\n",
      "| 78704 |  8,062,829.61 |\n"
     ]
    }
   ],
   "source": [
    "# top zip code gross receipts\n",
    "zip_receipts = mixbev_month.pivot('Zip', aggregation=agate.Sum('Receipts')).order_by('Sum', reverse=True)\n",
    "zip_receipts.limit(5).print_table()"
   ]
  },
  {
   "cell_type": "code",
   "execution_count": null,
   "metadata": {
    "collapsed": true,
    "deletable": true,
    "editable": true
   },
   "outputs": [],
   "source": []
  }
 ],
 "metadata": {
  "kernelspec": {
   "display_name": "Python 3",
   "language": "python",
   "name": "python3"
  },
  "language_info": {
   "codemirror_mode": {
    "name": "ipython",
    "version": 3
   },
   "file_extension": ".py",
   "mimetype": "text/x-python",
   "name": "python",
   "nbconvert_exporter": "python",
   "pygments_lexer": "ipython3",
   "version": "3.6.1"
  }
 },
 "nbformat": 4,
 "nbformat_minor": 2
}
