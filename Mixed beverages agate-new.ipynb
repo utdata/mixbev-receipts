{
 "cells": [
  {
   "cell_type": "markdown",
   "metadata": {
    "deletable": true,
    "editable": true
   },
   "source": [
    "# Processing mixed beverage data\n",
    "This Jupyter Notebook uses [data.texas.gov Mixed Beverage Gross Receipts data](https://data.texas.gov/Government-and-Taxes/Mixed-Beverage-Gross-Receipts/naix-2893), and then a python library called [agate](http://agate.readthedocs.io/) to clean and process that data for [stories similar to this one](http://www.mystatesman.com/business/austin-alcohol-sales-percent-february/Oo2txZUkuDlqBl0rU9O1lJ/) on monthly alcohol sales.\n",
    "\n",
    "This is a work in progress.\n",
    "\n",
    "- The first version will use a downloaded file to process. The data is in a new format, so it has to be reworked\n",
    "- The second phase will work on pulling the data directly from Socrata.\n",
    "\n",
    "### This links may or may not work\n",
    "- [Top sales statewide](#Top-sales-statewide)\n",
    "- [Austin sales](#Austin-sales-and-sums)\n",
    "- [Central Texas cities](#More-Central-Texas-cities)\n",
    "\n"
   ]
  },
  {
   "cell_type": "markdown",
   "metadata": {
    "deletable": true,
    "editable": true
   },
   "source": [
    "I'll use a little bash here to look at the file I have pulled, which is files with `Obligation End Date` between Sept. 1 and Sept 30 2017.\n"
   ]
  },
  {
   "cell_type": "code",
   "execution_count": 1,
   "metadata": {
    "collapsed": false,
    "deletable": true,
    "editable": true
   },
   "outputs": [
    {
     "name": "stdout",
     "output_type": "stream",
     "text": [
      "Taxpayer Number,Taxpayer Name,Taxpayer Address,Taxpayer City,Taxpayer State,Taxpayer Zip,Taxpayer County,Location Number,Location Name,Location Address,Location City,Location State,Location Zip,Location County,Inside/Outside City Limits,TABC Permit Number,Responsibility Begin Date,Responsibility End Date,Obligation End Date,Liquor Receipts,Wine Receipts,Beer Receipts,Cover Charge Receipts,Total Receipts\n",
      "32052221093,\"CTWL, LLC\",2712 BEE CAVES RD STE 124,AUSTIN,TX,78746,227,1,CHINATOWN,2712 BEE CAVES RD STE 124,ROLLINGWOOD,TX,78746,227,Y,MB866922,03/20/2014,,09/30/2017,$8727,$12270,$2940,$0,$23937\n",
      "32050880221,\"ISB ENTERPRISE, LLC.\",3659 NASA PKWY,SEABROOK,TX,77586,101,2,SIGNATURES,3659 NASA PKWY,SEABROOK,TX,77586,101,Y,MB851753,09/01/2016,,09/30/2017,$3710,$5067,$3582,$0,$12359\n",
      "32040734306,\"MAMA IRMA'S, INC.\",7325 SPENCER HWY,PASADENA,TX,77505,101,1,MAMA IRMA'S,7325 SPENCER HWY,PASADENA,TX,77505,101,Y,MB764780,01/04/2011,,09/30/2017,$46186,$420,$18875,$0,$65481\n",
      "32036703190,CAFE HOLDINGS PRIVATE CLUB,9660 AUDELIA RD STE 305,DALLAS,TX,75238,57,2,OFFSHORE'S NEXTDOOR,9660 AUDELIA RD STE 305,DALLAS,TX,75238,57,Y,N 697788,07/11/2008,,09/30/2017,$0,$0,$0,$0,$0\n"
     ]
    }
   ],
   "source": [
    "%%bash\n",
    "head -n 5 data-raw/Mixed_Beverage_Gross_Receipts-201709.csv"
   ]
  },
  {
   "cell_type": "markdown",
   "metadata": {},
   "source": [
    "This data appears to be MUCH cleaner than what we have worked with in the past. It looks like we won't have to trim fields."
   ]
  },
  {
   "cell_type": "markdown",
   "metadata": {
    "deletable": true,
    "editable": true
   },
   "source": [
    "Now that we have our file and know what it looks like, we'll use Python and the agate library to clean and analyze it. You'll need to make sure that you have agate installed, preferably in an virtual environment like Conda, as described in the [ReadMe](README.md)."
   ]
  },
  {
   "cell_type": "code",
   "execution_count": 2,
   "metadata": {
    "collapsed": false,
    "deletable": true,
    "editable": true
   },
   "outputs": [
    {
     "name": "stderr",
     "output_type": "stream",
     "text": [
      "/Users/christian/anaconda/envs/mixbev/lib/python3.6/json/encoder.py:199: DeprecationWarning: Interpreting naive datetime as local 2017-11-16 22:00:51.007718. Please add timezone info to timestamps.\n"
     ]
    }
   ],
   "source": [
    "# imports the libraries we will use\n",
    "import agate\n",
    "from decimal import Decimal\n",
    "import re"
   ]
  },
  {
   "cell_type": "code",
   "execution_count": 3,
   "metadata": {
    "collapsed": false,
    "deletable": true,
    "editable": true
   },
   "outputs": [],
   "source": [
    "# this surpresses the timezone warning\n",
    "# Might comment out during development so other warnings\n",
    "# are not surpressed\n",
    "import warnings\n",
    "warnings.filterwarnings('ignore')"
   ]
  },
  {
   "cell_type": "markdown",
   "metadata": {
    "deletable": true,
    "editable": true
   },
   "source": [
    "### Study variables\n",
    "\n",
    "This is where you set which file you are working with, and which month you want to study, etc.\n",
    "\n",
    "First, we'll list the files in our directory that we have downloaded so far so we can get the filename:"
   ]
  },
  {
   "cell_type": "code",
   "execution_count": 4,
   "metadata": {
    "collapsed": false,
    "deletable": true,
    "editable": true
   },
   "outputs": [
    {
     "name": "stdout",
     "output_type": "stream",
     "text": [
      "Mixed_Beverage_Gross_Receipts-201709.csv\r\n"
     ]
    }
   ],
   "source": [
    "ls data-raw/"
   ]
  },
  {
   "cell_type": "markdown",
   "metadata": {
    "deletable": true,
    "editable": true
   },
   "source": [
    "Then we set some values based on those.\n",
    "\n",
    "- The **`file`** is the name of the file we want to process\n",
    "- The **`tax_rate`** is the value we need for this file to get the Gross Recipts (vs the Tax Reported, which is just the tax amount the establishment paid). The comptroller [has information on the tax](https://comptroller.texas.gov/taxes/mixed-beverage/receipts.php), but this [old record layout](https://github.com/utdata/cli-tools/blob/master/data/mixbevtax/OLD-MIXEDBEVTAX-LAYOUT.txt) best describes the math.\n",
    "- The **`month_studied`** is the YYYY/MM designation for the month before the file release. The file released in February has mostly records from January, but can also have any other month, so we set here the specific month we want. Note there is a check later on that counts the number of files by month, which is worth checking."
   ]
  },
  {
   "cell_type": "code",
   "execution_count": 5,
   "metadata": {
    "collapsed": false,
    "deletable": true,
    "editable": true
   },
   "outputs": [],
   "source": [
    "# this is our source file, which may have been downloaded above\n",
    "file = 'data-raw/Mixed_Beverage_Gross_Receipts-201709.csv'\n",
    "\n",
    "# Sets the tax rate to convert Report Tax to Gross Receipts\n",
    "# It's 6.7 since January 1, 2014\n",
    "tax_rate = Decimal('6.7')\n",
    "\n",
    "# setting the month_studied var.\n",
    "# This should be checked in the table below that counts records by month\n",
    "#THIS MIGHT NEED TO CHANGE ONCE I UNDERSTAND THE NEW DATA\n",
    "month_studied = '2017/03'\n"
   ]
  },
  {
   "cell_type": "markdown",
   "metadata": {
    "deletable": true,
    "editable": true
   },
   "source": [
    "### Import the file\n",
    "There are a couple of things we have to set to import a file. Remember we had to do the same when we did this manually in Tableau.\n",
    "- Set the column header names (BUT NEW DATA HAS HEADERS)\n",
    "- Set the ZIP and County codes as text, so we preserve '001'.\n",
    "- The encoding type of the file (Tableau enferred, but we have to specify here. Common types are 'iso-8859-1' or  'utf-8', or 'latin1'. Just try it until it works."
   ]
  },
  {
   "cell_type": "code",
   "execution_count": 6,
   "metadata": {
    "collapsed": false,
    "deletable": true,
    "editable": true
   },
   "outputs": [
    {
     "name": "stdout",
     "output_type": "stream",
     "text": [
      "| column                     | data_type |\n",
      "| -------------------------- | --------- |\n",
      "| Taxpayer Number            | Text      |\n",
      "| Taxpayer Name              | Text      |\n",
      "| Taxpayer Address           | Text      |\n",
      "| Taxpayer City              | Text      |\n",
      "| Taxpayer State             | Text      |\n",
      "| Taxpayer Zip               | Text      |\n",
      "| Taxpayer County            | Text      |\n",
      "| Location Number            | Text      |\n",
      "| Location Name              | Text      |\n",
      "| Location Address           | Text      |\n",
      "| Location City              | Text      |\n",
      "| Location State             | Text      |\n",
      "| Location Zip               | Text      |\n",
      "| Location County            | Text      |\n",
      "| Inside/Outside City Limits | Boolean   |\n",
      "| TABC Permit Number         | Text      |\n",
      "| Responsibility Begin Date  | Date      |\n",
      "| Responsibility End Date    | Date      |\n",
      "| Obligation End Date        | Date      |\n",
      "| Liquor Receipts            | Number    |\n",
      "| Wine Receipts              | Number    |\n",
      "| Beer Receipts              | Number    |\n",
      "| Cover Charge Receipts      | Number    |\n",
      "| Total Receipts             | Number    |\n",
      "\n"
     ]
    }
   ],
   "source": [
    "#Helps us import some text fields that may be considered numbers in error.\n",
    "specified_types = {\n",
    "    'Taxpayer Number': agate.Text(),\n",
    "    'Location Number': agate.Text(),\n",
    "    'Taxpayer Zip': agate.Text(),\n",
    "    'Location Zip': agate.Text(),\n",
    "    'Location County': agate.Text(),\n",
    "    'Taxpayer County': agate.Text()\n",
    "}\n",
    "\n",
    "# this imports the file specified above, along with the proper types\n",
    "mixbev_raw = agate.Table.from_csv(file, encoding='iso-8859-1', column_types=specified_types)\n",
    "\n",
    "# prints table fields so we an check thoes data types\n",
    "print(mixbev_raw)"
   ]
  },
  {
   "cell_type": "code",
   "execution_count": 7,
   "metadata": {
    "collapsed": false
   },
   "outputs": [
    {
     "name": "stdout",
     "output_type": "stream",
     "text": [
      "| Taxpayer Number | Taxpayer Name        | Taxpayer Address     | Taxpayer City | Taxpayer State | Taxpayer Zip | ... |\n",
      "| --------------- | -------------------- | -------------------- | ------------- | -------------- | ------------ | --- |\n",
      "| 32052221093     | CTWL, LLC            | 2712 BEE CAVES RD... | AUSTIN        | TX             | 78746        | ... |\n",
      "| 32050880221     | ISB ENTERPRISE, LLC. | 3659 NASA PKWY       | SEABROOK      | TX             | 77586        | ... |\n",
      "| 32040734306     | MAMA IRMA'S, INC.    | 7325 SPENCER HWY     | PASADENA      | TX             | 77505        | ... |\n",
      "| 32036703190     | CAFE HOLDINGS PRI... | 9660 AUDELIA RD S... | DALLAS        | TX             | 75238        | ... |\n",
      "| 32049968608     | SHYSG GROUP, LLC     | 2686 BLACK BEAR DR   | NEW BRAUNFELS | TX             | 78132        | ... |\n",
      "| 12039294405     | STUDIO CLUB 4, LLC   | 12404 PARK CENTRA... | DALLAS        | TX             | 75251        | ... |\n",
      "| 17521347561     | T AND N, INCORPOR... | PO BOX 542225        | DALLAS        | TX             | 75354        | ... |\n",
      "| 32058284137     | DRUNKEN DONKEY KE... | PO BOX 294016        | LEWISVILLE    | TX             | 75029        | ... |\n",
      "| 32048688173     | EL HAT DE AMERICA... | 1442 MCCANN RD       | LONGVIEW      | TX             | 75601        | ... |\n",
      "| 32055754868     | HDCB TEXAS, LLC      | 407 COLORADO ST      | AUSTIN        | TX             | 78701        | ... |\n",
      "| 32063080520     | JHONNY'S MEXICAN ... | 3999 PARKER RD       | ST PAUL       | TX             | 75098        | ... |\n",
      "| 17512992433     | EL FENIX CORPORATION | 1845 WOODALL RODG... | DALLAS        | TX             | 75201        | ... |\n",
      "| 32050224875     | SIXTH STREET CONC... | 815 BRAZOS ST # 391A | AUSTIN        | TX             | 78701        | ... |\n",
      "| 32059452832     | RUMINATE DISTILLI... | 7739 DENTCREST DR    | DALLAS        | TX             | 75254        | ... |\n",
      "| 32046902345     | HITX ASSOCIATES LLC  | 1628 JOHN F KENNE... | PHILADELPHIA  | PA             | 19103        | ... |\n",
      "| 32037218032     | YOKO'S INVESTMENT... | 7001 N 10TH ST STE C | MCALLEN       | TX             | 78504        | ... |\n",
      "| 32056874509     | FREE PLAY, INCORP... | 801 ALPHA DR STE 109 | RICHARDSON    | TX             | 75081        | ... |\n",
      "| 12636686706     | SYNERGY RESTAURAN... | 13355 NOEL RD        | DALLAS        | TX             | 75240        | ... |\n",
      "| 17429758075     | RUM RUNNER PRESS ... | 300 COUNTY ROAD 139  | HUTTO         | TX             | 78634        | ... |\n",
      "| 32056801965     | ESPERANZA RENOVAD... | 618 N JUPITER RD     | GARLAND       | TX             | 75042        | ... |\n",
      "| ...             | ...                  | ...                  | ...           | ...            | ...          | ... |\n"
     ]
    }
   ],
   "source": [
    "# printing table to see results\n",
    "mixbev_raw.print_table()\n"
   ]
  },
  {
   "cell_type": "markdown",
   "metadata": {},
   "source": [
    "## no cleaning?\n",
    "- Unlike befor, we don't need to trim fields or calculate the Gross Receipts from Reported Tax, becaues the are already gross\n",
    "- If we are interested in Tax paid, we will have to create a function to get those based on the tax rate, which will vary by the date of the report (there are two, which are outlined on the record layout linked from the [data primer](https://data.texas.gov/Government-and-Taxes/Mixed-Beverage-Gross-Receipts/naix-2893)"
   ]
  },
  {
   "cell_type": "markdown",
   "metadata": {
    "deletable": true,
    "editable": true
   },
   "source": [
    "### Create establishment column\n",
    "\n",
    "We do this so we make sure we have single establishments instead of grouping trade names together from different addresses, like 'CHILI'S BAR & GRILL'."
   ]
  },
  {
   "cell_type": "code",
   "execution_count": 8,
   "metadata": {
    "collapsed": false,
    "deletable": true,
    "editable": true
   },
   "outputs": [
    {
     "name": "stdout",
     "output_type": "stream",
     "text": [
      "| column                     | data_type |\n",
      "| -------------------------- | --------- |\n",
      "| Taxpayer Number            | Text      |\n",
      "| Taxpayer Name              | Text      |\n",
      "| Taxpayer Address           | Text      |\n",
      "| Taxpayer City              | Text      |\n",
      "| Taxpayer State             | Text      |\n",
      "| Taxpayer Zip               | Text      |\n",
      "| Taxpayer County            | Text      |\n",
      "| Location Number            | Text      |\n",
      "| Location Name              | Text      |\n",
      "| Location Address           | Text      |\n",
      "| Location City              | Text      |\n",
      "| Location State             | Text      |\n",
      "| Location Zip               | Text      |\n",
      "| Location County            | Text      |\n",
      "| Inside/Outside City Limits | Boolean   |\n",
      "| TABC Permit Number         | Text      |\n",
      "| Responsibility Begin Date  | Date      |\n",
      "| Responsibility End Date    | Date      |\n",
      "| Obligation End Date        | Date      |\n",
      "| Liquor Receipts            | Number    |\n",
      "| Wine Receipts              | Number    |\n",
      "| Beer Receipts              | Number    |\n",
      "| Cover Charge Receipts      | Number    |\n",
      "| Total Receipts             | Number    |\n",
      "| Establishment              | Text      |\n",
      "\n"
     ]
    }
   ],
   "source": [
    "# Concatenates the name and address\n",
    "mixbev_establishment = mixbev_raw.compute([\n",
    "    ('Establishment', agate.Formula(agate.Text(), lambda row: '%(Location Name)s (%(Location Address)s)' % row))\n",
    "])\n",
    "\n",
    "# Prints columns so you see it is there\n",
    "print(mixbev_establishment)"
   ]
  },
  {
   "cell_type": "code",
   "execution_count": 9,
   "metadata": {
    "collapsed": false,
    "deletable": true,
    "editable": true
   },
   "outputs": [
    {
     "name": "stdout",
     "output_type": "stream",
     "text": [
      "| Establishment                                             |\n",
      "| --------------------------------------------------------- |\n",
      "| CHINATOWN (2712 BEE CAVES RD STE 124)                     |\n",
      "| SIGNATURES (3659 NASA PKWY)                               |\n",
      "| MAMA IRMA'S (7325 SPENCER HWY)                            |\n",
      "| OFFSHORE'S NEXTDOOR (9660 AUDELIA RD STE 305)             |\n",
      "| LOUIE'S BEER GARDEN AND OYSTER HOUSE (119 E HUTCHISON ST) |\n"
     ]
    }
   ],
   "source": [
    "# selects and prints Establishment to check what is looks like\n",
    "mixbev_establishment.select('Establishment').limit(5).print_table(max_column_width=80)"
   ]
  },
  {
   "cell_type": "markdown",
   "metadata": {
    "deletable": true,
    "editable": true
   },
   "source": [
    "### Import and merge counties lookup table\n",
    "We do this to get county names. I got this list from the comptroller.\n",
    "\n",
    "NOTE: Wisdom would suggest we join on the `code` column from counites, but the data.texas.gov data does not have the zero padding from those values, so I'm using the `id` column."
   ]
  },
  {
   "cell_type": "code",
   "execution_count": 10,
   "metadata": {
    "collapsed": false,
    "deletable": true,
    "editable": true
   },
   "outputs": [
    {
     "name": "stdout",
     "output_type": "stream",
     "text": [
      "| column | data_type |\n",
      "| ------ | --------- |\n",
      "| id     | Text      |\n",
      "| county | Text      |\n",
      "| code   | Text      |\n",
      "\n"
     ]
    }
   ],
   "source": [
    "# importing countes.csv, ensuring that the 'code' column is text\n",
    "counties = agate.Table.from_csv('counties.csv', column_types={\n",
    "    'code': agate.Text(),\n",
    "    'id': agate.Text()\n",
    "})\n",
    "\n",
    "# peek at the column names\n",
    "print(counties)"
   ]
  },
  {
   "cell_type": "code",
   "execution_count": 11,
   "metadata": {
    "collapsed": false,
    "deletable": true,
    "editable": true
   },
   "outputs": [
    {
     "name": "stdout",
     "output_type": "stream",
     "text": [
      "| id | county   | code |\n",
      "| -- | -------- | ---- |\n",
      "| 1  | Anderson | 001  |\n",
      "| 2  | Andrews  | 002  |\n",
      "| 3  | Angelina | 003  |\n",
      "| 4  | Aransas  | 004  |\n",
      "| 5  | Archer   | 005  |\n",
      "| column | data_type |\n",
      "| ------ | --------- |\n",
      "| id     | Text      |\n",
      "| county | Text      |\n",
      "| code   | Text      |\n",
      "\n"
     ]
    }
   ],
   "source": [
    "# peek at the data\n",
    "counties.limit(5).print_table()\n",
    "print(counties)"
   ]
  },
  {
   "cell_type": "code",
   "execution_count": 12,
   "metadata": {
    "collapsed": false,
    "deletable": true,
    "editable": true
   },
   "outputs": [
    {
     "name": "stdout",
     "output_type": "stream",
     "text": [
      "| column                     | data_type |\n",
      "| -------------------------- | --------- |\n",
      "| Taxpayer Number            | Text      |\n",
      "| Taxpayer Name              | Text      |\n",
      "| Taxpayer Address           | Text      |\n",
      "| Taxpayer City              | Text      |\n",
      "| Taxpayer State             | Text      |\n",
      "| Taxpayer Zip               | Text      |\n",
      "| Taxpayer County            | Text      |\n",
      "| Location Number            | Text      |\n",
      "| Location Name              | Text      |\n",
      "| Location Address           | Text      |\n",
      "| Location City              | Text      |\n",
      "| Location State             | Text      |\n",
      "| Location Zip               | Text      |\n",
      "| Location County            | Text      |\n",
      "| Inside/Outside City Limits | Boolean   |\n",
      "| TABC Permit Number         | Text      |\n",
      "| Responsibility Begin Date  | Date      |\n",
      "| Responsibility End Date    | Date      |\n",
      "| Obligation End Date        | Date      |\n",
      "| Liquor Receipts            | Number    |\n",
      "| Wine Receipts              | Number    |\n",
      "| Beer Receipts              | Number    |\n",
      "| Cover Charge Receipts      | Number    |\n",
      "| Total Receipts             | Number    |\n",
      "| Establishment              | Text      |\n",
      "| county                     | Text      |\n",
      "| code                       | Text      |\n",
      "\n",
      "| Taxpayer Number | Taxpayer Name        | Taxpayer Address     | Taxpayer City | Taxpayer State | Taxpayer Zip | ... |\n",
      "| --------------- | -------------------- | -------------------- | ------------- | -------------- | ------------ | --- |\n",
      "| 32052221093     | CTWL, LLC            | 2712 BEE CAVES RD... | AUSTIN        | TX             | 78746        | ... |\n",
      "| 32050880221     | ISB ENTERPRISE, LLC. | 3659 NASA PKWY       | SEABROOK      | TX             | 77586        | ... |\n",
      "| 32040734306     | MAMA IRMA'S, INC.    | 7325 SPENCER HWY     | PASADENA      | TX             | 77505        | ... |\n",
      "| 32036703190     | CAFE HOLDINGS PRI... | 9660 AUDELIA RD S... | DALLAS        | TX             | 75238        | ... |\n",
      "| 32049968608     | SHYSG GROUP, LLC     | 2686 BLACK BEAR DR   | NEW BRAUNFELS | TX             | 78132        | ... |\n",
      "| 12039294405     | STUDIO CLUB 4, LLC   | 12404 PARK CENTRA... | DALLAS        | TX             | 75251        | ... |\n",
      "| 17521347561     | T AND N, INCORPOR... | PO BOX 542225        | DALLAS        | TX             | 75354        | ... |\n",
      "| 32058284137     | DRUNKEN DONKEY KE... | PO BOX 294016        | LEWISVILLE    | TX             | 75029        | ... |\n",
      "| 32048688173     | EL HAT DE AMERICA... | 1442 MCCANN RD       | LONGVIEW      | TX             | 75601        | ... |\n",
      "| 32055754868     | HDCB TEXAS, LLC      | 407 COLORADO ST      | AUSTIN        | TX             | 78701        | ... |\n",
      "| 32063080520     | JHONNY'S MEXICAN ... | 3999 PARKER RD       | ST PAUL       | TX             | 75098        | ... |\n",
      "| 17512992433     | EL FENIX CORPORATION | 1845 WOODALL RODG... | DALLAS        | TX             | 75201        | ... |\n",
      "| 32050224875     | SIXTH STREET CONC... | 815 BRAZOS ST # 391A | AUSTIN        | TX             | 78701        | ... |\n",
      "| 32059452832     | RUMINATE DISTILLI... | 7739 DENTCREST DR    | DALLAS        | TX             | 75254        | ... |\n",
      "| 32046902345     | HITX ASSOCIATES LLC  | 1628 JOHN F KENNE... | PHILADELPHIA  | PA             | 19103        | ... |\n",
      "| 32037218032     | YOKO'S INVESTMENT... | 7001 N 10TH ST STE C | MCALLEN       | TX             | 78504        | ... |\n",
      "| 32056874509     | FREE PLAY, INCORP... | 801 ALPHA DR STE 109 | RICHARDSON    | TX             | 75081        | ... |\n",
      "| 12636686706     | SYNERGY RESTAURAN... | 13355 NOEL RD        | DALLAS        | TX             | 75240        | ... |\n",
      "| 17429758075     | RUM RUNNER PRESS ... | 300 COUNTY ROAD 139  | HUTTO         | TX             | 78634        | ... |\n",
      "| 32056801965     | ESPERANZA RENOVAD... | 618 N JUPITER RD     | GARLAND       | TX             | 75042        | ... |\n",
      "| ...             | ...                  | ...                  | ...           | ...            | ...          | ... |\n"
     ]
    }
   ],
   "source": [
    "# joines the counties table to the mixed bev cleaned data with establishments\n",
    "mixbev_joined = mixbev_establishment.join(counties, 'Location County', 'id')\n",
    "\n",
    "# check that the merge was succesful \n",
    "print(mixbev_joined)\n",
    "mixbev_joined.print_table()"
   ]
  },
  {
   "cell_type": "code",
   "execution_count": 13,
   "metadata": {
    "collapsed": false,
    "deletable": true,
    "editable": true
   },
   "outputs": [
    {
     "name": "stdout",
     "output_type": "stream",
     "text": [
      "| column        | data_type |\n",
      "| ------------- | --------- |\n",
      "| Name          | Text      |\n",
      "| Address       | Text      |\n",
      "| Establishment | Text      |\n",
      "| City          | Text      |\n",
      "| State         | Text      |\n",
      "| Zip           | Text      |\n",
      "| County        | Text      |\n",
      "| Receipts      | Number    |\n",
      "| Report date   | Date      |\n",
      "\n"
     ]
    }
   ],
   "source": [
    "# get just the columns we need and rename county\n",
    "# THIS is the finished, cleaned mixbev table\n",
    "mixbev = mixbev_joined.select([\n",
    "    'Location Name',\n",
    "    'Location Address',\n",
    "    'Establishment',\n",
    "    'Location City',\n",
    "    'Location State',\n",
    "    'Location Zip',\n",
    "    'county',\n",
    "    'Total Receipts',\n",
    "    'Obligation End Date'\n",
    "]).rename(column_names = {\n",
    "    'Location Name' : 'Name',\n",
    "    'Location Address' : 'Address',\n",
    "    'Location City': 'City',\n",
    "    'Location State': 'State',\n",
    "    'Location Zip': 'Zip',\n",
    "    'Total Receipts' : 'Receipts',\n",
    "    'county': 'County',\n",
    "    'Obligation End Date': 'Report date'\n",
    "})\n",
    "\n",
    "# peek at the column names\n",
    "print(mixbev)"
   ]
  },
  {
   "cell_type": "code",
   "execution_count": 14,
   "metadata": {
    "collapsed": false,
    "deletable": true,
    "editable": true
   },
   "outputs": [
    {
     "name": "stdout",
     "output_type": "stream",
     "text": [
      "| Name                 | Address              | Establishment        | City        | State | Zip   | ... |\n",
      "| -------------------- | -------------------- | -------------------- | ----------- | ----- | ----- | --- |\n",
      "| CHINATOWN            | 2712 BEE CAVES RD... | CHINATOWN (2712 B... | ROLLINGWOOD | TX    | 78746 | ... |\n",
      "| SIGNATURES           | 3659 NASA PKWY       | SIGNATURES (3659 ... | SEABROOK    | TX    | 77586 | ... |\n",
      "| MAMA IRMA'S          | 7325 SPENCER HWY     | MAMA IRMA'S (7325... | PASADENA    | TX    | 77505 | ... |\n",
      "| OFFSHORE'S NEXTDOOR  | 9660 AUDELIA RD S... | OFFSHORE'S NEXTDO... | DALLAS      | TX    | 75238 | ... |\n",
      "| LOUIE'S BEER GARD... | 119 E HUTCHISON ST   | LOUIE'S BEER GARD... | SAN MARCOS  | TX    | 78666 | ... |\n"
     ]
    }
   ],
   "source": [
    "# peek at the table\n",
    "mixbev.limit(5).print_table()"
   ]
  },
  {
   "cell_type": "markdown",
   "metadata": {},
   "source": [
    "## No need to view dates\n",
    "\n",
    "Previously we had to filter down to only the dates studied. As this stands now, we filtered to the correct date in Socrata BEFORE we exported. This might need to change once we pull from the API."
   ]
  },
  {
   "cell_type": "code",
   "execution_count": 15,
   "metadata": {
    "collapsed": false
   },
   "outputs": [
    {
     "name": "stdout",
     "output_type": "stream",
     "text": [
      "| Report date |\n",
      "| ----------- |\n",
      "|  2017-09-30 |\n",
      "\n",
      "Number of records in table: 15536\n"
     ]
    }
   ],
   "source": [
    "# double-checking I'm looking at one report data\n",
    "mixbev_dates = mixbev.select('Report date').distinct('Report date')\n",
    "mixbev_dates.print_table()\n",
    "\n",
    "print('\\nNumber of records in table: {}'.format(\n",
    "        len(mixbev))\n",
    "     )"
   ]
  },
  {
   "cell_type": "markdown",
   "metadata": {
    "deletable": true,
    "editable": true
   },
   "source": [
    "## Top sales statewide\n",
    "\n",
    "Because we want to group our results by more than one field and perform more than one aggregation, we'll do this a little differently. We'll use group_by to create a grouped table, then perform aggregations on that new table to computer the Tax and Receipts columns."
   ]
  },
  {
   "cell_type": "code",
   "execution_count": 16,
   "metadata": {
    "collapsed": false,
    "deletable": true,
    "editable": true
   },
   "outputs": [
    {
     "name": "stdout",
     "output_type": "stream",
     "text": [
      "| Establishment                            | County  | City        | Sales_sum |\n",
      "| ---------------------------------------- | ------- | ----------- | --------- |\n",
      "| AT&T STADIUM (1 LEGENDS WAY)             | Tarrant | ARLINGTON   | 3,883,207 |\n",
      "| GAYLORD TEXAN (1501 GAYLORD TRL)         | Tarrant | GRAPEVINE   | 1,739,696 |\n",
      "| HOSPITALITY INTERNATIONAL, INC. (2380... | Bexar   | SAN ANTONIO | 1,376,321 |\n",
      "| WLS BEVERAGE CO (110 E 2ND ST)           | Travis  | AUSTIN      | 1,100,292 |\n",
      "| OMNI DALLAS CONVENTION CENTER (555 S ... | Dallas  | DALLAS      |   983,038 |\n",
      "| ARAMARK SPORTS & ENTERTAINMENT SERVIC... | Harris  | HOUSTON     |   948,918 |\n",
      "| METROPLEX SPORTSERVICE, INC. (1000 BA... | Tarrant | ARLINGTON   |   902,437 |\n",
      "| RYAN SANDERS SPORTS SERVICES, LLC (92... | Travis  | DEL VALLE   |   873,760 |\n",
      "| HAPPIEST HOUR, LLC (2616 OLIVE ST)       | Dallas  | DALLAS      |   830,658 |\n",
      "| SALC, INC. (2201 N STEMMONS FWY FL 1)    | Dallas  | DALLAS      |   801,019 |\n"
     ]
    }
   ],
   "source": [
    "# groups the data based on Establishment and City\n",
    "mixbev_grouped = mixbev.group_by('Establishment').group_by('County').group_by('City')\n",
    "\n",
    "# computes the sales based on the grouping\n",
    "state_summary = mixbev_grouped.aggregate([\n",
    "    ('Sales_sum', agate.Sum('Receipts'))\n",
    "])\n",
    "\n",
    "# sorts the results by most sold. We could probalby chain it above if we wanted to.\n",
    "state_summary_sorted = state_summary.order_by('Sales_sum', reverse=True)\n",
    "\n",
    "# prints the top 10 results\n",
    "state_summary_sorted.limit(10).print_table(max_column_width=40)"
   ]
  },
  {
   "cell_type": "markdown",
   "metadata": {
    "deletable": true,
    "editable": true
   },
   "source": [
    "## Overall statewide sum"
   ]
  },
  {
   "cell_type": "code",
   "execution_count": 17,
   "metadata": {
    "collapsed": false,
    "deletable": true,
    "editable": true
   },
   "outputs": [
    {
     "name": "stdout",
     "output_type": "stream",
     "text": [
      "Totalstatewide sales for this month are: 572120305\n"
     ]
    }
   ],
   "source": [
    "# summing sales statewide for month\n",
    "\n",
    "print('Totalstatewide sales for this month are: {}'.format(\n",
    "    mixbev.aggregate(agate.Sum('Receipts'))\n",
    "))\n",
    "\n"
   ]
  },
  {
   "cell_type": "markdown",
   "metadata": {
    "deletable": true,
    "editable": true
   },
   "source": [
    "## Location sums function\n",
    "\n",
    "Because we want to get the top sellers in a bunch of cities and couties, we create a function so we don't have to repeat the code. This function allows us to pass in a city or county name to filter the monthly receipts table and then sum the Tax and Receipts columns. The result can then be acted on to print or aggreggate."
   ]
  },
  {
   "cell_type": "code",
   "execution_count": 18,
   "metadata": {
    "collapsed": false,
    "deletable": true,
    "editable": true
   },
   "outputs": [],
   "source": [
    "# function to group sales by a specific location\n",
    "# City or County passed in should be ALL CAPS\n",
    "# Location_type can be 'City' or 'County'\n",
    "\n",
    "def location_sum(location_type, location):\n",
    "    # Filters the data to the specified city\n",
    "    location_filtered = mixbev.where(lambda row: row[location_type].upper() == location)\n",
    "\n",
    "    # groups the data based on Establishment and location\n",
    "    location_grouped = location_filtered.group_by('Establishment').group_by(location_type)\n",
    "    # computes the sales based on the grouping\n",
    "    location_summary = location_grouped.aggregate([\n",
    "        ('Receipts_sum', agate.Sum('Receipts'))\n",
    "    ])\n",
    "    \n",
    "    # sorts the results by most sold\n",
    "    location_summary_sorted = location_summary.order_by('Receipts_sum', reverse=True)\n",
    "    # prints the top 10 results\n",
    "    \n",
    "    return(location_summary_sorted)\n"
   ]
  },
  {
   "cell_type": "markdown",
   "metadata": {
    "deletable": true,
    "editable": true
   },
   "source": [
    "## Austin sales and sums\n",
    "\n",
    "With this, we refernce the location_sum function above, and pass the type of location (City) and the name of the city (AUSTIN). At the same time, we limit the result of that function to the first 10 records, and then print the results. We are basically stringing together a bunch of stuff at once."
   ]
  },
  {
   "cell_type": "code",
   "execution_count": 19,
   "metadata": {
    "collapsed": false,
    "deletable": true,
    "editable": true
   },
   "outputs": [
    {
     "name": "stdout",
     "output_type": "stream",
     "text": [
      "| Establishment                                                | City   | Receipts_sum |\n",
      "| ------------------------------------------------------------ | ------ | ------------ |\n",
      "| WLS BEVERAGE CO (110 E 2ND ST)                               | AUSTIN |    1,100,292 |\n",
      "| ROSE ROOM/ 77 DEGREES (11500 ROCK ROSE AVE)                  | AUSTIN |      585,686 |\n",
      "| 400 BAR/CUCARACHA/CHUPACABRA/JACKALOPE/MOOSENUCKLE (400 E... | AUSTIN |      503,352 |\n",
      "| BLIND PIG PUB / PIG PEN (317 E 6TH ST)                       | AUSTIN |      502,440 |\n",
      "| W HOTEL AUSTIN (200 LAVACA ST)                               | AUSTIN |      441,207 |\n"
     ]
    }
   ],
   "source": [
    "# uses the city_sum function to filter\n",
    "austin = location_sum('City', 'AUSTIN')\n",
    "\n",
    "# print the resulting table\n",
    "austin.limit(5).print_table(max_column_width=60)"
   ]
  },
  {
   "cell_type": "markdown",
   "metadata": {
    "deletable": true,
    "editable": true
   },
   "source": [
    "### String methods together to print a table\n",
    "So far, we've been printing tables, but Agate can also print charts. The **`print_bars`** method creates a simple, text-based bar chart."
   ]
  },
  {
   "cell_type": "code",
   "execution_count": 20,
   "metadata": {
    "collapsed": false,
    "deletable": true,
    "editable": true
   },
   "outputs": [
    {
     "name": "stdout",
     "output_type": "stream",
     "text": [
      "Establishment                                                     Receipts_sum\n",
      "WLS BEVERAGE CO (110 E 2ND ST)                                       1,100,292 ▓░░░░░░    \n",
      "ROSE ROOM/ 77 DEGREES (11500 ROCK ROSE AVE)                            585,686 ▓░░░       \n",
      "400 BAR/CUCARACHA/CHUPACABRA/JACKALOPE/MOOSENUCKLE (400 E 6TH ST)      503,352 ▓░░░       \n",
      "BLIND PIG PUB / PIG PEN (317 E 6TH ST)                                 502,440 ▓░░░       \n",
      "W HOTEL AUSTIN (200 LAVACA ST)                                         441,207 ▓░░        \n",
      "THE DOGWOOD DOMAIN (11420 ROCK ROSE AVE STE 700)                       398,332 ▓░░        \n",
      "HOTEL VAN ZANDT (605 DAVIS ST)                                         393,394 ▓░░        \n",
      "THE PALAZIO (501 E BEN WHITE BLVD)                                     376,713 ▓░░        \n",
      "CONTAINER BAR (90 RAINEY ST)                                           375,494 ▓░░        \n",
      "TOP GOLF (2700 ESPERANZA XING)                                         367,731 ▓░░        \n",
      "                                                                               +---------+\n",
      "                                                                               0 2,000,000\n"
     ]
    }
   ],
   "source": [
    "# We'll use the same function, but instead of creating a new table,\n",
    "# we'll just string on the limit and print bars methods\n",
    "# print_bars needs to arguments, the label column and then the value to make the chart from\n",
    "location_sum('City', 'AUSTIN').limit(10).print_bars('Establishment', 'Receipts_sum', width=90)"
   ]
  },
  {
   "cell_type": "markdown",
   "metadata": {
    "deletable": true,
    "editable": true
   },
   "source": [
    "### Total sales Austin"
   ]
  },
  {
   "cell_type": "code",
   "execution_count": 21,
   "metadata": {
    "collapsed": false,
    "deletable": true,
    "editable": true
   },
   "outputs": [
    {
     "ename": "IndexError",
     "evalue": "tuple index out of range",
     "output_type": "error",
     "traceback": [
      "\u001b[0;31m---------------------------------------------------------------------------\u001b[0m",
      "\u001b[0;31mIndexError\u001b[0m                                Traceback (most recent call last)",
      "\u001b[0;32m<ipython-input-21-dc7dbb173abc>\u001b[0m in \u001b[0;36m<module>\u001b[0;34m()\u001b[0m\n\u001b[1;32m      2\u001b[0m \u001b[0;31m# This sums the grouped table, but it works\u001b[0m\u001b[0;34m\u001b[0m\u001b[0;34m\u001b[0m\u001b[0m\n\u001b[1;32m      3\u001b[0m \u001b[0;34m\u001b[0m\u001b[0m\n\u001b[0;32m----> 4\u001b[0;31m print('Total sales in Austin are: {}'.format(\n\u001b[0m\u001b[1;32m      5\u001b[0m \u001b[0;34m\u001b[0m\u001b[0m\n\u001b[1;32m      6\u001b[0m ))\n",
      "\u001b[0;31mIndexError\u001b[0m: tuple index out of range"
     ]
    }
   ],
   "source": [
    "# Austin total sales as s city\n",
    "# This sums the grouped table, but it works\n",
    "\n",
    "print('Total sales in Austin are: {}'.format(\n",
    "    \n",
    "))\n",
    "\n"
   ]
  },
  {
   "cell_type": "markdown",
   "metadata": {
    "deletable": true,
    "editable": true
   },
   "source": [
    "## More Central Texas cities"
   ]
  },
  {
   "cell_type": "code",
   "execution_count": null,
   "metadata": {
    "collapsed": false,
    "deletable": true,
    "editable": true
   },
   "outputs": [],
   "source": [
    "location_sum('City', 'BASTROP').limit(5).print_table(max_column_width=60)"
   ]
  },
  {
   "cell_type": "code",
   "execution_count": null,
   "metadata": {
    "collapsed": false,
    "deletable": true,
    "editable": true
   },
   "outputs": [],
   "source": [
    "location_sum('City', 'BEE CAVE').limit(3).print_table(max_column_width=60)"
   ]
  },
  {
   "cell_type": "code",
   "execution_count": null,
   "metadata": {
    "collapsed": false,
    "deletable": true,
    "editable": true
   },
   "outputs": [],
   "source": [
    "location_sum('City', 'BUDA').limit(3).print_table(max_column_width=60)"
   ]
  },
  {
   "cell_type": "code",
   "execution_count": null,
   "metadata": {
    "collapsed": false,
    "deletable": true,
    "editable": true
   },
   "outputs": [],
   "source": [
    "location_sum('City', 'CEDAR PARK').limit(3).print_table(max_column_width=60)"
   ]
  },
  {
   "cell_type": "code",
   "execution_count": null,
   "metadata": {
    "collapsed": false,
    "deletable": true,
    "editable": true
   },
   "outputs": [],
   "source": [
    "location_sum('City', 'DRIPPING SPRINGS').limit(3).print_table(max_column_width=60)"
   ]
  },
  {
   "cell_type": "code",
   "execution_count": null,
   "metadata": {
    "collapsed": false,
    "deletable": true,
    "editable": true
   },
   "outputs": [],
   "source": [
    "location_sum('City', 'GEORGETOWN').limit(3).print_table(max_column_width=60)"
   ]
  },
  {
   "cell_type": "code",
   "execution_count": null,
   "metadata": {
    "collapsed": false,
    "deletable": true,
    "editable": true
   },
   "outputs": [],
   "source": [
    "location_sum('City', 'KYLE').limit(3).print_table(max_column_width=60)"
   ]
  },
  {
   "cell_type": "code",
   "execution_count": null,
   "metadata": {
    "collapsed": false,
    "deletable": true,
    "editable": true
   },
   "outputs": [],
   "source": [
    "location_sum('City', 'LAGO VISTA').limit(3).print_table(max_column_width=60)"
   ]
  },
  {
   "cell_type": "code",
   "execution_count": null,
   "metadata": {
    "collapsed": false,
    "deletable": true,
    "editable": true
   },
   "outputs": [],
   "source": [
    "location_sum('City', 'LAKEWAY').limit(3).print_table(max_column_width=60)"
   ]
  },
  {
   "cell_type": "code",
   "execution_count": null,
   "metadata": {
    "collapsed": false,
    "deletable": true,
    "editable": true
   },
   "outputs": [],
   "source": [
    "location_sum('City', 'LEANDER').limit(3).print_table(max_column_width=60)"
   ]
  },
  {
   "cell_type": "code",
   "execution_count": null,
   "metadata": {
    "collapsed": false,
    "deletable": true,
    "editable": true
   },
   "outputs": [],
   "source": [
    "location_sum('City', 'LIBERTY HILL').limit(3).print_table(max_column_width=60)"
   ]
  },
  {
   "cell_type": "code",
   "execution_count": null,
   "metadata": {
    "collapsed": false,
    "deletable": true,
    "editable": true
   },
   "outputs": [],
   "source": [
    "location_sum('City', 'PFLUGERVILLE').limit(3).print_table(max_column_width=60)"
   ]
  },
  {
   "cell_type": "code",
   "execution_count": null,
   "metadata": {
    "collapsed": false,
    "deletable": true,
    "editable": true
   },
   "outputs": [],
   "source": [
    "location_sum('City', 'ROUND ROCK').limit(5).print_table(max_column_width=60)"
   ]
  },
  {
   "cell_type": "code",
   "execution_count": null,
   "metadata": {
    "collapsed": false,
    "deletable": true,
    "editable": true
   },
   "outputs": [],
   "source": [
    "location_sum('City', 'SAN MARCOS').limit(5).print_table(max_column_width=60)"
   ]
  },
  {
   "cell_type": "code",
   "execution_count": null,
   "metadata": {
    "collapsed": false,
    "deletable": true,
    "editable": true
   },
   "outputs": [],
   "source": [
    "location_sum('City', 'SPICEWOOD').limit(3).print_table(max_column_width=60)"
   ]
  },
  {
   "cell_type": "code",
   "execution_count": null,
   "metadata": {
    "collapsed": false,
    "deletable": true,
    "editable": true
   },
   "outputs": [],
   "source": [
    "location_sum('City', 'SUNSET VALLEY').limit(3).print_table(max_column_width=60)"
   ]
  },
  {
   "cell_type": "code",
   "execution_count": null,
   "metadata": {
    "collapsed": false,
    "deletable": true,
    "editable": true
   },
   "outputs": [],
   "source": [
    "location_sum('City', 'WEST LAKE HILLS').limit(3).print_table(max_column_width=60)"
   ]
  },
  {
   "cell_type": "markdown",
   "metadata": {
    "deletable": true,
    "editable": true
   },
   "source": [
    "## Sales by county\n",
    "\n",
    "In this case, we pass in the location type of 'County' and then a county name in caps to get the most sales in a particular county."
   ]
  },
  {
   "cell_type": "code",
   "execution_count": null,
   "metadata": {
    "collapsed": false,
    "deletable": true,
    "editable": true,
    "scrolled": true
   },
   "outputs": [],
   "source": [
    "location_sum('County', 'BASTROP').limit(5).print_table(max_column_width=80)"
   ]
  },
  {
   "cell_type": "code",
   "execution_count": null,
   "metadata": {
    "collapsed": false,
    "deletable": true,
    "editable": true
   },
   "outputs": [],
   "source": [
    "location_sum('County', 'CALDWELL').limit(3).print_table(max_column_width=80)"
   ]
  },
  {
   "cell_type": "code",
   "execution_count": null,
   "metadata": {
    "collapsed": false,
    "deletable": true,
    "editable": true
   },
   "outputs": [],
   "source": [
    "location_sum('County', 'HAYS').limit(3).print_table(max_column_width=80)"
   ]
  },
  {
   "cell_type": "code",
   "execution_count": null,
   "metadata": {
    "collapsed": false,
    "deletable": true,
    "editable": true
   },
   "outputs": [],
   "source": [
    "location_sum('County', 'TRAVIS').limit(3).print_table(max_column_width=80)"
   ]
  },
  {
   "cell_type": "code",
   "execution_count": null,
   "metadata": {
    "collapsed": false,
    "deletable": true,
    "editable": true
   },
   "outputs": [],
   "source": [
    "location_sum('County', 'WILLIAMSON').limit(3).print_table(max_column_width=80)"
   ]
  },
  {
   "cell_type": "markdown",
   "metadata": {
    "deletable": true,
    "editable": true
   },
   "source": [
    "## Sales by ZIP Code\n",
    "For this, we'll do a simple pivot on Zip, but instead of using the default Count method, we'll pass in an aggregation to add the Tax values together for all the Zips. Whe then order_by in reverse to get the top values."
   ]
  },
  {
   "cell_type": "code",
   "execution_count": null,
   "metadata": {
    "collapsed": false,
    "deletable": true,
    "editable": true
   },
   "outputs": [],
   "source": [
    "# top zip code gross receipts\n",
    "zip_receipts = mixbev.pivot('Zip', aggregation=agate.Sum('Receipts')).order_by('Sum', reverse=True)\n",
    "zip_receipts.limit(5).print_table()"
   ]
  },
  {
   "cell_type": "code",
   "execution_count": null,
   "metadata": {
    "collapsed": true,
    "deletable": true,
    "editable": true
   },
   "outputs": [],
   "source": []
  }
 ],
 "metadata": {
  "kernelspec": {
   "display_name": "Python 3",
   "language": "python",
   "name": "python3"
  },
  "language_info": {
   "codemirror_mode": {
    "name": "ipython",
    "version": 3
   },
   "file_extension": ".py",
   "mimetype": "text/x-python",
   "name": "python",
   "nbconvert_exporter": "python",
   "pygments_lexer": "ipython3",
   "version": "3.6.1"
  }
 },
 "nbformat": 4,
 "nbformat_minor": 2
}
