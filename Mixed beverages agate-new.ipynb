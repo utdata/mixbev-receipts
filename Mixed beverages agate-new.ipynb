{
 "cells": [
  {
   "cell_type": "markdown",
   "metadata": {
    "deletable": true,
    "editable": true
   },
   "source": [
    "# Processing mixed beverage data (new)\n",
    "This Jupyter Notebook uses [data.texas.gov Mixed Beverage Gross Receipts data](https://data.texas.gov/Government-and-Taxes/Mixed-Beverage-Gross-Receipts/naix-2893), and then a python library called [agate](http://agate.readthedocs.io/) to clean and process that data for [stories similar to this one](http://www.mystatesman.com/business/austin-alcohol-sales-percent-february/Oo2txZUkuDlqBl0rU9O1lJ/) on monthly alcohol sales.\n",
    "\n",
    "This is a work in progress.\n",
    "\n",
    "- The first version will use a downloaded file to process. The data is in a new format, so it has to be reworked\n",
    "- The second phase will work on pulling the data directly from Socrata.\n",
    "\n",
    "### This links may or may not work\n",
    "- [Top sales statewide](#Top-sales-statewide)\n",
    "- [Austin sales](#Austin-sales-and-sums)\n",
    "- [Central Texas cities](#More-Central-Texas-cities)\n",
    "\n"
   ]
  },
  {
   "cell_type": "markdown",
   "metadata": {
    "deletable": true,
    "editable": true
   },
   "source": [
    "I'll use a little bash here to look at the file I have pulled, which is files with `Obligation End Date` between Sept. 1 and Sept 30 2017.\n"
   ]
  },
  {
   "cell_type": "code",
   "execution_count": 1,
   "metadata": {
    "collapsed": false,
    "deletable": true,
    "editable": true
   },
   "outputs": [
    {
     "name": "stdout",
     "output_type": "stream",
     "text": [
      "Taxpayer Number,Taxpayer Name,Taxpayer Address,Taxpayer City,Taxpayer State,Taxpayer Zip,Taxpayer County,Location Number,Location Name,Location Address,Location City,Location State,Location Zip,Location County,Inside/Outside City Limits,TABC Permit Number,Responsibility Begin Date,Responsibility End Date,Obligation End Date,Liquor Receipts,Wine Receipts,Beer Receipts,Cover Charge Receipts,Total Receipts\n",
      "32052221093,\"CTWL, LLC\",2712 BEE CAVES RD STE 124,AUSTIN,TX,78746,227,1,CHINATOWN,2712 BEE CAVES RD STE 124,ROLLINGWOOD,TX,78746,227,Y,MB866922,03/20/2014,,09/30/2017,$8727,$12270,$2940,$0,$23937\n",
      "32050880221,\"ISB ENTERPRISE, LLC.\",3659 NASA PKWY,SEABROOK,TX,77586,101,2,SIGNATURES,3659 NASA PKWY,SEABROOK,TX,77586,101,Y,MB851753,09/01/2016,,09/30/2017,$3710,$5067,$3582,$0,$12359\n",
      "32040734306,\"MAMA IRMA'S, INC.\",7325 SPENCER HWY,PASADENA,TX,77505,101,1,MAMA IRMA'S,7325 SPENCER HWY,PASADENA,TX,77505,101,Y,MB764780,01/04/2011,,09/30/2017,$46186,$420,$18875,$0,$65481\n",
      "32036703190,CAFE HOLDINGS PRIVATE CLUB,9660 AUDELIA RD STE 305,DALLAS,TX,75238,57,2,OFFSHORE'S NEXTDOOR,9660 AUDELIA RD STE 305,DALLAS,TX,75238,57,Y,N 697788,07/11/2008,,09/30/2017,$0,$0,$0,$0,$0\n"
     ]
    }
   ],
   "source": [
    "%%bash\n",
    "head -n 5 data-raw/Mixed_Beverage_Gross_Receipts-201709.csv"
   ]
  },
  {
   "cell_type": "markdown",
   "metadata": {
    "deletable": true,
    "editable": true
   },
   "source": [
    "This data appears to be MUCH cleaner than what we have worked with in the past. It looks like we won't have to trim fields."
   ]
  },
  {
   "cell_type": "markdown",
   "metadata": {
    "deletable": true,
    "editable": true
   },
   "source": [
    "Now that we have our file and know what it looks like, we'll use Python and the agate library to clean and analyze it. You'll need to make sure that you have agate installed, preferably in an virtual environment like Conda, as described in the [ReadMe](README.md)."
   ]
  },
  {
   "cell_type": "code",
   "execution_count": 2,
   "metadata": {
    "collapsed": false,
    "deletable": true,
    "editable": true
   },
   "outputs": [
    {
     "name": "stderr",
     "output_type": "stream",
     "text": [
      "/Users/christian/anaconda/envs/mixbev/lib/python3.6/json/encoder.py:199: DeprecationWarning: Interpreting naive datetime as local 2017-12-02 11:42:13.610651. Please add timezone info to timestamps.\n"
     ]
    }
   ],
   "source": [
    "# imports the libraries we will use\n",
    "import agate\n",
    "from decimal import Decimal\n",
    "import re"
   ]
  },
  {
   "cell_type": "code",
   "execution_count": 3,
   "metadata": {
    "collapsed": false,
    "deletable": true,
    "editable": true
   },
   "outputs": [],
   "source": [
    "# this surpresses the timezone warning\n",
    "# Might comment out during development so other warnings\n",
    "# are not surpressed\n",
    "import warnings\n",
    "warnings.filterwarnings('ignore')"
   ]
  },
  {
   "cell_type": "markdown",
   "metadata": {
    "deletable": true,
    "editable": true
   },
   "source": [
    "### Study variables\n",
    "\n",
    "This is where you set which file you are working with, and which month you want to study, etc.\n",
    "\n",
    "First, we'll list the files in our directory that we have downloaded so far so we can get the filename:"
   ]
  },
  {
   "cell_type": "code",
   "execution_count": 4,
   "metadata": {
    "collapsed": false,
    "deletable": true,
    "editable": true
   },
   "outputs": [
    {
     "name": "stdout",
     "output_type": "stream",
     "text": [
      "Mixed_Beverage_Gross_Receipts-201709.csv\r\n",
      "Mixed_Beverage_Gross_Receipts-201710.csv\r\n"
     ]
    }
   ],
   "source": [
    "ls data-raw/"
   ]
  },
  {
   "cell_type": "markdown",
   "metadata": {
    "deletable": true,
    "editable": true
   },
   "source": [
    "Then we set some values based on those.\n",
    "\n",
    "- The **`file`** is the name of the file we want to process\n",
    "- The **`tax_rate`** is the value we need for this file to get the Gross Recipts (vs the Tax Reported, which is just the tax amount the establishment paid). The comptroller [has information on the tax](https://comptroller.texas.gov/taxes/mixed-beverage/receipts.php), but this [old record layout](https://github.com/utdata/cli-tools/blob/master/data/mixbevtax/OLD-MIXEDBEVTAX-LAYOUT.txt) best describes the math.\n",
    "- The **`month_studied`** is the YYYY/MM designation for the month before the file release. The file released in February has mostly records from January, but can also have any other month, so we set here the specific month we want. Note there is a check later on that counts the number of files by month, which is worth checking."
   ]
  },
  {
   "cell_type": "code",
   "execution_count": 5,
   "metadata": {
    "collapsed": false,
    "deletable": true,
    "editable": true
   },
   "outputs": [],
   "source": [
    "# this is our source file, which may have been downloaded above\n",
    "file = 'data-raw/Mixed_Beverage_Gross_Receipts-201710.csv'\n",
    "\n",
    "# Sets the tax rate to convert Report Tax to Gross Receipts\n",
    "# It's 6.7 since January 1, 2014\n",
    "tax_rate = Decimal('6.7')\n",
    "\n",
    "# setting the month_studied var.\n",
    "# This should be checked in the table below that counts records by month\n",
    "# I DONT NEED THIS RIGHT NOW SINCE I'VE DOWNLOADED ONLY A SINGLE MONTH\n",
    "month_studied = '2017/03'\n"
   ]
  },
  {
   "cell_type": "markdown",
   "metadata": {
    "deletable": true,
    "editable": true
   },
   "source": [
    "### Import the file\n",
    "There are a couple of things we have to set to import a file. Remember we had to do the same when we did this manually in Tableau.\n",
    "- Set the column header names (BUT NEW DATA HAS HEADERS)\n",
    "- Set the ZIP and County codes as text, so we preserve '001'.\n",
    "- The encoding type of the file (Tableau enferred, but we have to specify here. Common types are 'iso-8859-1' or  'utf-8', or 'latin1'. Just try it until it works."
   ]
  },
  {
   "cell_type": "code",
   "execution_count": 6,
   "metadata": {
    "collapsed": false,
    "deletable": true,
    "editable": true
   },
   "outputs": [
    {
     "name": "stdout",
     "output_type": "stream",
     "text": [
      "| column                     | data_type |\n",
      "| -------------------------- | --------- |\n",
      "| Taxpayer Number            | Text      |\n",
      "| Taxpayer Name              | Text      |\n",
      "| Taxpayer Address           | Text      |\n",
      "| Taxpayer City              | Text      |\n",
      "| Taxpayer State             | Text      |\n",
      "| Taxpayer Zip               | Text      |\n",
      "| Taxpayer County            | Text      |\n",
      "| Location Number            | Text      |\n",
      "| Location Name              | Text      |\n",
      "| Location Address           | Text      |\n",
      "| Location City              | Text      |\n",
      "| Location State             | Text      |\n",
      "| Location Zip               | Text      |\n",
      "| Location County            | Text      |\n",
      "| Inside/Outside City Limits | Boolean   |\n",
      "| TABC Permit Number         | Text      |\n",
      "| Responsibility Begin Date  | Date      |\n",
      "| Responsibility End Date    | Date      |\n",
      "| Obligation End Date        | Date      |\n",
      "| Liquor Receipts            | Number    |\n",
      "| Wine Receipts              | Number    |\n",
      "| Beer Receipts              | Number    |\n",
      "| Cover Charge Receipts      | Number    |\n",
      "| Total Receipts             | Number    |\n",
      "\n"
     ]
    }
   ],
   "source": [
    "#Helps us import some text fields that may be considered numbers in error.\n",
    "specified_types = {\n",
    "    'Taxpayer Number': agate.Text(),\n",
    "    'Location Number': agate.Text(),\n",
    "    'Taxpayer Zip': agate.Text(),\n",
    "    'Location Zip': agate.Text(),\n",
    "    'Location County': agate.Text(),\n",
    "    'Taxpayer County': agate.Text()\n",
    "}\n",
    "\n",
    "# this imports the file specified above, along with the proper types\n",
    "mixbev_raw = agate.Table.from_csv(file, column_types=specified_types)\n",
    "\n",
    "# prints table fields so we an check thoes data types\n",
    "print(mixbev_raw)"
   ]
  },
  {
   "cell_type": "code",
   "execution_count": 7,
   "metadata": {
    "collapsed": false,
    "deletable": true,
    "editable": true
   },
   "outputs": [
    {
     "name": "stdout",
     "output_type": "stream",
     "text": [
      "| Taxpayer Number | Taxpayer Name        | Taxpayer Address     | Taxpayer City | Taxpayer State | Taxpayer Zip | ... |\n",
      "| --------------- | -------------------- | -------------------- | ------------- | -------------- | ------------ | --- |\n",
      "| 12317173321     | ARAMARK EDUCATION... | PO BOX 7548          | PHILADELPHIA  | PA             | 19101        | ... |\n",
      "| 32046754944     | ANA LUCIA VILLALTA   | 4736 MAPLE AVE       | DALLAS        | TX             | 75219        | ... |\n",
      "| 17519330587     | CHILI'S BEVERAGE ... | 6820 LYNDON B JOH... | DALLAS        | TX             | 75240        | ... |\n",
      "| 32053628460     | MOONSHINE DRINKER... | 2211 NORFOLK ST S... | HOUSTON       | TX             | 77098        | ... |\n",
      "| 32021273860     | SUGARTIME LOUNGE INC | PO BOX 23176         | SAN ANTONIO   | TX             | 78223        | ... |\n",
      "| 32056220901     | LOCAL GRINGOS, LLC   | 5911 MARQUITA AVE    | DALLAS        | TX             | 75206        | ... |\n",
      "| 17518726561     | I GOTCHA, INC.       | 7405 CAMP BOWIE W... | FORT WORTH    | TX             | 76116        | ... |\n",
      "| 32044242538     | JULIE'S COCINA, LLC  | PO BOX 661           | SPICEWOOD     | TX             | 78669        | ... |\n",
      "| 32063059532     | DEVLYNGC INCORPOR... | 155 COUNTRY CLUB RD  | WHITNEY       | TX             | 76692        | ... |\n",
      "| 32058027635     | M & S TACO SHOP -... | 3501 TOWNE CROSSI... | MESQUITE      | TX             | 75150        | ... |\n",
      "| 32050491532     | MARISCOS COCKRELL... | PO BOX 224728        | DALLAS        | TX             | 75222        | ... |\n",
      "| 17522391758     | ROSA'S CAFES, INC.   | 5000 OVERTON PLZ ... | FORT WORTH    | TX             | 76109        | ... |\n",
      "| 32059985542     | DJRB & COMPANY LLC   | 6796 TRUMP CT        | ROPESVILLE    | TX             | 79358        | ... |\n",
      "| 32043655409     | NAMPAW, LLC          | 13308 WESTHEIMER ... | HOUSTON       | TX             | 77077        | ... |\n",
      "| 17426162909     | CABANA BEVERAGES,... | 8111 MAINLAND DR ... | SAN ANTONIO   | TX             | 78240        | ... |\n",
      "| 32062121002     | 230 SLTC, LLC        | 9535 KATY FWY        | HOUSTON       | TX             | 77024        | ... |\n",
      "| 14119571074     | BLAZIN WINGS, INC.   | 5500 WAYZATA BLVD... | MINNEAPOLIS   | MN             | 55416        | ... |\n",
      "| 32059555394     | THE AMERICANA RES... | 6721 LIMESTONE ST    | HOUSTON       | TX             | 77092        | ... |\n",
      "| 12615478950     | DON JUAN'S INC.      | 402 S WALCOTT ST     | JEFFERSON     | TX             | 75657        | ... |\n",
      "| 17425949496     | SC BEVERAGE COMPANY  | 4001 MAPLE AVE ST... | DALLAS        | TX             | 75219        | ... |\n",
      "| ...             | ...                  | ...                  | ...           | ...            | ...          | ... |\n"
     ]
    }
   ],
   "source": [
    "# printing table to see results\n",
    "mixbev_raw.print_table()\n"
   ]
  },
  {
   "cell_type": "markdown",
   "metadata": {
    "deletable": true,
    "editable": true
   },
   "source": [
    "## no cleaning?\n",
    "- Unlike befor, we don't need to trim fields or calculate the Gross Receipts from Reported Tax, becaues the are already gross\n",
    "- If we are interested in Tax paid, we will have to create a function to get those based on the tax rate, which will vary by the date of the report (there are two, which are outlined on the record layout linked from the [data primer](https://data.texas.gov/Government-and-Taxes/Mixed-Beverage-Gross-Receipts/naix-2893)"
   ]
  },
  {
   "cell_type": "markdown",
   "metadata": {
    "deletable": true,
    "editable": true
   },
   "source": [
    "### Create establishment column\n",
    "\n",
    "We do this so we make sure we have single establishments instead of grouping trade names together from different addresses, like 'CHILI'S BAR & GRILL'."
   ]
  },
  {
   "cell_type": "code",
   "execution_count": 8,
   "metadata": {
    "collapsed": false,
    "deletable": true,
    "editable": true
   },
   "outputs": [
    {
     "name": "stdout",
     "output_type": "stream",
     "text": [
      "| column                     | data_type |\n",
      "| -------------------------- | --------- |\n",
      "| Taxpayer Number            | Text      |\n",
      "| Taxpayer Name              | Text      |\n",
      "| Taxpayer Address           | Text      |\n",
      "| Taxpayer City              | Text      |\n",
      "| Taxpayer State             | Text      |\n",
      "| Taxpayer Zip               | Text      |\n",
      "| Taxpayer County            | Text      |\n",
      "| Location Number            | Text      |\n",
      "| Location Name              | Text      |\n",
      "| Location Address           | Text      |\n",
      "| Location City              | Text      |\n",
      "| Location State             | Text      |\n",
      "| Location Zip               | Text      |\n",
      "| Location County            | Text      |\n",
      "| Inside/Outside City Limits | Boolean   |\n",
      "| TABC Permit Number         | Text      |\n",
      "| Responsibility Begin Date  | Date      |\n",
      "| Responsibility End Date    | Date      |\n",
      "| Obligation End Date        | Date      |\n",
      "| Liquor Receipts            | Number    |\n",
      "| Wine Receipts              | Number    |\n",
      "| Beer Receipts              | Number    |\n",
      "| Cover Charge Receipts      | Number    |\n",
      "| Total Receipts             | Number    |\n",
      "| Establishment              | Text      |\n",
      "\n"
     ]
    }
   ],
   "source": [
    "# Concatenates the name and address\n",
    "mixbev_establishment = mixbev_raw.compute([\n",
    "    ('Establishment', agate.Formula(agate.Text(), lambda row: '%(Location Name)s (%(Location Address)s)' % row))\n",
    "])\n",
    "\n",
    "# Prints columns so you see it is there\n",
    "print(mixbev_establishment)"
   ]
  },
  {
   "cell_type": "code",
   "execution_count": 9,
   "metadata": {
    "collapsed": false,
    "deletable": true,
    "editable": true
   },
   "outputs": [
    {
     "name": "stdout",
     "output_type": "stream",
     "text": [
      "| Establishment                                                     |\n",
      "| ----------------------------------------------------------------- |\n",
      "| ARAMARK EDUCATIONAL SERVICES OF TEXAS, LLC (3300 DYER ST STE 101) |\n",
      "| CANTINA EL CUBETAZO (4736 MAPLE AVE)                              |\n",
      "| CHILI'S GRILL & BAR (2700 WOOD RIDGE BLVD)                        |\n",
      "| MOONSHINE DRINKERY (103 W SANTA ROSA ST)                          |\n",
      "| SUGARTIME (2730 BILL MILLER LN)                                   |\n"
     ]
    }
   ],
   "source": [
    "# selects and prints Establishment to check what is looks like\n",
    "mixbev_establishment.select('Establishment').limit(5).print_table(max_column_width=80)"
   ]
  },
  {
   "cell_type": "markdown",
   "metadata": {
    "deletable": true,
    "editable": true
   },
   "source": [
    "### Import and merge counties lookup table\n",
    "We do this to get county names. I got this list from the comptroller.\n",
    "\n",
    "NOTE: Wisdom would suggest we join on the `code` column from counites, but the data.texas.gov data does not have the zero padding from those values, so I'm using the `id` column."
   ]
  },
  {
   "cell_type": "code",
   "execution_count": 10,
   "metadata": {
    "collapsed": false,
    "deletable": true,
    "editable": true
   },
   "outputs": [
    {
     "name": "stdout",
     "output_type": "stream",
     "text": [
      "| column | data_type |\n",
      "| ------ | --------- |\n",
      "| id     | Text      |\n",
      "| county | Text      |\n",
      "| code   | Text      |\n",
      "\n"
     ]
    }
   ],
   "source": [
    "# importing countes.csv, ensuring that the 'code' column is text\n",
    "counties = agate.Table.from_csv('counties.csv', column_types={\n",
    "    'code': agate.Text(),\n",
    "    'id': agate.Text()\n",
    "})\n",
    "\n",
    "# peek at the column names\n",
    "print(counties)"
   ]
  },
  {
   "cell_type": "code",
   "execution_count": 11,
   "metadata": {
    "collapsed": false,
    "deletable": true,
    "editable": true
   },
   "outputs": [
    {
     "name": "stdout",
     "output_type": "stream",
     "text": [
      "| id | county   | code |\n",
      "| -- | -------- | ---- |\n",
      "| 1  | Anderson | 001  |\n",
      "| 2  | Andrews  | 002  |\n",
      "| 3  | Angelina | 003  |\n",
      "| 4  | Aransas  | 004  |\n",
      "| 5  | Archer   | 005  |\n",
      "| column | data_type |\n",
      "| ------ | --------- |\n",
      "| id     | Text      |\n",
      "| county | Text      |\n",
      "| code   | Text      |\n",
      "\n"
     ]
    }
   ],
   "source": [
    "# peek at the data\n",
    "counties.limit(5).print_table()\n",
    "print(counties)"
   ]
  },
  {
   "cell_type": "code",
   "execution_count": 12,
   "metadata": {
    "collapsed": false,
    "deletable": true,
    "editable": true
   },
   "outputs": [
    {
     "name": "stdout",
     "output_type": "stream",
     "text": [
      "| column                     | data_type |\n",
      "| -------------------------- | --------- |\n",
      "| Taxpayer Number            | Text      |\n",
      "| Taxpayer Name              | Text      |\n",
      "| Taxpayer Address           | Text      |\n",
      "| Taxpayer City              | Text      |\n",
      "| Taxpayer State             | Text      |\n",
      "| Taxpayer Zip               | Text      |\n",
      "| Taxpayer County            | Text      |\n",
      "| Location Number            | Text      |\n",
      "| Location Name              | Text      |\n",
      "| Location Address           | Text      |\n",
      "| Location City              | Text      |\n",
      "| Location State             | Text      |\n",
      "| Location Zip               | Text      |\n",
      "| Location County            | Text      |\n",
      "| Inside/Outside City Limits | Boolean   |\n",
      "| TABC Permit Number         | Text      |\n",
      "| Responsibility Begin Date  | Date      |\n",
      "| Responsibility End Date    | Date      |\n",
      "| Obligation End Date        | Date      |\n",
      "| Liquor Receipts            | Number    |\n",
      "| Wine Receipts              | Number    |\n",
      "| Beer Receipts              | Number    |\n",
      "| Cover Charge Receipts      | Number    |\n",
      "| Total Receipts             | Number    |\n",
      "| Establishment              | Text      |\n",
      "| county                     | Text      |\n",
      "| code                       | Text      |\n",
      "\n",
      "| Taxpayer Number | Taxpayer Name        | Taxpayer Address     | Taxpayer City | Taxpayer State | Taxpayer Zip | ... |\n",
      "| --------------- | -------------------- | -------------------- | ------------- | -------------- | ------------ | --- |\n",
      "| 12317173321     | ARAMARK EDUCATION... | PO BOX 7548          | PHILADELPHIA  | PA             | 19101        | ... |\n",
      "| 32046754944     | ANA LUCIA VILLALTA   | 4736 MAPLE AVE       | DALLAS        | TX             | 75219        | ... |\n",
      "| 17519330587     | CHILI'S BEVERAGE ... | 6820 LYNDON B JOH... | DALLAS        | TX             | 75240        | ... |\n",
      "| 32053628460     | MOONSHINE DRINKER... | 2211 NORFOLK ST S... | HOUSTON       | TX             | 77098        | ... |\n",
      "| 32021273860     | SUGARTIME LOUNGE INC | PO BOX 23176         | SAN ANTONIO   | TX             | 78223        | ... |\n",
      "| 32056220901     | LOCAL GRINGOS, LLC   | 5911 MARQUITA AVE    | DALLAS        | TX             | 75206        | ... |\n",
      "| 17518726561     | I GOTCHA, INC.       | 7405 CAMP BOWIE W... | FORT WORTH    | TX             | 76116        | ... |\n",
      "| 32044242538     | JULIE'S COCINA, LLC  | PO BOX 661           | SPICEWOOD     | TX             | 78669        | ... |\n",
      "| 32063059532     | DEVLYNGC INCORPOR... | 155 COUNTRY CLUB RD  | WHITNEY       | TX             | 76692        | ... |\n",
      "| 32058027635     | M & S TACO SHOP -... | 3501 TOWNE CROSSI... | MESQUITE      | TX             | 75150        | ... |\n",
      "| 32050491532     | MARISCOS COCKRELL... | PO BOX 224728        | DALLAS        | TX             | 75222        | ... |\n",
      "| 17522391758     | ROSA'S CAFES, INC.   | 5000 OVERTON PLZ ... | FORT WORTH    | TX             | 76109        | ... |\n",
      "| 32059985542     | DJRB & COMPANY LLC   | 6796 TRUMP CT        | ROPESVILLE    | TX             | 79358        | ... |\n",
      "| 32043655409     | NAMPAW, LLC          | 13308 WESTHEIMER ... | HOUSTON       | TX             | 77077        | ... |\n",
      "| 17426162909     | CABANA BEVERAGES,... | 8111 MAINLAND DR ... | SAN ANTONIO   | TX             | 78240        | ... |\n",
      "| 32062121002     | 230 SLTC, LLC        | 9535 KATY FWY        | HOUSTON       | TX             | 77024        | ... |\n",
      "| 14119571074     | BLAZIN WINGS, INC.   | 5500 WAYZATA BLVD... | MINNEAPOLIS   | MN             | 55416        | ... |\n",
      "| 32059555394     | THE AMERICANA RES... | 6721 LIMESTONE ST    | HOUSTON       | TX             | 77092        | ... |\n",
      "| 12615478950     | DON JUAN'S INC.      | 402 S WALCOTT ST     | JEFFERSON     | TX             | 75657        | ... |\n",
      "| 17425949496     | SC BEVERAGE COMPANY  | 4001 MAPLE AVE ST... | DALLAS        | TX             | 75219        | ... |\n",
      "| ...             | ...                  | ...                  | ...           | ...            | ...          | ... |\n"
     ]
    }
   ],
   "source": [
    "# joines the counties table to the mixed bev cleaned data with establishments\n",
    "mixbev_joined = mixbev_establishment.join(counties, 'Location County', 'id')\n",
    "\n",
    "# check that the merge was succesful \n",
    "print(mixbev_joined)\n",
    "mixbev_joined.print_table()"
   ]
  },
  {
   "cell_type": "code",
   "execution_count": 13,
   "metadata": {
    "collapsed": false,
    "deletable": true,
    "editable": true
   },
   "outputs": [
    {
     "name": "stdout",
     "output_type": "stream",
     "text": [
      "| column        | data_type |\n",
      "| ------------- | --------- |\n",
      "| Name          | Text      |\n",
      "| Address       | Text      |\n",
      "| Establishment | Text      |\n",
      "| City          | Text      |\n",
      "| State         | Text      |\n",
      "| Zip           | Text      |\n",
      "| County        | Text      |\n",
      "| Receipts      | Number    |\n",
      "| Report date   | Date      |\n",
      "\n"
     ]
    }
   ],
   "source": [
    "# get just the columns we need and rename county\n",
    "# THIS is the finished, cleaned mixbev table\n",
    "mixbev = mixbev_joined.select([\n",
    "    'Location Name',\n",
    "    'Location Address',\n",
    "    'Establishment',\n",
    "    'Location City',\n",
    "    'Location State',\n",
    "    'Location Zip',\n",
    "    'county',\n",
    "    'Total Receipts',\n",
    "    'Obligation End Date'\n",
    "]).rename(column_names = {\n",
    "    'Location Name' : 'Name',\n",
    "    'Location Address' : 'Address',\n",
    "    'Location City': 'City',\n",
    "    'Location State': 'State',\n",
    "    'Location Zip': 'Zip',\n",
    "    'Total Receipts' : 'Receipts',\n",
    "    'county': 'County',\n",
    "    'Obligation End Date': 'Report date'\n",
    "})\n",
    "\n",
    "# peek at the column names\n",
    "print(mixbev)"
   ]
  },
  {
   "cell_type": "code",
   "execution_count": 14,
   "metadata": {
    "collapsed": false,
    "deletable": true,
    "editable": true
   },
   "outputs": [
    {
     "name": "stdout",
     "output_type": "stream",
     "text": [
      "| Name                 | Address              | Establishment        | City            | State | Zip   | ... |\n",
      "| -------------------- | -------------------- | -------------------- | --------------- | ----- | ----- | --- |\n",
      "| ARAMARK EDUCATION... | 3300 DYER ST STE 101 | ARAMARK EDUCATION... | UNIVERSITY PARK | TX    | 75205 | ... |\n",
      "| CANTINA EL CUBETAZO  | 4736 MAPLE AVE       | CANTINA EL CUBETA... | DALLAS          | TX    | 75219 | ... |\n",
      "| CHILI'S GRILL & BAR  | 2700 WOOD RIDGE BLVD | CHILI'S GRILL & B... | BRENHAM         | TX    | 77833 | ... |\n",
      "| MOONSHINE DRINKERY   | 103 W SANTA ROSA ST  | MOONSHINE DRINKER... | VICTORIA        | TX    | 77901 | ... |\n",
      "| SUGARTIME            | 2730 BILL MILLER LN  | SUGARTIME (2730 B... | SAN ANTONIO     | TX    | 78223 | ... |\n"
     ]
    }
   ],
   "source": [
    "# peek at the table\n",
    "mixbev.limit(5).print_table()"
   ]
  },
  {
   "cell_type": "markdown",
   "metadata": {
    "deletable": true,
    "editable": true
   },
   "source": [
    "## No need to view dates\n",
    "\n",
    "Previously we had to filter down to only the dates studied. As this stands now, we filtered to the correct date in Socrata BEFORE we exported. This might need to change once we pull from the API."
   ]
  },
  {
   "cell_type": "code",
   "execution_count": 15,
   "metadata": {
    "collapsed": false,
    "deletable": true,
    "editable": true
   },
   "outputs": [
    {
     "name": "stdout",
     "output_type": "stream",
     "text": [
      "| Report date |\n",
      "| ----------- |\n",
      "|  2017-10-31 |\n",
      "\n",
      "Number of records in table: 14753\n"
     ]
    }
   ],
   "source": [
    "# double-checking I'm looking at one report data\n",
    "mixbev_dates = mixbev.select('Report date').distinct('Report date')\n",
    "mixbev_dates.print_table()\n",
    "\n",
    "print('\\nNumber of records in table: {}'.format(\n",
    "        len(mixbev))\n",
    "     )"
   ]
  },
  {
   "cell_type": "markdown",
   "metadata": {
    "deletable": true,
    "editable": true
   },
   "source": [
    "## Top sales statewide\n",
    "\n",
    "Because we want to group our results by more than one field and perform more than one aggregation, we'll do this a little differently. We'll use group_by to create a grouped table, then perform aggregations on that new table to computer the Tax and Receipts columns."
   ]
  },
  {
   "cell_type": "code",
   "execution_count": 17,
   "metadata": {
    "collapsed": false,
    "deletable": true,
    "editable": true
   },
   "outputs": [
    {
     "name": "stdout",
     "output_type": "stream",
     "text": [
      "| Establishment                                                | County  | City        | Sales_sum |\n",
      "| ------------------------------------------------------------ | ------- | ----------- | --------- |\n",
      "| RYAN SANDERS SPORTS SERVICES, LLC (9201 CIRCUIT OF THE AM... | Travis  | DEL VALLE   | 2,904,593 |\n",
      "| AT&T STADIUM (1 LEGENDS WAY)                                 | Tarrant | ARLINGTON   | 2,819,059 |\n",
      "| GAYLORD TEXAN (1501 GAYLORD TRL)                             | Tarrant | GRAPEVINE   | 1,807,271 |\n",
      "| ARAMARK SPORTS & ENTERTAINMENT SERVICES OF TEXAS (501 CRA... | Harris  | HOUSTON     | 1,617,452 |\n",
      "| SALC, INC. (2201 N STEMMONS FWY FL 1)                        | Dallas  | DALLAS      | 1,555,285 |\n",
      "| HOSPITALITY INTERNATIONAL, INC. (23808 RESORT PKWY)          | Bexar   | SAN ANTONIO | 1,347,636 |\n",
      "| ARAMARK SPORTS & ENTERTAINMENT SER OF TEXAS INC (8355 KIR... | Harris  | HOUSTON     | 1,210,323 |\n",
      "| OMNI DALLAS CONVENTION CENTER (555 S LAMAR ST)               | Dallas  | DALLAS      | 1,207,948 |\n",
      "| LEVY RESTAURANTS (2500 VICTORY AVE)                          | Dallas  | DALLAS      | 1,194,981 |\n",
      "| WLS BEVERAGE CO (110 E 2ND ST)                               | Travis  | AUSTIN      | 1,178,366 |\n"
     ]
    }
   ],
   "source": [
    "# groups the data based on Establishment and City\n",
    "mixbev_grouped = mixbev.group_by('Establishment').group_by('County').group_by('City')\n",
    "\n",
    "# computes the sales based on the grouping\n",
    "state_summary = mixbev_grouped.aggregate([\n",
    "    ('Sales_sum', agate.Sum('Receipts'))\n",
    "])\n",
    "\n",
    "# sorts the results by most sold. We could probalby chain it above if we wanted to.\n",
    "state_summary_sorted = state_summary.order_by('Sales_sum', reverse=True)\n",
    "\n",
    "# prints the top 10 results\n",
    "state_summary_sorted.limit(10).print_table(max_column_width=60)"
   ]
  },
  {
   "cell_type": "markdown",
   "metadata": {
    "deletable": true,
    "editable": true
   },
   "source": [
    "## Overall statewide sum"
   ]
  },
  {
   "cell_type": "code",
   "execution_count": 18,
   "metadata": {
    "collapsed": false,
    "deletable": true,
    "editable": true
   },
   "outputs": [
    {
     "name": "stdout",
     "output_type": "stream",
     "text": [
      "Totalstatewide sales for this month are: 565676285\n"
     ]
    }
   ],
   "source": [
    "# summing sales statewide for month\n",
    "\n",
    "print('Totalstatewide sales for this month are: {}'.format(\n",
    "    mixbev.aggregate(agate.Sum('Receipts'))\n",
    "))\n",
    "\n"
   ]
  },
  {
   "cell_type": "markdown",
   "metadata": {
    "deletable": true,
    "editable": true
   },
   "source": [
    "## Location sums function\n",
    "\n",
    "Because we want to get the top sellers in a bunch of cities and couties, we create a function so we don't have to repeat the code. This function allows us to pass in a city or county name to filter the monthly receipts table and then sum the Tax and Receipts columns. The result can then be acted on to print or aggreggate."
   ]
  },
  {
   "cell_type": "code",
   "execution_count": 19,
   "metadata": {
    "collapsed": false,
    "deletable": true,
    "editable": true
   },
   "outputs": [],
   "source": [
    "# function to group sales by a specific location\n",
    "# City or County passed in should be ALL CAPS\n",
    "# Location_type can be 'City' or 'County'\n",
    "\n",
    "def location_sum(location_type, location):\n",
    "    # Filters the data to the specified city\n",
    "    location_filtered = mixbev.where(lambda row: row[location_type].upper() == location)\n",
    "\n",
    "    # groups the data based on Establishment and location\n",
    "    location_grouped = location_filtered.group_by('Establishment').group_by(location_type)\n",
    "    # computes the sales based on the grouping\n",
    "    location_summary = location_grouped.aggregate([\n",
    "        ('Receipts_sum', agate.Sum('Receipts'))\n",
    "    ])\n",
    "    \n",
    "    # sorts the results by most sold\n",
    "    location_summary_sorted = location_summary.order_by('Receipts_sum', reverse=True)\n",
    "    # prints the top 10 results\n",
    "    \n",
    "    return(location_summary_sorted)\n"
   ]
  },
  {
   "cell_type": "markdown",
   "metadata": {
    "deletable": true,
    "editable": true
   },
   "source": [
    "## Austin sales and sums\n",
    "\n",
    "With this, we refernce the location_sum function above, and pass the type of location (City) and the name of the city (AUSTIN). At the same time, we limit the result of that function to the first 10 records, and then print the results. We are basically stringing together a bunch of stuff at once."
   ]
  },
  {
   "cell_type": "code",
   "execution_count": 20,
   "metadata": {
    "collapsed": false,
    "deletable": true,
    "editable": true
   },
   "outputs": [
    {
     "name": "stdout",
     "output_type": "stream",
     "text": [
      "| Establishment                                                | City   | Receipts_sum |\n",
      "| ------------------------------------------------------------ | ------ | ------------ |\n",
      "| WLS BEVERAGE CO (110 E 2ND ST)                               | AUSTIN |    1,178,366 |\n",
      "| BLIND PIG PUB / PIG PEN (317 E 6TH ST)                       | AUSTIN |      613,631 |\n",
      "| 400 BAR/CUCARACHA/CHUPACABRA/JACKALOPE/MOOSENUCKLE (400 E... | AUSTIN |      543,720 |\n",
      "| W HOTEL AUSTIN (200 LAVACA ST)                               | AUSTIN |      471,173 |\n",
      "| ROSE ROOM/ 77 DEGREES (11500 ROCK ROSE AVE)                  | AUSTIN |      464,844 |\n"
     ]
    }
   ],
   "source": [
    "# uses the city_sum function to filter\n",
    "austin = location_sum('City', 'AUSTIN')\n",
    "\n",
    "# print the resulting table\n",
    "austin.limit(5).print_table(max_column_width=60)"
   ]
  },
  {
   "cell_type": "markdown",
   "metadata": {
    "deletable": true,
    "editable": true
   },
   "source": [
    "### String methods together to print a table\n",
    "So far, we've been printing tables, but Agate can also print charts. The **`print_bars`** method creates a simple, text-based bar chart."
   ]
  },
  {
   "cell_type": "code",
   "execution_count": 21,
   "metadata": {
    "collapsed": false,
    "deletable": true,
    "editable": true
   },
   "outputs": [
    {
     "name": "stdout",
     "output_type": "stream",
     "text": [
      "Establishment                                                     Receipts_sum\n",
      "WLS BEVERAGE CO (110 E 2ND ST)                                       1,178,366 ▓░░░░░░    \n",
      "BLIND PIG PUB / PIG PEN (317 E 6TH ST)                                 613,631 ▓░░░       \n",
      "400 BAR/CUCARACHA/CHUPACABRA/JACKALOPE/MOOSENUCKLE (400 E 6TH ST)      543,720 ▓░░░       \n",
      "W HOTEL AUSTIN (200 LAVACA ST)                                         471,173 ▓░░        \n",
      "ROSE ROOM/ 77 DEGREES (11500 ROCK ROSE AVE)                            464,844 ▓░░        \n",
      "SALC. INC.(HILTON HOTEL) (500 E 4TH ST)                                431,178 ▓░░        \n",
      "THE PALAZIO (501 E BEN WHITE BLVD)                                     430,533 ▓░░        \n",
      "STUBB'S BAR-B-Q (801 RED RIVER ST)                                     402,490 ▓░░        \n",
      "THE DOGWOOD DOMAIN (11420 ROCK ROSE AVE STE 700)                       401,258 ▓░░        \n",
      "CULINARY DROPOUT (11721 ROCK ROSE AVE STE Y4.100)                      373,495 ▓░░        \n",
      "                                                                               +---------+\n",
      "                                                                               0 2,000,000\n"
     ]
    }
   ],
   "source": [
    "# We'll use the same function, but instead of creating a new table,\n",
    "# we'll just string on the limit and print bars methods\n",
    "# print_bars needs to arguments, the label column and then the value to make the chart from\n",
    "location_sum('City', 'AUSTIN').limit(10).print_bars('Establishment', 'Receipts_sum', width=90)"
   ]
  },
  {
   "cell_type": "markdown",
   "metadata": {
    "deletable": true,
    "editable": true
   },
   "source": [
    "### Total sales Austin"
   ]
  },
  {
   "cell_type": "code",
   "execution_count": 22,
   "metadata": {
    "collapsed": false,
    "deletable": true,
    "editable": true
   },
   "outputs": [
    {
     "name": "stdout",
     "output_type": "stream",
     "text": [
      "Total sales in Austin are: 64614616\n"
     ]
    }
   ],
   "source": [
    "# Austin total sales as s city\n",
    "# This sums the grouped table, but it works\n",
    "\n",
    "print('Total sales in Austin are: {}'.format(\n",
    "    location_sum('City', 'AUSTIN').aggregate(agate.Sum('Receipts_sum'))\n",
    "))"
   ]
  },
  {
   "cell_type": "markdown",
   "metadata": {
    "deletable": true,
    "editable": true
   },
   "source": [
    "## More Central Texas cities"
   ]
  },
  {
   "cell_type": "code",
   "execution_count": 23,
   "metadata": {
    "collapsed": false,
    "deletable": true,
    "editable": true
   },
   "outputs": [
    {
     "name": "stdout",
     "output_type": "stream",
     "text": [
      "| Establishment                                                | City    | Receipts_sum |\n",
      "| ------------------------------------------------------------ | ------- | ------------ |\n",
      "| OLD TOWN RESTURANT AND BAR/PINEY CREEK CHOP HOUSE (931 MA... | BASTROP |       68,015 |\n",
      "| CHILI'S GRILL & BAR (734 HIGHWAY 71 W)                       | BASTROP |       51,414 |\n",
      "| NEIGHBOR'S (601 CHESTNUT ST UNIT C)                          | BASTROP |       39,112 |\n",
      "| BACK 9 (834 HIGHWAY 71 W)                                    | BASTROP |       35,749 |\n",
      "| THE 602 ON MAIN (919 MAIN ST)                                | BASTROP |       27,938 |\n"
     ]
    }
   ],
   "source": [
    "location_sum('City', 'BASTROP').limit(5).print_table(max_column_width=60)"
   ]
  },
  {
   "cell_type": "code",
   "execution_count": 24,
   "metadata": {
    "collapsed": false,
    "deletable": true,
    "editable": true
   },
   "outputs": [
    {
     "name": "stdout",
     "output_type": "stream",
     "text": [
      "| Establishment                                         | City     | Receipts_sum |\n",
      "| ----------------------------------------------------- | -------- | ------------ |\n",
      "| WOODY TAVERN AND GRILL, INC. (12801 SHOPS PKWY # 100) | BEE CAVE |      119,842 |\n",
      "| HCG BEVERAGE, LLC (12525 BEE CAVE PKWY)               | BEE CAVE |       89,746 |\n",
      "| MAUDIE'S HILL COUNTRY, LLC (12506 SHOPS PKWY)         | BEE CAVE |       80,255 |\n"
     ]
    }
   ],
   "source": [
    "location_sum('City', 'BEE CAVE').limit(3).print_table(max_column_width=60)"
   ]
  },
  {
   "cell_type": "code",
   "execution_count": 25,
   "metadata": {
    "collapsed": false,
    "deletable": true,
    "editable": true
   },
   "outputs": [
    {
     "name": "stdout",
     "output_type": "stream",
     "text": [
      "| Establishment                                               | City | Receipts_sum |\n",
      "| ----------------------------------------------------------- | ---- | ------------ |\n",
      "| WILLIE'S JOINT (824 MAIN ST)                                | BUDA |       92,781 |\n",
      "| BUCKS BACKYARD (1750 S FM 1626)                             | BUDA |       55,582 |\n",
      "| NATE'S AT BUDA MILL AND GRAIN, INC. (306 S MAIN ST STE 101) | BUDA |       52,176 |\n"
     ]
    }
   ],
   "source": [
    "location_sum('City', 'BUDA').limit(3).print_table(max_column_width=60)"
   ]
  },
  {
   "cell_type": "code",
   "execution_count": 26,
   "metadata": {
    "collapsed": false,
    "deletable": true,
    "editable": true
   },
   "outputs": [
    {
     "name": "stdout",
     "output_type": "stream",
     "text": [
      "| Establishment                                                | City       | Receipts_sum |\n",
      "| ------------------------------------------------------------ | ---------- | ------------ |\n",
      "| THE GROVE WINE BAR AND KITCHEN (1310 E WHITESTONE BLVD # ... | CEDAR PARK |      146,565 |\n",
      "| CHUY'S (4911 183A TOLL RD)                                   | CEDAR PARK |      111,575 |\n",
      "| PLUCKERS WING BAR (11066 PECAN PARK BLVD STE G)              | CEDAR PARK |      100,934 |\n"
     ]
    }
   ],
   "source": [
    "location_sum('City', 'CEDAR PARK').limit(3).print_table(max_column_width=60)"
   ]
  },
  {
   "cell_type": "code",
   "execution_count": 27,
   "metadata": {
    "collapsed": false,
    "deletable": true,
    "editable": true
   },
   "outputs": [
    {
     "name": "stdout",
     "output_type": "stream",
     "text": [
      "| Establishment                                             | City             | Receipts_sum |\n",
      "| --------------------------------------------------------- | ---------------- | ------------ |\n",
      "| TREATY OAK BREWING AND DISTILLING CO. (16604 FITZHUGH RD) | DRIPPING SPRINGS |       67,637 |\n",
      "| TRUDY'S FOUR STAR (13059 FOUR STAR BLVD)                  | DRIPPING SPRINGS |       65,010 |\n",
      "| FLORES MEXICAN RESTAURANT (2440 E HIGHWAY 290 BLDG D)     | DRIPPING SPRINGS |       57,566 |\n"
     ]
    }
   ],
   "source": [
    "location_sum('City', 'DRIPPING SPRINGS').limit(3).print_table(max_column_width=60)"
   ]
  },
  {
   "cell_type": "code",
   "execution_count": 28,
   "metadata": {
    "collapsed": false,
    "deletable": true,
    "editable": true
   },
   "outputs": [
    {
     "name": "stdout",
     "output_type": "stream",
     "text": [
      "| Establishment                              | City       | Receipts_sum |\n",
      "| ------------------------------------------ | ---------- | ------------ |\n",
      "| EL MONUMENTO (205 W 2ND ST)                | GEORGETOWN |       82,834 |\n",
      "| GATEWAY BEVERAGES, INC (1101 WOODLAWN AVE) | GEORGETOWN |       73,446 |\n",
      "| DOS SALSAS CAFE INC (1104 S MAIN ST)       | GEORGETOWN |       66,860 |\n"
     ]
    }
   ],
   "source": [
    "location_sum('City', 'GEORGETOWN').limit(3).print_table(max_column_width=60)"
   ]
  },
  {
   "cell_type": "code",
   "execution_count": 29,
   "metadata": {
    "collapsed": false,
    "deletable": true,
    "editable": true
   },
   "outputs": [
    {
     "name": "stdout",
     "output_type": "stream",
     "text": [
      "| Establishment                                           | City | Receipts_sum |\n",
      "| ------------------------------------------------------- | ---- | ------------ |\n",
      "| CASA GARCIA'S MEXICAN RESTAURANT (5401 FM 1626 STE 300) | KYLE |       68,336 |\n",
      "| CENTERFIELD SPORTS BAR & GRILL (200 W CENTER ST)        | KYLE |       41,290 |\n",
      "| EVO ENTERTAINMENT CENTER (3200 KYLE XING)               | KYLE |       38,776 |\n"
     ]
    }
   ],
   "source": [
    "location_sum('City', 'KYLE').limit(3).print_table(max_column_width=60)"
   ]
  },
  {
   "cell_type": "code",
   "execution_count": 30,
   "metadata": {
    "collapsed": false,
    "deletable": true,
    "editable": true
   },
   "outputs": [
    {
     "name": "stdout",
     "output_type": "stream",
     "text": [
      "| Establishment                                         | City       | Receipts_sum |\n",
      "| ----------------------------------------------------- | ---------- | ------------ |\n",
      "| THE GNARLY GAR (18200 LAKEPOINT CV)                   | LAGO VISTA |       45,615 |\n",
      "| THE GRILLE AT HIGHLAND LAKES (20552 HIGHLAND LAKE DR) | LAGO VISTA |       18,417 |\n",
      "| COPPERHEAD GRILL (6115 LOHMANS FORD RD)               | LAGO VISTA |       18,136 |\n"
     ]
    }
   ],
   "source": [
    "location_sum('City', 'LAGO VISTA').limit(3).print_table(max_column_width=60)"
   ]
  },
  {
   "cell_type": "code",
   "execution_count": 31,
   "metadata": {
    "collapsed": false,
    "deletable": true,
    "editable": true
   },
   "outputs": [
    {
     "name": "stdout",
     "output_type": "stream",
     "text": [
      "| Establishment                                          | City    | Receipts_sum |\n",
      "| ------------------------------------------------------ | ------- | ------------ |\n",
      "| LAKEWAY RESORT AND SPA (101 LAKEWAY DR)                | LAKEWAY |      122,046 |\n",
      "| THE GROVE WINE BAR AND KITCHEN (3001 RANCH ROAD 620 S) | LAKEWAY |      114,445 |\n",
      "| THE HILLS AT LAKEWAY (26 CLUB ESTATES PKWY)            | LAKEWAY |      105,234 |\n"
     ]
    }
   ],
   "source": [
    "location_sum('City', 'LAKEWAY').limit(3).print_table(max_column_width=60)"
   ]
  },
  {
   "cell_type": "code",
   "execution_count": 32,
   "metadata": {
    "collapsed": false,
    "deletable": true,
    "editable": true
   },
   "outputs": [
    {
     "name": "stdout",
     "output_type": "stream",
     "text": [
      "| Establishment                                          | City    | Receipts_sum |\n",
      "| ------------------------------------------------------ | ------- | ------------ |\n",
      "| BROOKLYN HEIGHTS PIZZERIA (3550 LAKELINE BLVD STE 135) | LEANDER |       66,322 |\n",
      "| JARDIN DEL REY (703 S HIGHWAY 183)                     | LEANDER |       37,707 |\n",
      "| TAPATIA JALISCO #3 LLC (651 N US 183)                  | LEANDER |       12,443 |\n"
     ]
    }
   ],
   "source": [
    "location_sum('City', 'LEANDER').limit(3).print_table(max_column_width=60)"
   ]
  },
  {
   "cell_type": "code",
   "execution_count": 33,
   "metadata": {
    "collapsed": false,
    "deletable": true,
    "editable": true
   },
   "outputs": [
    {
     "name": "stdout",
     "output_type": "stream",
     "text": [
      "| Establishment                                        | City         | Receipts_sum |\n",
      "| ---------------------------------------------------- | ------------ | ------------ |\n",
      "| JARDIN CORONA (15395 W STATE HIGHWAY 29)             | LIBERTY HILL |       39,688 |\n",
      "| MARGARITA'S RESTAURANT (10280 W STATE HIGHWAY 29)    | LIBERTY HILL |       34,860 |\n",
      "| ELENAS MEXICAN RESTAURANT (14801 W STATE HIGHWAY 29) | LIBERTY HILL |        6,084 |\n"
     ]
    }
   ],
   "source": [
    "location_sum('City', 'LIBERTY HILL').limit(3).print_table(max_column_width=60)"
   ]
  },
  {
   "cell_type": "code",
   "execution_count": 34,
   "metadata": {
    "collapsed": false,
    "deletable": true,
    "editable": true
   },
   "outputs": [
    {
     "name": "stdout",
     "output_type": "stream",
     "text": [
      "| Establishment                                  | City         | Receipts_sum |\n",
      "| ---------------------------------------------- | ------------ | ------------ |\n",
      "| MAVERICKS (1700 GRAND AVENUE PKWY STE 240)     | PFLUGERVILLE |      118,474 |\n",
      "| HANOVER'S DRAUGHT HAUS (108 E MAIN ST)         | PFLUGERVILLE |       72,874 |\n",
      "| RIO GRANDE TEX MEX (15821 CENTRAL COMMERCE DR) | PFLUGERVILLE |       54,604 |\n"
     ]
    }
   ],
   "source": [
    "location_sum('City', 'PFLUGERVILLE').limit(3).print_table(max_column_width=60)"
   ]
  },
  {
   "cell_type": "code",
   "execution_count": 35,
   "metadata": {
    "collapsed": false,
    "deletable": true,
    "editable": true
   },
   "outputs": [
    {
     "name": "stdout",
     "output_type": "stream",
     "text": [
      "| Establishment                                             | City       | Receipts_sum |\n",
      "| --------------------------------------------------------- | ---------- | ------------ |\n",
      "| THIRD BASE ROUND ROCK, LLC (3107 S INTERSTATE 35 STE 810) | ROUND ROCK |      154,984 |\n",
      "| TWIN PEAKS RESTAURANT (100 LOUIS HENNA BLVD)              | ROUND ROCK |      149,813 |\n",
      "| RICK'S CABARET (3105 S INTERSTATE 35)                     | ROUND ROCK |      138,443 |\n",
      "| JACK ALLEN'S KITCHEN (2500 HOPPE TRL)                     | ROUND ROCK |      131,938 |\n",
      "| PLUCKERS WING BAR (300 MAYS XING STE 300)                 | ROUND ROCK |      117,160 |\n"
     ]
    }
   ],
   "source": [
    "location_sum('City', 'ROUND ROCK').limit(5).print_table(max_column_width=60)"
   ]
  },
  {
   "cell_type": "code",
   "execution_count": 36,
   "metadata": {
    "collapsed": false,
    "deletable": true,
    "editable": true
   },
   "outputs": [
    {
     "name": "stdout",
     "output_type": "stream",
     "text": [
      "| Establishment                                              | City       | Receipts_sum |\n",
      "| ---------------------------------------------------------- | ---------- | ------------ |\n",
      "| PLUCKERS WING BAR (105 N INTERSTATE 35)                    | SAN MARCOS |      121,763 |\n",
      "| THE MARC (120 E SAN ANTONIO ST)                            | SAN MARCOS |      120,155 |\n",
      "| ZELICKS (336 W HOPKINS ST)                                 | SAN MARCOS |      110,193 |\n",
      "| 54TH STREET RESTAURANT & DRAFTHOUSE (1303 S INTERSTATE 35) | SAN MARCOS |       92,174 |\n",
      "| CHIMY'S SAN MARCOS (217 E HOPKINS ST)                      | SAN MARCOS |       91,857 |\n"
     ]
    }
   ],
   "source": [
    "location_sum('City', 'SAN MARCOS').limit(5).print_table(max_column_width=60)"
   ]
  },
  {
   "cell_type": "code",
   "execution_count": 37,
   "metadata": {
    "collapsed": false,
    "deletable": true,
    "editable": true
   },
   "outputs": [
    {
     "name": "stdout",
     "output_type": "stream",
     "text": [
      "| Establishment                                        | City      | Receipts_sum |\n",
      "| ---------------------------------------------------- | --------- | ------------ |\n",
      "| ANGEL'S ICEHOUSE (21815 W HWY 71)                    | SPICEWOOD |       58,696 |\n",
      "| POODIES HILLTOP ROADHOUSE (22308 STATE HIGHWAY 71 W) | SPICEWOOD |       44,614 |\n",
      "| J5 STEAKHOUSE (21814 STATE HIGHWAY 71 W)             | SPICEWOOD |       22,367 |\n"
     ]
    }
   ],
   "source": [
    "location_sum('City', 'SPICEWOOD').limit(3).print_table(max_column_width=60)"
   ]
  },
  {
   "cell_type": "code",
   "execution_count": 38,
   "metadata": {
    "collapsed": false,
    "deletable": true,
    "editable": true
   },
   "outputs": [
    {
     "name": "stdout",
     "output_type": "stream",
     "text": [
      "| Establishment                                          | City          | Receipts_sum |\n",
      "| ------------------------------------------------------ | ------------- | ------------ |\n",
      "| DOC'S BACKYARD (5207 BRODIE LN # 100)                  | SUNSET VALLEY |       89,901 |\n",
      "| BJ'S RESTAURANT AND BREWHOUSE (5207 BRODIE LN STE 300) | SUNSET VALLEY |       64,383 |\n",
      "| CANE ROSSO (4715 S LAMAR BLVD STE 103)                 | SUNSET VALLEY |       30,800 |\n"
     ]
    }
   ],
   "source": [
    "location_sum('City', 'SUNSET VALLEY').limit(3).print_table(max_column_width=60)"
   ]
  },
  {
   "cell_type": "code",
   "execution_count": 39,
   "metadata": {
    "collapsed": false,
    "deletable": true,
    "editable": true
   },
   "outputs": [
    {
     "name": "stdout",
     "output_type": "stream",
     "text": [
      "| Establishment                                                | City            | Receipts_sum |\n",
      "| ------------------------------------------------------------ | --------------- | ------------ |\n",
      "| LUPE TORTILLA MEXICAN RESTAURANT (701 S CAPITAL OF TEXAS ... | WEST LAKE HILLS |       90,865 |\n",
      "| CHIPOTLE CHIPOTLE MEXICAN GRILL CHIPOTLE BURRITOS (3300 B... | WEST LAKE HILLS |          743 |\n"
     ]
    }
   ],
   "source": [
    "location_sum('City', 'WEST LAKE HILLS').limit(3).print_table(max_column_width=60)"
   ]
  },
  {
   "cell_type": "markdown",
   "metadata": {
    "deletable": true,
    "editable": true
   },
   "source": [
    "## Sales by county\n",
    "\n",
    "In this case, we pass in the location type of 'County' and then a county name in caps to get the most sales in a particular county."
   ]
  },
  {
   "cell_type": "code",
   "execution_count": 40,
   "metadata": {
    "collapsed": false,
    "deletable": true,
    "editable": true,
    "scrolled": true
   },
   "outputs": [
    {
     "name": "stdout",
     "output_type": "stream",
     "text": [
      "| Establishment                                                   | County  | Receipts_sum |\n",
      "| --------------------------------------------------------------- | ------- | ------------ |\n",
      "| LOST PINES BEVERAGE LLC (575 HYATT LOST PINES ROAD)             | Bastrop |      572,969 |\n",
      "| OLD TOWN RESTURANT AND BAR/PINEY CREEK CHOP HOUSE (931 MAIN ST) | Bastrop |       68,015 |\n",
      "| CHILI'S GRILL & BAR (734 HIGHWAY 71 W)                          | Bastrop |       51,414 |\n",
      "| NEIGHBOR'S (601 CHESTNUT ST UNIT C)                             | Bastrop |       39,112 |\n",
      "| BACK 9 (834 HIGHWAY 71 W)                                       | Bastrop |       35,749 |\n"
     ]
    }
   ],
   "source": [
    "location_sum('County', 'BASTROP').limit(5).print_table(max_column_width=80)"
   ]
  },
  {
   "cell_type": "code",
   "execution_count": 41,
   "metadata": {
    "collapsed": false,
    "deletable": true,
    "editable": true
   },
   "outputs": [
    {
     "name": "stdout",
     "output_type": "stream",
     "text": [
      "| Establishment                                               | County   | Receipts_sum |\n",
      "| ----------------------------------------------------------- | -------- | ------------ |\n",
      "| EL REY BAR/NIGHTCLUB (1721 S COMMERCE ST)                   | Caldwell |       32,103 |\n",
      "| GUADALAJARA MEXICAN RESTAURANT (1710 S COLORADO ST STE 110) | Caldwell |       15,866 |\n",
      "| THE PEARL (110 N MAIN ST)                                   | Caldwell |       12,249 |\n"
     ]
    }
   ],
   "source": [
    "location_sum('County', 'CALDWELL').limit(3).print_table(max_column_width=80)"
   ]
  },
  {
   "cell_type": "code",
   "execution_count": 42,
   "metadata": {
    "collapsed": false,
    "deletable": true,
    "editable": true
   },
   "outputs": [
    {
     "name": "stdout",
     "output_type": "stream",
     "text": [
      "| Establishment                           | County | Receipts_sum |\n",
      "| --------------------------------------- | ------ | ------------ |\n",
      "| PLUCKERS WING BAR (105 N INTERSTATE 35) | Hays   |      121,763 |\n",
      "| THE MARC (120 E SAN ANTONIO ST)         | Hays   |      120,155 |\n",
      "| ZELICKS (336 W HOPKINS ST)              | Hays   |      110,193 |\n"
     ]
    }
   ],
   "source": [
    "location_sum('County', 'HAYS').limit(3).print_table(max_column_width=80)"
   ]
  },
  {
   "cell_type": "code",
   "execution_count": 43,
   "metadata": {
    "collapsed": false,
    "deletable": true,
    "editable": true
   },
   "outputs": [
    {
     "name": "stdout",
     "output_type": "stream",
     "text": [
      "| Establishment                                                         | County | Receipts_sum |\n",
      "| --------------------------------------------------------------------- | ------ | ------------ |\n",
      "| RYAN SANDERS SPORTS SERVICES, LLC (9201 CIRCUIT OF THE AMERICAS BLVD) | Travis |    2,904,593 |\n",
      "| WLS BEVERAGE CO (110 E 2ND ST)                                        | Travis |    1,178,366 |\n",
      "| BLIND PIG PUB / PIG PEN (317 E 6TH ST)                                | Travis |      613,631 |\n"
     ]
    }
   ],
   "source": [
    "location_sum('County', 'TRAVIS').limit(3).print_table(max_column_width=80)"
   ]
  },
  {
   "cell_type": "code",
   "execution_count": 44,
   "metadata": {
    "collapsed": false,
    "deletable": true,
    "editable": true
   },
   "outputs": [
    {
     "name": "stdout",
     "output_type": "stream",
     "text": [
      "| Establishment                                                 | County     | Receipts_sum |\n",
      "| ------------------------------------------------------------- | ---------- | ------------ |\n",
      "| TWIN PEAKS RESTAURANT (100 LOUIS HENNA BLVD)                  | Williamson |      149,813 |\n",
      "| THE GROVE WINE BAR AND KITCHEN (1310 E WHITESTONE BLVD # 500) | Williamson |      146,565 |\n",
      "| ALAMO DRAFTHOUSE CINEMA (14028 N HIGHWAY 183 BLDG F)          | Williamson |      145,688 |\n"
     ]
    }
   ],
   "source": [
    "location_sum('County', 'WILLIAMSON').limit(3).print_table(max_column_width=80)"
   ]
  },
  {
   "cell_type": "markdown",
   "metadata": {
    "deletable": true,
    "editable": true
   },
   "source": [
    "## Sales by ZIP Code\n",
    "For this, we'll do a simple pivot on Zip, but instead of using the default Count method, we'll pass in an aggregation to add the Tax values together for all the Zips. Whe then order_by in reverse to get the top values."
   ]
  },
  {
   "cell_type": "code",
   "execution_count": 45,
   "metadata": {
    "collapsed": false,
    "deletable": true,
    "editable": true
   },
   "outputs": [
    {
     "name": "stdout",
     "output_type": "stream",
     "text": [
      "| Zip   |        Sum |\n",
      "| ----- | ---------- |\n",
      "| 78701 | 25,150,987 |\n",
      "| 75201 | 13,006,593 |\n",
      "| 78205 |  9,100,329 |\n",
      "| 77002 |  7,677,477 |\n",
      "| 76011 |  7,500,736 |\n"
     ]
    }
   ],
   "source": [
    "# top zip code gross receipts\n",
    "zip_receipts = mixbev.pivot('Zip', aggregation=agate.Sum('Receipts')).order_by('Sum', reverse=True)\n",
    "zip_receipts.limit(5).print_table()"
   ]
  },
  {
   "cell_type": "code",
   "execution_count": null,
   "metadata": {
    "collapsed": true,
    "deletable": true,
    "editable": true
   },
   "outputs": [],
   "source": []
  }
 ],
 "metadata": {
  "kernelspec": {
   "display_name": "Python 3",
   "language": "python",
   "name": "python3"
  },
  "language_info": {
   "codemirror_mode": {
    "name": "ipython",
    "version": 3
   },
   "file_extension": ".py",
   "mimetype": "text/x-python",
   "name": "python",
   "nbconvert_exporter": "python",
   "pygments_lexer": "ipython3",
   "version": "3.6.1"
  }
 },
 "nbformat": 4,
 "nbformat_minor": 2
}
